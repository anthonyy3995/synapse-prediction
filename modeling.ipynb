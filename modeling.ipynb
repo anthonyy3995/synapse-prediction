{
 "cells": [
  {
   "cell_type": "code",
   "execution_count": 1,
   "id": "d15abeb2",
   "metadata": {},
   "outputs": [],
   "source": [
    "import numpy as np\n",
    "import pandas as pd\n",
    "import matplotlib.pyplot as plt\n",
    "import seaborn as sns\n",
    "\n",
    "from sklearn.model_selection import train_test_split\n",
    "from sklearn.preprocessing import StandardScaler"
   ]
  },
  {
   "cell_type": "code",
   "execution_count": 2,
   "id": "4beae4ab",
   "metadata": {},
   "outputs": [],
   "source": [
    "#vars\n",
    "train_dir = \"./data/\"\n",
    "train_set = \"processed_train_data_2.csv\" #train_data_polar.csv\n",
    "train_path = train_dir + train_set"
   ]
  },
  {
   "cell_type": "code",
   "execution_count": 3,
   "id": "4f42123b",
   "metadata": {},
   "outputs": [],
   "source": [
    "data = pd.read_csv(train_path)"
   ]
  },
  {
   "cell_type": "code",
   "execution_count": 4,
   "id": "21f9c549",
   "metadata": {},
   "outputs": [
    {
     "data": {
      "text/html": [
       "<div>\n",
       "<style scoped>\n",
       "    .dataframe tbody tr th:only-of-type {\n",
       "        vertical-align: middle;\n",
       "    }\n",
       "\n",
       "    .dataframe tbody tr th {\n",
       "        vertical-align: top;\n",
       "    }\n",
       "\n",
       "    .dataframe thead th {\n",
       "        text-align: right;\n",
       "    }\n",
       "</style>\n",
       "<table border=\"1\" class=\"dataframe\">\n",
       "  <thead>\n",
       "    <tr style=\"text-align: right;\">\n",
       "      <th></th>\n",
       "      <th>ID</th>\n",
       "      <th>axonal_coor_x</th>\n",
       "      <th>axonal_coor_y</th>\n",
       "      <th>axonal_coor_z</th>\n",
       "      <th>dendritic_coor_x</th>\n",
       "      <th>dendritic_coor_y</th>\n",
       "      <th>dendritic_coor_z</th>\n",
       "      <th>adp_dist</th>\n",
       "      <th>post_skeletal_distance_to_soma</th>\n",
       "      <th>pre_skeletal_distance_to_soma</th>\n",
       "      <th>...</th>\n",
       "      <th>compartment_axon</th>\n",
       "      <th>compartment_basal</th>\n",
       "      <th>compartment_oblique</th>\n",
       "      <th>compartment_soma</th>\n",
       "      <th>pre_angle</th>\n",
       "      <th>post_angle</th>\n",
       "      <th>nucleus_dist</th>\n",
       "      <th>test_score_diff</th>\n",
       "      <th>oracle_diff</th>\n",
       "      <th>rf_dist</th>\n",
       "    </tr>\n",
       "  </thead>\n",
       "  <tbody>\n",
       "    <tr>\n",
       "      <th>0</th>\n",
       "      <td>42593</td>\n",
       "      <td>1187660</td>\n",
       "      <td>411978</td>\n",
       "      <td>1089020</td>\n",
       "      <td>1187390</td>\n",
       "      <td>412220</td>\n",
       "      <td>1089160</td>\n",
       "      <td>304.185</td>\n",
       "      <td>353043.0</td>\n",
       "      <td>1182170.0</td>\n",
       "      <td>...</td>\n",
       "      <td>1</td>\n",
       "      <td>0</td>\n",
       "      <td>0</td>\n",
       "      <td>0</td>\n",
       "      <td>0.001596</td>\n",
       "      <td>0.002060</td>\n",
       "      <td>185207.121418</td>\n",
       "      <td>-0.189277</td>\n",
       "      <td>0.034922</td>\n",
       "      <td>340.234956</td>\n",
       "    </tr>\n",
       "    <tr>\n",
       "      <th>1</th>\n",
       "      <td>42594</td>\n",
       "      <td>1204580</td>\n",
       "      <td>682542</td>\n",
       "      <td>873138</td>\n",
       "      <td>1204640</td>\n",
       "      <td>682870</td>\n",
       "      <td>873890</td>\n",
       "      <td>725.431</td>\n",
       "      <td>244156.0</td>\n",
       "      <td>914243.0</td>\n",
       "      <td>...</td>\n",
       "      <td>1</td>\n",
       "      <td>0</td>\n",
       "      <td>0</td>\n",
       "      <td>0</td>\n",
       "      <td>0.003519</td>\n",
       "      <td>0.004140</td>\n",
       "      <td>185207.121418</td>\n",
       "      <td>-0.189277</td>\n",
       "      <td>0.034922</td>\n",
       "      <td>340.234956</td>\n",
       "    </tr>\n",
       "    <tr>\n",
       "      <th>2</th>\n",
       "      <td>42595</td>\n",
       "      <td>1191790</td>\n",
       "      <td>403683</td>\n",
       "      <td>1093180</td>\n",
       "      <td>1188590</td>\n",
       "      <td>402414</td>\n",
       "      <td>1092660</td>\n",
       "      <td>3423.030</td>\n",
       "      <td>363829.0</td>\n",
       "      <td>1171820.0</td>\n",
       "      <td>...</td>\n",
       "      <td>1</td>\n",
       "      <td>0</td>\n",
       "      <td>0</td>\n",
       "      <td>0</td>\n",
       "      <td>0.010978</td>\n",
       "      <td>0.017791</td>\n",
       "      <td>185207.121418</td>\n",
       "      <td>-0.189277</td>\n",
       "      <td>0.034922</td>\n",
       "      <td>340.234956</td>\n",
       "    </tr>\n",
       "    <tr>\n",
       "      <th>3</th>\n",
       "      <td>42596</td>\n",
       "      <td>1184320</td>\n",
       "      <td>419286</td>\n",
       "      <td>1082930</td>\n",
       "      <td>1186620</td>\n",
       "      <td>419721</td>\n",
       "      <td>1085540</td>\n",
       "      <td>3442.390</td>\n",
       "      <td>344267.0</td>\n",
       "      <td>1192340.0</td>\n",
       "      <td>...</td>\n",
       "      <td>1</td>\n",
       "      <td>0</td>\n",
       "      <td>0</td>\n",
       "      <td>0</td>\n",
       "      <td>0.014778</td>\n",
       "      <td>0.015690</td>\n",
       "      <td>185207.121418</td>\n",
       "      <td>-0.189277</td>\n",
       "      <td>0.034922</td>\n",
       "      <td>340.234956</td>\n",
       "    </tr>\n",
       "    <tr>\n",
       "      <th>4</th>\n",
       "      <td>42597</td>\n",
       "      <td>1189150</td>\n",
       "      <td>673302</td>\n",
       "      <td>944202</td>\n",
       "      <td>1188790</td>\n",
       "      <td>677771</td>\n",
       "      <td>942901</td>\n",
       "      <td>4442.380</td>\n",
       "      <td>313630.0</td>\n",
       "      <td>788566.0</td>\n",
       "      <td>...</td>\n",
       "      <td>1</td>\n",
       "      <td>0</td>\n",
       "      <td>0</td>\n",
       "      <td>0</td>\n",
       "      <td>0.027954</td>\n",
       "      <td>0.010196</td>\n",
       "      <td>185207.121418</td>\n",
       "      <td>-0.189277</td>\n",
       "      <td>0.034922</td>\n",
       "      <td>340.234956</td>\n",
       "    </tr>\n",
       "  </tbody>\n",
       "</table>\n",
       "<p>5 rows × 34 columns</p>\n",
       "</div>"
      ],
      "text/plain": [
       "      ID  axonal_coor_x  axonal_coor_y  axonal_coor_z  dendritic_coor_x  \\\n",
       "0  42593        1187660         411978        1089020           1187390   \n",
       "1  42594        1204580         682542         873138           1204640   \n",
       "2  42595        1191790         403683        1093180           1188590   \n",
       "3  42596        1184320         419286        1082930           1186620   \n",
       "4  42597        1189150         673302         944202           1188790   \n",
       "\n",
       "   dendritic_coor_y  dendritic_coor_z  adp_dist  \\\n",
       "0            412220           1089160   304.185   \n",
       "1            682870            873890   725.431   \n",
       "2            402414           1092660  3423.030   \n",
       "3            419721           1085540  3442.390   \n",
       "4            677771            942901  4442.380   \n",
       "\n",
       "   post_skeletal_distance_to_soma  pre_skeletal_distance_to_soma  ...  \\\n",
       "0                        353043.0                      1182170.0  ...   \n",
       "1                        244156.0                       914243.0  ...   \n",
       "2                        363829.0                      1171820.0  ...   \n",
       "3                        344267.0                      1192340.0  ...   \n",
       "4                        313630.0                       788566.0  ...   \n",
       "\n",
       "   compartment_axon  compartment_basal  compartment_oblique  compartment_soma  \\\n",
       "0                 1                  0                    0                 0   \n",
       "1                 1                  0                    0                 0   \n",
       "2                 1                  0                    0                 0   \n",
       "3                 1                  0                    0                 0   \n",
       "4                 1                  0                    0                 0   \n",
       "\n",
       "   pre_angle  post_angle   nucleus_dist  test_score_diff  oracle_diff  \\\n",
       "0   0.001596    0.002060  185207.121418        -0.189277     0.034922   \n",
       "1   0.003519    0.004140  185207.121418        -0.189277     0.034922   \n",
       "2   0.010978    0.017791  185207.121418        -0.189277     0.034922   \n",
       "3   0.014778    0.015690  185207.121418        -0.189277     0.034922   \n",
       "4   0.027954    0.010196  185207.121418        -0.189277     0.034922   \n",
       "\n",
       "      rf_dist  \n",
       "0  340.234956  \n",
       "1  340.234956  \n",
       "2  340.234956  \n",
       "3  340.234956  \n",
       "4  340.234956  \n",
       "\n",
       "[5 rows x 34 columns]"
      ]
     },
     "execution_count": 4,
     "metadata": {},
     "output_type": "execute_result"
    }
   ],
   "source": [
    "data.head()"
   ]
  },
  {
   "cell_type": "markdown",
   "id": "fd9dbf99",
   "metadata": {},
   "source": [
    "# Feature Selection"
   ]
  },
  {
   "cell_type": "code",
   "execution_count": 169,
   "id": "192ca0c0",
   "metadata": {},
   "outputs": [],
   "source": [
    "# important_features = ['adp_dist','axonal_theta', 'axonal_r', 'dendritic_theta', 'dendritic_r',\n",
    "#                       , 'pre_skeletal_distance_to_soma', 'post_skeletal_distance_to_soma', \n",
    "#                       'axonal_coor_z', 'dendritic_coor_z']\n",
    "\n",
    "important_features = ['ID', 'connected','adp_dist','post_angle', 'pre_angle', 'post_skeletal_distance_to_soma', 'pre_nucleus_y',\n",
    "                      'nucleus_dist', 'axonal_coor_y', \n",
    "                      'dendritic_coor_y', 'pre_nucleus_x', 'post_nucleus_y']"
   ]
  },
  {
   "cell_type": "code",
   "execution_count": 164,
   "id": "055137c8",
   "metadata": {},
   "outputs": [],
   "source": [
    "data = data[important_features]"
   ]
  },
  {
   "cell_type": "code",
   "execution_count": 5,
   "id": "66a0d922",
   "metadata": {},
   "outputs": [
    {
     "data": {
      "text/plain": [
       "(185832, 34)"
      ]
     },
     "execution_count": 5,
     "metadata": {},
     "output_type": "execute_result"
    }
   ],
   "source": [
    "data.shape"
   ]
  },
  {
   "cell_type": "markdown",
   "id": "2c86c563",
   "metadata": {},
   "source": [
    "# Split and Standardize Data"
   ]
  },
  {
   "cell_type": "code",
   "execution_count": 5,
   "id": "886833cf",
   "metadata": {},
   "outputs": [],
   "source": [
    "X = data.drop([\"ID\", \"connected\"], axis=1, inplace=False)\n",
    "y = data['connected']"
   ]
  },
  {
   "cell_type": "code",
   "execution_count": 6,
   "id": "15f0540f",
   "metadata": {},
   "outputs": [],
   "source": [
    "X_train, X_test, y_train, y_test = train_test_split(X, y, test_size=0.2, stratify=y, random_state=42)"
   ]
  },
  {
   "cell_type": "code",
   "execution_count": 7,
   "id": "4ebc1ac9",
   "metadata": {},
   "outputs": [],
   "source": [
    "scaler = StandardScaler()\n",
    "X_train_stand = scaler.fit_transform(X_train)\n",
    "X_test_stand = scaler.transform(X_test)"
   ]
  },
  {
   "cell_type": "code",
   "execution_count": 8,
   "id": "58a42ac7",
   "metadata": {},
   "outputs": [],
   "source": [
    "from imblearn.over_sampling import SMOTE"
   ]
  },
  {
   "cell_type": "code",
   "execution_count": 9,
   "id": "30c3b4c3",
   "metadata": {},
   "outputs": [],
   "source": [
    "smote = SMOTE(random_state=42)\n",
    "X_train_stand_rs, y_train_rs = smote.fit_resample(X_train_stand, y_train)"
   ]
  },
  {
   "cell_type": "code",
   "execution_count": 10,
   "id": "1652283b",
   "metadata": {},
   "outputs": [],
   "source": [
    "# Validation\n",
    "X_train, X_val, y_train, y_val = train_test_split(X_train_stand_rs, y_train_rs, test_size=0.2, stratify=y_train_rs, random_state=42)\n",
    "\n",
    "full_train_x = np.concatenate([X_train, X_val], axis=0)\n",
    "full_train_y = np.concatenate([y_train, y_val], axis=0)\n"
   ]
  },
  {
   "cell_type": "markdown",
   "id": "97d33439",
   "metadata": {},
   "source": [
    "# Modeling"
   ]
  },
  {
   "cell_type": "code",
   "execution_count": 11,
   "id": "717fc68d",
   "metadata": {},
   "outputs": [],
   "source": [
    "from sklearn.linear_model import LogisticRegression\n",
    "from sklearn.ensemble import RandomForestClassifier\n",
    "from sklearn.ensemble import AdaBoostClassifier\n",
    "from sklearn.ensemble import GradientBoostingClassifier\n",
    "from sklearn.svm import SVC\n",
    "from sklearn.naive_bayes import MultinomialNB\n",
    "\n",
    "from sklearn.model_selection import RandomizedSearchCV\n",
    "\n",
    "from xgboost import XGBClassifier\n",
    "\n",
    "#metrics\n",
    "from sklearn.metrics import accuracy_score, balanced_accuracy_score, classification_report, confusion_matrix"
   ]
  },
  {
   "cell_type": "code",
   "execution_count": 12,
   "id": "a6fbb1f2",
   "metadata": {},
   "outputs": [],
   "source": [
    "RAND_STATE = 42"
   ]
  },
  {
   "cell_type": "markdown",
   "id": "827ef277",
   "metadata": {},
   "source": [
    "# Modeling - Random Search"
   ]
  },
  {
   "cell_type": "markdown",
   "id": "d685c75c",
   "metadata": {},
   "source": [
    "## Logistic Regression"
   ]
  },
  {
   "cell_type": "code",
   "execution_count": 15,
   "id": "4dccb948",
   "metadata": {},
   "outputs": [],
   "source": [
    "#param grid\n",
    "lr_grid = {\n",
    "    \"penalty\": [\"l2\", \"elasticnet\"],\n",
    "    \"C\": np.arange(0, 1.1, 0.4),\n",
    "    \"l1_ratio\": np.arange(0, 1.1, 4)\n",
    "}"
   ]
  },
  {
   "cell_type": "code",
   "execution_count": 17,
   "id": "f0286aea",
   "metadata": {},
   "outputs": [],
   "source": [
    "lr = LogisticRegression(class_weight=\"balanced\", solver=\"saga\", max_iter=500, random_state=RAND_STATE)"
   ]
  },
  {
   "cell_type": "code",
   "execution_count": null,
   "id": "a287c47e",
   "metadata": {},
   "outputs": [
    {
     "name": "stderr",
     "output_type": "stream",
     "text": [
      "/Users/anthonyyan/opt/anaconda3/envs/stackoverfit/lib/python3.10/site-packages/sklearn/model_selection/_search.py:306: UserWarning: The total space of parameters 6 is smaller than n_iter=10. Running 6 iterations. For exhaustive searches, use GridSearchCV.\n",
      "  warnings.warn(\n",
      "/Users/anthonyyan/opt/anaconda3/envs/stackoverfit/lib/python3.10/site-packages/sklearn/linear_model/_logistic.py:1106: UserWarning: l1_ratio parameter is only used when penalty is 'elasticnet'. Got (penalty=l2)\n",
      "  warnings.warn(\n",
      "/Users/anthonyyan/opt/anaconda3/envs/stackoverfit/lib/python3.10/site-packages/sklearn/linear_model/_logistic.py:489: RuntimeWarning: divide by zero encountered in double_scalars\n",
      "  alpha = 1.0 / C\n",
      "/Users/anthonyyan/opt/anaconda3/envs/stackoverfit/lib/python3.10/site-packages/sklearn/linear_model/_sag.py:318: RuntimeWarning: invalid value encountered in double_scalars\n",
      "  if step_size * alpha_scaled == 1:\n",
      "/Users/anthonyyan/opt/anaconda3/envs/stackoverfit/lib/python3.10/site-packages/sklearn/linear_model/_logistic.py:1106: UserWarning: l1_ratio parameter is only used when penalty is 'elasticnet'. Got (penalty=l2)\n",
      "  warnings.warn(\n",
      "/Users/anthonyyan/opt/anaconda3/envs/stackoverfit/lib/python3.10/site-packages/sklearn/linear_model/_logistic.py:489: RuntimeWarning: divide by zero encountered in double_scalars\n",
      "  alpha = 1.0 / C\n",
      "/Users/anthonyyan/opt/anaconda3/envs/stackoverfit/lib/python3.10/site-packages/sklearn/linear_model/_sag.py:318: RuntimeWarning: invalid value encountered in double_scalars\n",
      "  if step_size * alpha_scaled == 1:\n",
      "/Users/anthonyyan/opt/anaconda3/envs/stackoverfit/lib/python3.10/site-packages/sklearn/linear_model/_logistic.py:1106: UserWarning: l1_ratio parameter is only used when penalty is 'elasticnet'. Got (penalty=l2)\n",
      "  warnings.warn(\n",
      "/Users/anthonyyan/opt/anaconda3/envs/stackoverfit/lib/python3.10/site-packages/sklearn/linear_model/_logistic.py:489: RuntimeWarning: divide by zero encountered in double_scalars\n",
      "  alpha = 1.0 / C\n",
      "/Users/anthonyyan/opt/anaconda3/envs/stackoverfit/lib/python3.10/site-packages/sklearn/linear_model/_sag.py:318: RuntimeWarning: invalid value encountered in double_scalars\n",
      "  if step_size * alpha_scaled == 1:\n",
      "/Users/anthonyyan/opt/anaconda3/envs/stackoverfit/lib/python3.10/site-packages/sklearn/linear_model/_logistic.py:1106: UserWarning: l1_ratio parameter is only used when penalty is 'elasticnet'. Got (penalty=l2)\n",
      "  warnings.warn(\n",
      "/Users/anthonyyan/opt/anaconda3/envs/stackoverfit/lib/python3.10/site-packages/sklearn/linear_model/_logistic.py:489: RuntimeWarning: divide by zero encountered in double_scalars\n",
      "  alpha = 1.0 / C\n",
      "/Users/anthonyyan/opt/anaconda3/envs/stackoverfit/lib/python3.10/site-packages/sklearn/linear_model/_sag.py:318: RuntimeWarning: invalid value encountered in double_scalars\n",
      "  if step_size * alpha_scaled == 1:\n",
      "/Users/anthonyyan/opt/anaconda3/envs/stackoverfit/lib/python3.10/site-packages/sklearn/linear_model/_logistic.py:1106: UserWarning: l1_ratio parameter is only used when penalty is 'elasticnet'. Got (penalty=l2)\n",
      "  warnings.warn(\n",
      "/Users/anthonyyan/opt/anaconda3/envs/stackoverfit/lib/python3.10/site-packages/sklearn/linear_model/_logistic.py:489: RuntimeWarning: divide by zero encountered in double_scalars\n",
      "  alpha = 1.0 / C\n",
      "/Users/anthonyyan/opt/anaconda3/envs/stackoverfit/lib/python3.10/site-packages/sklearn/linear_model/_sag.py:318: RuntimeWarning: invalid value encountered in double_scalars\n",
      "  if step_size * alpha_scaled == 1:\n",
      "/Users/anthonyyan/opt/anaconda3/envs/stackoverfit/lib/python3.10/site-packages/sklearn/linear_model/_logistic.py:1106: UserWarning: l1_ratio parameter is only used when penalty is 'elasticnet'. Got (penalty=l2)\n",
      "  warnings.warn(\n",
      "/Users/anthonyyan/opt/anaconda3/envs/stackoverfit/lib/python3.10/site-packages/sklearn/linear_model/_logistic.py:489: RuntimeWarning: divide by zero encountered in double_scalars\n",
      "  alpha = 1.0 / C\n",
      "/Users/anthonyyan/opt/anaconda3/envs/stackoverfit/lib/python3.10/site-packages/sklearn/linear_model/_sag.py:318: RuntimeWarning: invalid value encountered in double_scalars\n",
      "  if step_size * alpha_scaled == 1:\n",
      "/Users/anthonyyan/opt/anaconda3/envs/stackoverfit/lib/python3.10/site-packages/sklearn/linear_model/_logistic.py:1106: UserWarning: l1_ratio parameter is only used when penalty is 'elasticnet'. Got (penalty=l2)\n",
      "  warnings.warn(\n",
      "/Users/anthonyyan/opt/anaconda3/envs/stackoverfit/lib/python3.10/site-packages/sklearn/linear_model/_logistic.py:489: RuntimeWarning: divide by zero encountered in double_scalars\n",
      "  alpha = 1.0 / C\n",
      "/Users/anthonyyan/opt/anaconda3/envs/stackoverfit/lib/python3.10/site-packages/sklearn/linear_model/_sag.py:318: RuntimeWarning: invalid value encountered in double_scalars\n",
      "  if step_size * alpha_scaled == 1:\n",
      "/Users/anthonyyan/opt/anaconda3/envs/stackoverfit/lib/python3.10/site-packages/sklearn/linear_model/_logistic.py:1106: UserWarning: l1_ratio parameter is only used when penalty is 'elasticnet'. Got (penalty=l2)\n",
      "  warnings.warn(\n",
      "/Users/anthonyyan/opt/anaconda3/envs/stackoverfit/lib/python3.10/site-packages/sklearn/linear_model/_logistic.py:489: RuntimeWarning: divide by zero encountered in double_scalars\n",
      "  alpha = 1.0 / C\n",
      "/Users/anthonyyan/opt/anaconda3/envs/stackoverfit/lib/python3.10/site-packages/sklearn/linear_model/_sag.py:318: RuntimeWarning: invalid value encountered in double_scalars\n",
      "  if step_size * alpha_scaled == 1:\n",
      "/Users/anthonyyan/opt/anaconda3/envs/stackoverfit/lib/python3.10/site-packages/sklearn/linear_model/_logistic.py:1106: UserWarning: l1_ratio parameter is only used when penalty is 'elasticnet'. Got (penalty=l2)\n",
      "  warnings.warn(\n",
      "/Users/anthonyyan/opt/anaconda3/envs/stackoverfit/lib/python3.10/site-packages/sklearn/linear_model/_logistic.py:489: RuntimeWarning: divide by zero encountered in double_scalars\n",
      "  alpha = 1.0 / C\n",
      "/Users/anthonyyan/opt/anaconda3/envs/stackoverfit/lib/python3.10/site-packages/sklearn/linear_model/_sag.py:318: RuntimeWarning: invalid value encountered in double_scalars\n",
      "  if step_size * alpha_scaled == 1:\n",
      "/Users/anthonyyan/opt/anaconda3/envs/stackoverfit/lib/python3.10/site-packages/sklearn/linear_model/_logistic.py:1106: UserWarning: l1_ratio parameter is only used when penalty is 'elasticnet'. Got (penalty=l2)\n",
      "  warnings.warn(\n",
      "/Users/anthonyyan/opt/anaconda3/envs/stackoverfit/lib/python3.10/site-packages/sklearn/linear_model/_logistic.py:489: RuntimeWarning: divide by zero encountered in double_scalars\n",
      "  alpha = 1.0 / C\n",
      "/Users/anthonyyan/opt/anaconda3/envs/stackoverfit/lib/python3.10/site-packages/sklearn/linear_model/_sag.py:318: RuntimeWarning: invalid value encountered in double_scalars\n",
      "  if step_size * alpha_scaled == 1:\n",
      "/Users/anthonyyan/opt/anaconda3/envs/stackoverfit/lib/python3.10/site-packages/sklearn/linear_model/_logistic.py:492: RuntimeWarning: divide by zero encountered in double_scalars\n",
      "  alpha = (1.0 / C) * (1 - l1_ratio)\n",
      "/Users/anthonyyan/opt/anaconda3/envs/stackoverfit/lib/python3.10/site-packages/sklearn/linear_model/_logistic.py:493: RuntimeWarning: divide by zero encountered in double_scalars\n",
      "  beta = (1.0 / C) * l1_ratio\n",
      "/Users/anthonyyan/opt/anaconda3/envs/stackoverfit/lib/python3.10/site-packages/sklearn/linear_model/_logistic.py:493: RuntimeWarning: invalid value encountered in double_scalars\n",
      "  beta = (1.0 / C) * l1_ratio\n",
      "/Users/anthonyyan/opt/anaconda3/envs/stackoverfit/lib/python3.10/site-packages/sklearn/linear_model/_sag.py:318: RuntimeWarning: invalid value encountered in double_scalars\n",
      "  if step_size * alpha_scaled == 1:\n",
      "/Users/anthonyyan/opt/anaconda3/envs/stackoverfit/lib/python3.10/site-packages/sklearn/linear_model/_logistic.py:492: RuntimeWarning: divide by zero encountered in double_scalars\n",
      "  alpha = (1.0 / C) * (1 - l1_ratio)\n",
      "/Users/anthonyyan/opt/anaconda3/envs/stackoverfit/lib/python3.10/site-packages/sklearn/linear_model/_logistic.py:493: RuntimeWarning: divide by zero encountered in double_scalars\n",
      "  beta = (1.0 / C) * l1_ratio\n",
      "/Users/anthonyyan/opt/anaconda3/envs/stackoverfit/lib/python3.10/site-packages/sklearn/linear_model/_logistic.py:493: RuntimeWarning: invalid value encountered in double_scalars\n",
      "  beta = (1.0 / C) * l1_ratio\n",
      "/Users/anthonyyan/opt/anaconda3/envs/stackoverfit/lib/python3.10/site-packages/sklearn/linear_model/_sag.py:318: RuntimeWarning: invalid value encountered in double_scalars\n",
      "  if step_size * alpha_scaled == 1:\n"
     ]
    },
    {
     "name": "stderr",
     "output_type": "stream",
     "text": [
      "/Users/anthonyyan/opt/anaconda3/envs/stackoverfit/lib/python3.10/site-packages/sklearn/linear_model/_logistic.py:492: RuntimeWarning: divide by zero encountered in double_scalars\n",
      "  alpha = (1.0 / C) * (1 - l1_ratio)\n",
      "/Users/anthonyyan/opt/anaconda3/envs/stackoverfit/lib/python3.10/site-packages/sklearn/linear_model/_logistic.py:493: RuntimeWarning: divide by zero encountered in double_scalars\n",
      "  beta = (1.0 / C) * l1_ratio\n",
      "/Users/anthonyyan/opt/anaconda3/envs/stackoverfit/lib/python3.10/site-packages/sklearn/linear_model/_logistic.py:493: RuntimeWarning: invalid value encountered in double_scalars\n",
      "  beta = (1.0 / C) * l1_ratio\n",
      "/Users/anthonyyan/opt/anaconda3/envs/stackoverfit/lib/python3.10/site-packages/sklearn/linear_model/_sag.py:318: RuntimeWarning: invalid value encountered in double_scalars\n",
      "  if step_size * alpha_scaled == 1:\n",
      "/Users/anthonyyan/opt/anaconda3/envs/stackoverfit/lib/python3.10/site-packages/sklearn/linear_model/_logistic.py:492: RuntimeWarning: divide by zero encountered in double_scalars\n",
      "  alpha = (1.0 / C) * (1 - l1_ratio)\n",
      "/Users/anthonyyan/opt/anaconda3/envs/stackoverfit/lib/python3.10/site-packages/sklearn/linear_model/_logistic.py:493: RuntimeWarning: divide by zero encountered in double_scalars\n",
      "  beta = (1.0 / C) * l1_ratio\n",
      "/Users/anthonyyan/opt/anaconda3/envs/stackoverfit/lib/python3.10/site-packages/sklearn/linear_model/_logistic.py:493: RuntimeWarning: invalid value encountered in double_scalars\n",
      "  beta = (1.0 / C) * l1_ratio\n",
      "/Users/anthonyyan/opt/anaconda3/envs/stackoverfit/lib/python3.10/site-packages/sklearn/linear_model/_sag.py:318: RuntimeWarning: invalid value encountered in double_scalars\n",
      "  if step_size * alpha_scaled == 1:\n",
      "/Users/anthonyyan/opt/anaconda3/envs/stackoverfit/lib/python3.10/site-packages/sklearn/linear_model/_logistic.py:492: RuntimeWarning: divide by zero encountered in double_scalars\n",
      "  alpha = (1.0 / C) * (1 - l1_ratio)\n",
      "/Users/anthonyyan/opt/anaconda3/envs/stackoverfit/lib/python3.10/site-packages/sklearn/linear_model/_logistic.py:493: RuntimeWarning: divide by zero encountered in double_scalars\n",
      "  beta = (1.0 / C) * l1_ratio\n",
      "/Users/anthonyyan/opt/anaconda3/envs/stackoverfit/lib/python3.10/site-packages/sklearn/linear_model/_logistic.py:493: RuntimeWarning: invalid value encountered in double_scalars\n",
      "  beta = (1.0 / C) * l1_ratio\n",
      "/Users/anthonyyan/opt/anaconda3/envs/stackoverfit/lib/python3.10/site-packages/sklearn/linear_model/_sag.py:318: RuntimeWarning: invalid value encountered in double_scalars\n",
      "  if step_size * alpha_scaled == 1:\n",
      "/Users/anthonyyan/opt/anaconda3/envs/stackoverfit/lib/python3.10/site-packages/sklearn/linear_model/_logistic.py:492: RuntimeWarning: divide by zero encountered in double_scalars\n",
      "  alpha = (1.0 / C) * (1 - l1_ratio)\n",
      "/Users/anthonyyan/opt/anaconda3/envs/stackoverfit/lib/python3.10/site-packages/sklearn/linear_model/_logistic.py:493: RuntimeWarning: divide by zero encountered in double_scalars\n",
      "  beta = (1.0 / C) * l1_ratio\n",
      "/Users/anthonyyan/opt/anaconda3/envs/stackoverfit/lib/python3.10/site-packages/sklearn/linear_model/_logistic.py:493: RuntimeWarning: invalid value encountered in double_scalars\n",
      "  beta = (1.0 / C) * l1_ratio\n",
      "/Users/anthonyyan/opt/anaconda3/envs/stackoverfit/lib/python3.10/site-packages/sklearn/linear_model/_sag.py:318: RuntimeWarning: invalid value encountered in double_scalars\n",
      "  if step_size * alpha_scaled == 1:\n",
      "/Users/anthonyyan/opt/anaconda3/envs/stackoverfit/lib/python3.10/site-packages/sklearn/linear_model/_logistic.py:492: RuntimeWarning: divide by zero encountered in double_scalars\n",
      "  alpha = (1.0 / C) * (1 - l1_ratio)\n",
      "/Users/anthonyyan/opt/anaconda3/envs/stackoverfit/lib/python3.10/site-packages/sklearn/linear_model/_logistic.py:493: RuntimeWarning: divide by zero encountered in double_scalars\n",
      "  beta = (1.0 / C) * l1_ratio\n",
      "/Users/anthonyyan/opt/anaconda3/envs/stackoverfit/lib/python3.10/site-packages/sklearn/linear_model/_logistic.py:493: RuntimeWarning: invalid value encountered in double_scalars\n",
      "  beta = (1.0 / C) * l1_ratio\n",
      "/Users/anthonyyan/opt/anaconda3/envs/stackoverfit/lib/python3.10/site-packages/sklearn/linear_model/_sag.py:318: RuntimeWarning: invalid value encountered in double_scalars\n",
      "  if step_size * alpha_scaled == 1:\n",
      "/Users/anthonyyan/opt/anaconda3/envs/stackoverfit/lib/python3.10/site-packages/sklearn/linear_model/_logistic.py:492: RuntimeWarning: divide by zero encountered in double_scalars\n",
      "  alpha = (1.0 / C) * (1 - l1_ratio)\n",
      "/Users/anthonyyan/opt/anaconda3/envs/stackoverfit/lib/python3.10/site-packages/sklearn/linear_model/_logistic.py:493: RuntimeWarning: divide by zero encountered in double_scalars\n",
      "  beta = (1.0 / C) * l1_ratio\n",
      "/Users/anthonyyan/opt/anaconda3/envs/stackoverfit/lib/python3.10/site-packages/sklearn/linear_model/_logistic.py:493: RuntimeWarning: invalid value encountered in double_scalars\n",
      "  beta = (1.0 / C) * l1_ratio\n",
      "/Users/anthonyyan/opt/anaconda3/envs/stackoverfit/lib/python3.10/site-packages/sklearn/linear_model/_sag.py:318: RuntimeWarning: invalid value encountered in double_scalars\n",
      "  if step_size * alpha_scaled == 1:\n",
      "/Users/anthonyyan/opt/anaconda3/envs/stackoverfit/lib/python3.10/site-packages/sklearn/linear_model/_logistic.py:492: RuntimeWarning: divide by zero encountered in double_scalars\n",
      "  alpha = (1.0 / C) * (1 - l1_ratio)\n",
      "/Users/anthonyyan/opt/anaconda3/envs/stackoverfit/lib/python3.10/site-packages/sklearn/linear_model/_logistic.py:493: RuntimeWarning: divide by zero encountered in double_scalars\n",
      "  beta = (1.0 / C) * l1_ratio\n",
      "/Users/anthonyyan/opt/anaconda3/envs/stackoverfit/lib/python3.10/site-packages/sklearn/linear_model/_logistic.py:493: RuntimeWarning: invalid value encountered in double_scalars\n",
      "  beta = (1.0 / C) * l1_ratio\n",
      "/Users/anthonyyan/opt/anaconda3/envs/stackoverfit/lib/python3.10/site-packages/sklearn/linear_model/_sag.py:318: RuntimeWarning: invalid value encountered in double_scalars\n",
      "  if step_size * alpha_scaled == 1:\n",
      "/Users/anthonyyan/opt/anaconda3/envs/stackoverfit/lib/python3.10/site-packages/sklearn/linear_model/_logistic.py:492: RuntimeWarning: divide by zero encountered in double_scalars\n",
      "  alpha = (1.0 / C) * (1 - l1_ratio)\n",
      "/Users/anthonyyan/opt/anaconda3/envs/stackoverfit/lib/python3.10/site-packages/sklearn/linear_model/_logistic.py:493: RuntimeWarning: divide by zero encountered in double_scalars\n",
      "  beta = (1.0 / C) * l1_ratio\n",
      "/Users/anthonyyan/opt/anaconda3/envs/stackoverfit/lib/python3.10/site-packages/sklearn/linear_model/_logistic.py:493: RuntimeWarning: invalid value encountered in double_scalars\n",
      "  beta = (1.0 / C) * l1_ratio\n",
      "/Users/anthonyyan/opt/anaconda3/envs/stackoverfit/lib/python3.10/site-packages/sklearn/linear_model/_sag.py:318: RuntimeWarning: invalid value encountered in double_scalars\n",
      "  if step_size * alpha_scaled == 1:\n",
      "/Users/anthonyyan/opt/anaconda3/envs/stackoverfit/lib/python3.10/site-packages/sklearn/linear_model/_logistic.py:1106: UserWarning: l1_ratio parameter is only used when penalty is 'elasticnet'. Got (penalty=l2)\n",
      "  warnings.warn(\n",
      "/Users/anthonyyan/opt/anaconda3/envs/stackoverfit/lib/python3.10/site-packages/sklearn/linear_model/_logistic.py:1106: UserWarning: l1_ratio parameter is only used when penalty is 'elasticnet'. Got (penalty=l2)\n",
      "  warnings.warn(\n",
      "/Users/anthonyyan/opt/anaconda3/envs/stackoverfit/lib/python3.10/site-packages/sklearn/linear_model/_logistic.py:1106: UserWarning: l1_ratio parameter is only used when penalty is 'elasticnet'. Got (penalty=l2)\n",
      "  warnings.warn(\n",
      "/Users/anthonyyan/opt/anaconda3/envs/stackoverfit/lib/python3.10/site-packages/sklearn/linear_model/_logistic.py:1106: UserWarning: l1_ratio parameter is only used when penalty is 'elasticnet'. Got (penalty=l2)\n",
      "  warnings.warn(\n",
      "/Users/anthonyyan/opt/anaconda3/envs/stackoverfit/lib/python3.10/site-packages/sklearn/linear_model/_logistic.py:1106: UserWarning: l1_ratio parameter is only used when penalty is 'elasticnet'. Got (penalty=l2)\n",
      "  warnings.warn(\n",
      "/Users/anthonyyan/opt/anaconda3/envs/stackoverfit/lib/python3.10/site-packages/sklearn/linear_model/_logistic.py:1106: UserWarning: l1_ratio parameter is only used when penalty is 'elasticnet'. Got (penalty=l2)\n",
      "  warnings.warn(\n",
      "/Users/anthonyyan/opt/anaconda3/envs/stackoverfit/lib/python3.10/site-packages/sklearn/linear_model/_logistic.py:1106: UserWarning: l1_ratio parameter is only used when penalty is 'elasticnet'. Got (penalty=l2)\n",
      "  warnings.warn(\n"
     ]
    },
    {
     "name": "stderr",
     "output_type": "stream",
     "text": [
      "/Users/anthonyyan/opt/anaconda3/envs/stackoverfit/lib/python3.10/site-packages/sklearn/linear_model/_logistic.py:1106: UserWarning: l1_ratio parameter is only used when penalty is 'elasticnet'. Got (penalty=l2)\n",
      "  warnings.warn(\n",
      "/Users/anthonyyan/opt/anaconda3/envs/stackoverfit/lib/python3.10/site-packages/sklearn/linear_model/_logistic.py:1106: UserWarning: l1_ratio parameter is only used when penalty is 'elasticnet'. Got (penalty=l2)\n",
      "  warnings.warn(\n",
      "/Users/anthonyyan/opt/anaconda3/envs/stackoverfit/lib/python3.10/site-packages/sklearn/linear_model/_logistic.py:1106: UserWarning: l1_ratio parameter is only used when penalty is 'elasticnet'. Got (penalty=l2)\n",
      "  warnings.warn(\n",
      "/Users/anthonyyan/opt/anaconda3/envs/stackoverfit/lib/python3.10/site-packages/sklearn/linear_model/_logistic.py:1106: UserWarning: l1_ratio parameter is only used when penalty is 'elasticnet'. Got (penalty=l2)\n",
      "  warnings.warn(\n",
      "/Users/anthonyyan/opt/anaconda3/envs/stackoverfit/lib/python3.10/site-packages/sklearn/linear_model/_sag.py:350: ConvergenceWarning: The max_iter was reached which means the coef_ did not converge\n",
      "  warnings.warn(\n",
      "/Users/anthonyyan/opt/anaconda3/envs/stackoverfit/lib/python3.10/site-packages/sklearn/linear_model/_logistic.py:1106: UserWarning: l1_ratio parameter is only used when penalty is 'elasticnet'. Got (penalty=l2)\n",
      "  warnings.warn(\n",
      "/Users/anthonyyan/opt/anaconda3/envs/stackoverfit/lib/python3.10/site-packages/sklearn/linear_model/_sag.py:350: ConvergenceWarning: The max_iter was reached which means the coef_ did not converge\n",
      "  warnings.warn(\n",
      "/Users/anthonyyan/opt/anaconda3/envs/stackoverfit/lib/python3.10/site-packages/sklearn/linear_model/_logistic.py:1106: UserWarning: l1_ratio parameter is only used when penalty is 'elasticnet'. Got (penalty=l2)\n",
      "  warnings.warn(\n",
      "/Users/anthonyyan/opt/anaconda3/envs/stackoverfit/lib/python3.10/site-packages/sklearn/linear_model/_sag.py:350: ConvergenceWarning: The max_iter was reached which means the coef_ did not converge\n",
      "  warnings.warn(\n",
      "/Users/anthonyyan/opt/anaconda3/envs/stackoverfit/lib/python3.10/site-packages/sklearn/linear_model/_logistic.py:1106: UserWarning: l1_ratio parameter is only used when penalty is 'elasticnet'. Got (penalty=l2)\n",
      "  warnings.warn(\n",
      "/Users/anthonyyan/opt/anaconda3/envs/stackoverfit/lib/python3.10/site-packages/sklearn/linear_model/_sag.py:350: ConvergenceWarning: The max_iter was reached which means the coef_ did not converge\n",
      "  warnings.warn(\n",
      "/Users/anthonyyan/opt/anaconda3/envs/stackoverfit/lib/python3.10/site-packages/sklearn/linear_model/_logistic.py:1106: UserWarning: l1_ratio parameter is only used when penalty is 'elasticnet'. Got (penalty=l2)\n",
      "  warnings.warn(\n",
      "/Users/anthonyyan/opt/anaconda3/envs/stackoverfit/lib/python3.10/site-packages/sklearn/linear_model/_sag.py:350: ConvergenceWarning: The max_iter was reached which means the coef_ did not converge\n",
      "  warnings.warn(\n",
      "/Users/anthonyyan/opt/anaconda3/envs/stackoverfit/lib/python3.10/site-packages/sklearn/linear_model/_logistic.py:1106: UserWarning: l1_ratio parameter is only used when penalty is 'elasticnet'. Got (penalty=l2)\n",
      "  warnings.warn(\n",
      "/Users/anthonyyan/opt/anaconda3/envs/stackoverfit/lib/python3.10/site-packages/sklearn/linear_model/_sag.py:350: ConvergenceWarning: The max_iter was reached which means the coef_ did not converge\n",
      "  warnings.warn(\n",
      "/Users/anthonyyan/opt/anaconda3/envs/stackoverfit/lib/python3.10/site-packages/sklearn/linear_model/_logistic.py:1106: UserWarning: l1_ratio parameter is only used when penalty is 'elasticnet'. Got (penalty=l2)\n",
      "  warnings.warn(\n",
      "/Users/anthonyyan/opt/anaconda3/envs/stackoverfit/lib/python3.10/site-packages/sklearn/linear_model/_sag.py:350: ConvergenceWarning: The max_iter was reached which means the coef_ did not converge\n",
      "  warnings.warn(\n",
      "/Users/anthonyyan/opt/anaconda3/envs/stackoverfit/lib/python3.10/site-packages/sklearn/linear_model/_logistic.py:1106: UserWarning: l1_ratio parameter is only used when penalty is 'elasticnet'. Got (penalty=l2)\n",
      "  warnings.warn(\n",
      "/Users/anthonyyan/opt/anaconda3/envs/stackoverfit/lib/python3.10/site-packages/sklearn/linear_model/_sag.py:350: ConvergenceWarning: The max_iter was reached which means the coef_ did not converge\n",
      "  warnings.warn(\n",
      "/Users/anthonyyan/opt/anaconda3/envs/stackoverfit/lib/python3.10/site-packages/sklearn/linear_model/_logistic.py:1106: UserWarning: l1_ratio parameter is only used when penalty is 'elasticnet'. Got (penalty=l2)\n",
      "  warnings.warn(\n",
      "/Users/anthonyyan/opt/anaconda3/envs/stackoverfit/lib/python3.10/site-packages/sklearn/linear_model/_sag.py:350: ConvergenceWarning: The max_iter was reached which means the coef_ did not converge\n",
      "  warnings.warn(\n",
      "/Users/anthonyyan/opt/anaconda3/envs/stackoverfit/lib/python3.10/site-packages/sklearn/linear_model/_logistic.py:1106: UserWarning: l1_ratio parameter is only used when penalty is 'elasticnet'. Got (penalty=l2)\n",
      "  warnings.warn(\n",
      "/Users/anthonyyan/opt/anaconda3/envs/stackoverfit/lib/python3.10/site-packages/sklearn/linear_model/_sag.py:350: ConvergenceWarning: The max_iter was reached which means the coef_ did not converge\n",
      "  warnings.warn(\n",
      "/Users/anthonyyan/opt/anaconda3/envs/stackoverfit/lib/python3.10/site-packages/sklearn/linear_model/_sag.py:350: ConvergenceWarning: The max_iter was reached which means the coef_ did not converge\n",
      "  warnings.warn(\n"
     ]
    }
   ],
   "source": [
    "lr_rs = RandomizedSearchCV(lr, param_distributions=lr_grid, cv=10, n_iter=10, scoring='balanced_accuracy')\n",
    "lr_rs.fit(full_train_x, full_train_y)"
   ]
  },
  {
   "cell_type": "code",
   "execution_count": null,
   "id": "a91b5a6d",
   "metadata": {},
   "outputs": [],
   "source": [
    "lr_rs.best_params_"
   ]
  },
  {
   "cell_type": "code",
   "execution_count": null,
   "id": "1807d21d",
   "metadata": {},
   "outputs": [],
   "source": [
    "best_lr = lr_rs.best_estimator_"
   ]
  },
  {
   "cell_type": "code",
   "execution_count": null,
   "id": "d009cd6c",
   "metadata": {},
   "outputs": [],
   "source": [
    "lr_coef = pd.DataFrame({\"weight\": best_lr.coef_[0]})\n",
    "lr_coef[\"coef\"] = X.columns\n",
    "lr_coef = lr_coef[[\"coef\", \"weight\"]]\n",
    "lr_coef.sort_values(by=\"weight\", ascending=False)"
   ]
  },
  {
   "cell_type": "code",
   "execution_count": null,
   "id": "d85ce50a",
   "metadata": {},
   "outputs": [],
   "source": [
    "best_lr_pred = best_lr.predict(X_test_stand)"
   ]
  },
  {
   "cell_type": "code",
   "execution_count": null,
   "id": "e946aaf4",
   "metadata": {},
   "outputs": [],
   "source": [
    "lr_accuracy = accuracy_score(y_test, best_lr_pred)\n",
    "lr_balanced_accuracy = balanced_accuracy_score(y_test, best_lr_pred)"
   ]
  },
  {
   "cell_type": "code",
   "execution_count": null,
   "id": "2751ffa1",
   "metadata": {},
   "outputs": [],
   "source": [
    "print(\"Logistic Regression Accuracy: \" + str(lr_accuracy))\n",
    "print(\"Logistic Regression Balanced Accuracy: \" + str(lr_balanced_accuracy))"
   ]
  },
  {
   "cell_type": "code",
   "execution_count": null,
   "id": "31f90ca5",
   "metadata": {},
   "outputs": [],
   "source": [
    "confusion_matrix(y_test, best_lr_pred)"
   ]
  },
  {
   "cell_type": "markdown",
   "id": "e49d3bd4",
   "metadata": {},
   "source": [
    "## Random Forest"
   ]
  },
  {
   "cell_type": "code",
   "execution_count": 75,
   "id": "618d079f",
   "metadata": {},
   "outputs": [],
   "source": [
    "#param grid\n",
    "rf_grid = {\n",
    "    \"n_estimators\": [25, 50, 100, 200],\n",
    "    \"criterion\": [\"gini\", \"entropy\", \"log_loss\"],\n",
    "    \"max_features\": [3, \"sqrt\", 7],\n",
    "}"
   ]
  },
  {
   "cell_type": "code",
   "execution_count": 76,
   "id": "cbaf0868",
   "metadata": {},
   "outputs": [],
   "source": [
    "rf = RandomForestClassifier(class_weight=\"balanced\", random_state=RAND_STATE)"
   ]
  },
  {
   "cell_type": "code",
   "execution_count": 77,
   "id": "a1fd6fd1",
   "metadata": {},
   "outputs": [
    {
     "data": {
      "text/html": [
       "<style>#sk-container-id-2 {color: black;background-color: white;}#sk-container-id-2 pre{padding: 0;}#sk-container-id-2 div.sk-toggleable {background-color: white;}#sk-container-id-2 label.sk-toggleable__label {cursor: pointer;display: block;width: 100%;margin-bottom: 0;padding: 0.3em;box-sizing: border-box;text-align: center;}#sk-container-id-2 label.sk-toggleable__label-arrow:before {content: \"▸\";float: left;margin-right: 0.25em;color: #696969;}#sk-container-id-2 label.sk-toggleable__label-arrow:hover:before {color: black;}#sk-container-id-2 div.sk-estimator:hover label.sk-toggleable__label-arrow:before {color: black;}#sk-container-id-2 div.sk-toggleable__content {max-height: 0;max-width: 0;overflow: hidden;text-align: left;background-color: #f0f8ff;}#sk-container-id-2 div.sk-toggleable__content pre {margin: 0.2em;color: black;border-radius: 0.25em;background-color: #f0f8ff;}#sk-container-id-2 input.sk-toggleable__control:checked~div.sk-toggleable__content {max-height: 200px;max-width: 100%;overflow: auto;}#sk-container-id-2 input.sk-toggleable__control:checked~label.sk-toggleable__label-arrow:before {content: \"▾\";}#sk-container-id-2 div.sk-estimator input.sk-toggleable__control:checked~label.sk-toggleable__label {background-color: #d4ebff;}#sk-container-id-2 div.sk-label input.sk-toggleable__control:checked~label.sk-toggleable__label {background-color: #d4ebff;}#sk-container-id-2 input.sk-hidden--visually {border: 0;clip: rect(1px 1px 1px 1px);clip: rect(1px, 1px, 1px, 1px);height: 1px;margin: -1px;overflow: hidden;padding: 0;position: absolute;width: 1px;}#sk-container-id-2 div.sk-estimator {font-family: monospace;background-color: #f0f8ff;border: 1px dotted black;border-radius: 0.25em;box-sizing: border-box;margin-bottom: 0.5em;}#sk-container-id-2 div.sk-estimator:hover {background-color: #d4ebff;}#sk-container-id-2 div.sk-parallel-item::after {content: \"\";width: 100%;border-bottom: 1px solid gray;flex-grow: 1;}#sk-container-id-2 div.sk-label:hover label.sk-toggleable__label {background-color: #d4ebff;}#sk-container-id-2 div.sk-serial::before {content: \"\";position: absolute;border-left: 1px solid gray;box-sizing: border-box;top: 0;bottom: 0;left: 50%;z-index: 0;}#sk-container-id-2 div.sk-serial {display: flex;flex-direction: column;align-items: center;background-color: white;padding-right: 0.2em;padding-left: 0.2em;position: relative;}#sk-container-id-2 div.sk-item {position: relative;z-index: 1;}#sk-container-id-2 div.sk-parallel {display: flex;align-items: stretch;justify-content: center;background-color: white;position: relative;}#sk-container-id-2 div.sk-item::before, #sk-container-id-2 div.sk-parallel-item::before {content: \"\";position: absolute;border-left: 1px solid gray;box-sizing: border-box;top: 0;bottom: 0;left: 50%;z-index: -1;}#sk-container-id-2 div.sk-parallel-item {display: flex;flex-direction: column;z-index: 1;position: relative;background-color: white;}#sk-container-id-2 div.sk-parallel-item:first-child::after {align-self: flex-end;width: 50%;}#sk-container-id-2 div.sk-parallel-item:last-child::after {align-self: flex-start;width: 50%;}#sk-container-id-2 div.sk-parallel-item:only-child::after {width: 0;}#sk-container-id-2 div.sk-dashed-wrapped {border: 1px dashed gray;margin: 0 0.4em 0.5em 0.4em;box-sizing: border-box;padding-bottom: 0.4em;background-color: white;}#sk-container-id-2 div.sk-label label {font-family: monospace;font-weight: bold;display: inline-block;line-height: 1.2em;}#sk-container-id-2 div.sk-label-container {text-align: center;}#sk-container-id-2 div.sk-container {/* jupyter's `normalize.less` sets `[hidden] { display: none; }` but bootstrap.min.css set `[hidden] { display: none !important; }` so we also need the `!important` here to be able to override the default hidden behavior on the sphinx rendered scikit-learn.org. See: https://github.com/scikit-learn/scikit-learn/issues/21755 */display: inline-block !important;position: relative;}#sk-container-id-2 div.sk-text-repr-fallback {display: none;}</style><div id=\"sk-container-id-2\" class=\"sk-top-container\"><div class=\"sk-text-repr-fallback\"><pre>RandomizedSearchCV(cv=5,\n",
       "                   estimator=RandomForestClassifier(class_weight=&#x27;balanced&#x27;,\n",
       "                                                    random_state=42),\n",
       "                   param_distributions={&#x27;criterion&#x27;: [&#x27;gini&#x27;, &#x27;entropy&#x27;,\n",
       "                                                      &#x27;log_loss&#x27;],\n",
       "                                        &#x27;max_features&#x27;: [3, &#x27;sqrt&#x27;, 7],\n",
       "                                        &#x27;n_estimators&#x27;: [25, 50, 100, 200]},\n",
       "                   scoring=&#x27;balanced_accuracy&#x27;)</pre><b>In a Jupyter environment, please rerun this cell to show the HTML representation or trust the notebook. <br />On GitHub, the HTML representation is unable to render, please try loading this page with nbviewer.org.</b></div><div class=\"sk-container\" hidden><div class=\"sk-item sk-dashed-wrapped\"><div class=\"sk-label-container\"><div class=\"sk-label sk-toggleable\"><input class=\"sk-toggleable__control sk-hidden--visually\" id=\"sk-estimator-id-4\" type=\"checkbox\" ><label for=\"sk-estimator-id-4\" class=\"sk-toggleable__label sk-toggleable__label-arrow\">RandomizedSearchCV</label><div class=\"sk-toggleable__content\"><pre>RandomizedSearchCV(cv=5,\n",
       "                   estimator=RandomForestClassifier(class_weight=&#x27;balanced&#x27;,\n",
       "                                                    random_state=42),\n",
       "                   param_distributions={&#x27;criterion&#x27;: [&#x27;gini&#x27;, &#x27;entropy&#x27;,\n",
       "                                                      &#x27;log_loss&#x27;],\n",
       "                                        &#x27;max_features&#x27;: [3, &#x27;sqrt&#x27;, 7],\n",
       "                                        &#x27;n_estimators&#x27;: [25, 50, 100, 200]},\n",
       "                   scoring=&#x27;balanced_accuracy&#x27;)</pre></div></div></div><div class=\"sk-parallel\"><div class=\"sk-parallel-item\"><div class=\"sk-item\"><div class=\"sk-label-container\"><div class=\"sk-label sk-toggleable\"><input class=\"sk-toggleable__control sk-hidden--visually\" id=\"sk-estimator-id-5\" type=\"checkbox\" ><label for=\"sk-estimator-id-5\" class=\"sk-toggleable__label sk-toggleable__label-arrow\">estimator: RandomForestClassifier</label><div class=\"sk-toggleable__content\"><pre>RandomForestClassifier(class_weight=&#x27;balanced&#x27;, random_state=42)</pre></div></div></div><div class=\"sk-serial\"><div class=\"sk-item\"><div class=\"sk-estimator sk-toggleable\"><input class=\"sk-toggleable__control sk-hidden--visually\" id=\"sk-estimator-id-6\" type=\"checkbox\" ><label for=\"sk-estimator-id-6\" class=\"sk-toggleable__label sk-toggleable__label-arrow\">RandomForestClassifier</label><div class=\"sk-toggleable__content\"><pre>RandomForestClassifier(class_weight=&#x27;balanced&#x27;, random_state=42)</pre></div></div></div></div></div></div></div></div></div></div>"
      ],
      "text/plain": [
       "RandomizedSearchCV(cv=5,\n",
       "                   estimator=RandomForestClassifier(class_weight='balanced',\n",
       "                                                    random_state=42),\n",
       "                   param_distributions={'criterion': ['gini', 'entropy',\n",
       "                                                      'log_loss'],\n",
       "                                        'max_features': [3, 'sqrt', 7],\n",
       "                                        'n_estimators': [25, 50, 100, 200]},\n",
       "                   scoring='balanced_accuracy')"
      ]
     },
     "execution_count": 77,
     "metadata": {},
     "output_type": "execute_result"
    }
   ],
   "source": [
    "rf_rs = RandomizedSearchCV(rf, param_distributions=rf_grid, cv=5, n_iter=10, scoring='balanced_accuracy')\n",
    "rf_rs.fit(X_train_stand_rs, y_train_rs)"
   ]
  },
  {
   "cell_type": "code",
   "execution_count": 78,
   "id": "39f7218a",
   "metadata": {},
   "outputs": [
    {
     "data": {
      "text/plain": [
       "{'n_estimators': 100, 'max_features': 3, 'criterion': 'log_loss'}"
      ]
     },
     "execution_count": 78,
     "metadata": {},
     "output_type": "execute_result"
    }
   ],
   "source": [
    "rf_rs.best_params_"
   ]
  },
  {
   "cell_type": "code",
   "execution_count": null,
   "id": "75c7a6c0",
   "metadata": {},
   "outputs": [],
   "source": [
    "best_rf = rf_rs.best_estimator_\n",
    "rf_coef = pd.DataFrame({\"weight\": best_rf.coef_[0]})\n",
    "rf_coef[\"coef\"] = X.columns\n",
    "rf_coef = rf_coef[[\"coef\", \"weight\"]]\n",
    "rf_coef.sort_values(by=\"weight\", ascending=False)"
   ]
  },
  {
   "cell_type": "code",
   "execution_count": 80,
   "id": "da0a92f3",
   "metadata": {},
   "outputs": [
    {
     "name": "stdout",
     "output_type": "stream",
     "text": [
      "Random Forest Accuracy: 0.9897220652729571\n",
      "Random Forest Balanced Accuracy: 0.5130663909733677\n"
     ]
    }
   ],
   "source": [
    "best_rf_pred = best_rf.predict(X_test_stand)\n",
    "\n",
    "rf_accuracy = accuracy_score(y_test, best_rf_pred)\n",
    "rf_balanced_accuracy = balanced_accuracy_score(y_test, best_rf_pred)\n",
    "\n",
    "print(\"Random Forest Accuracy: \" + str(rf_accuracy))\n",
    "print(\"Random Forest Balanced Accuracy: \" + str(rf_balanced_accuracy))"
   ]
  },
  {
   "cell_type": "code",
   "execution_count": 81,
   "id": "e1d0f147",
   "metadata": {},
   "outputs": [
    {
     "data": {
      "text/plain": [
       "array([[36777,   117],\n",
       "       [  265,     8]])"
      ]
     },
     "execution_count": 81,
     "metadata": {},
     "output_type": "execute_result"
    }
   ],
   "source": [
    "confusion_matrix(y_test, best_rf_pred)"
   ]
  },
  {
   "cell_type": "markdown",
   "id": "6a4c16c1",
   "metadata": {},
   "source": [
    "# Adaboost"
   ]
  },
  {
   "cell_type": "code",
   "execution_count": 83,
   "id": "9a709954",
   "metadata": {},
   "outputs": [],
   "source": [
    "#param grid\n",
    "ab_grid = {\n",
    "    \"learning_rate\": [0.001, 0.01, 0.1, 0.25, 0.5, 1.0],\n",
    "    \"n_estimators\": [50, 100]\n",
    "}"
   ]
  },
  {
   "cell_type": "code",
   "execution_count": 84,
   "id": "bcd0d4b4",
   "metadata": {},
   "outputs": [],
   "source": [
    "ab = AdaBoostClassifier(random_state=RAND_STATE)"
   ]
  },
  {
   "cell_type": "code",
   "execution_count": null,
   "id": "3d05a451",
   "metadata": {},
   "outputs": [],
   "source": [
    "ab_rs = RandomizedSearchCV(ab, param_distributions=ab_grid, cv=5, n_iter=10, scoring='balanced_accuracy')\n",
    "ab_rs.fit(X_train_stand_rs, y_train_rs)"
   ]
  },
  {
   "cell_type": "code",
   "execution_count": null,
   "id": "697157d7",
   "metadata": {},
   "outputs": [],
   "source": [
    "best_ab = ab_rs.best_estimator_\n",
    "ab_rs.best_params_"
   ]
  },
  {
   "cell_type": "code",
   "execution_count": null,
   "id": "61068b74",
   "metadata": {},
   "outputs": [],
   "source": [
    "best_ab_pred = best_ab.predict(X_test_stand)\n",
    "\n",
    "ab_accuracy = accuracy_score(y_test, best_ab_pred)\n",
    "ab_balanced_accuracy = balanced_accuracy_score(y_test, best_ab_pred)\n",
    "\n",
    "print(\"AdaBoost Accuracy: \" + str(ab_accuracy))\n",
    "print(\"AdaBoost Balanced Accuracy: \" + str(ab_balanced_accuracy))"
   ]
  },
  {
   "cell_type": "code",
   "execution_count": null,
   "id": "cb4f486a",
   "metadata": {},
   "outputs": [],
   "source": []
  },
  {
   "cell_type": "markdown",
   "id": "1caf698f",
   "metadata": {},
   "source": [
    "# Gradient Boosting"
   ]
  },
  {
   "cell_type": "code",
   "execution_count": 16,
   "id": "679ddbc1",
   "metadata": {},
   "outputs": [],
   "source": [
    "gb_grid = {\n",
    "    \"learning_rate\": [0.001, 0.01, 0.1, 0.25, 0.5, 1.0],\n",
    "    \"n_estimators\": [100, 200, 500],\n",
    "    'max_features': [3, 5, 7]\n",
    "}"
   ]
  },
  {
   "cell_type": "code",
   "execution_count": 17,
   "id": "3d779bad",
   "metadata": {},
   "outputs": [],
   "source": [
    "gb = GradientBoostingClassifier(random_state=RAND_STATE)"
   ]
  },
  {
   "cell_type": "code",
   "execution_count": 18,
   "id": "2fee03cf",
   "metadata": {},
   "outputs": [
    {
     "data": {
      "text/html": [
       "<style>#sk-container-id-1 {color: black;background-color: white;}#sk-container-id-1 pre{padding: 0;}#sk-container-id-1 div.sk-toggleable {background-color: white;}#sk-container-id-1 label.sk-toggleable__label {cursor: pointer;display: block;width: 100%;margin-bottom: 0;padding: 0.3em;box-sizing: border-box;text-align: center;}#sk-container-id-1 label.sk-toggleable__label-arrow:before {content: \"▸\";float: left;margin-right: 0.25em;color: #696969;}#sk-container-id-1 label.sk-toggleable__label-arrow:hover:before {color: black;}#sk-container-id-1 div.sk-estimator:hover label.sk-toggleable__label-arrow:before {color: black;}#sk-container-id-1 div.sk-toggleable__content {max-height: 0;max-width: 0;overflow: hidden;text-align: left;background-color: #f0f8ff;}#sk-container-id-1 div.sk-toggleable__content pre {margin: 0.2em;color: black;border-radius: 0.25em;background-color: #f0f8ff;}#sk-container-id-1 input.sk-toggleable__control:checked~div.sk-toggleable__content {max-height: 200px;max-width: 100%;overflow: auto;}#sk-container-id-1 input.sk-toggleable__control:checked~label.sk-toggleable__label-arrow:before {content: \"▾\";}#sk-container-id-1 div.sk-estimator input.sk-toggleable__control:checked~label.sk-toggleable__label {background-color: #d4ebff;}#sk-container-id-1 div.sk-label input.sk-toggleable__control:checked~label.sk-toggleable__label {background-color: #d4ebff;}#sk-container-id-1 input.sk-hidden--visually {border: 0;clip: rect(1px 1px 1px 1px);clip: rect(1px, 1px, 1px, 1px);height: 1px;margin: -1px;overflow: hidden;padding: 0;position: absolute;width: 1px;}#sk-container-id-1 div.sk-estimator {font-family: monospace;background-color: #f0f8ff;border: 1px dotted black;border-radius: 0.25em;box-sizing: border-box;margin-bottom: 0.5em;}#sk-container-id-1 div.sk-estimator:hover {background-color: #d4ebff;}#sk-container-id-1 div.sk-parallel-item::after {content: \"\";width: 100%;border-bottom: 1px solid gray;flex-grow: 1;}#sk-container-id-1 div.sk-label:hover label.sk-toggleable__label {background-color: #d4ebff;}#sk-container-id-1 div.sk-serial::before {content: \"\";position: absolute;border-left: 1px solid gray;box-sizing: border-box;top: 0;bottom: 0;left: 50%;z-index: 0;}#sk-container-id-1 div.sk-serial {display: flex;flex-direction: column;align-items: center;background-color: white;padding-right: 0.2em;padding-left: 0.2em;position: relative;}#sk-container-id-1 div.sk-item {position: relative;z-index: 1;}#sk-container-id-1 div.sk-parallel {display: flex;align-items: stretch;justify-content: center;background-color: white;position: relative;}#sk-container-id-1 div.sk-item::before, #sk-container-id-1 div.sk-parallel-item::before {content: \"\";position: absolute;border-left: 1px solid gray;box-sizing: border-box;top: 0;bottom: 0;left: 50%;z-index: -1;}#sk-container-id-1 div.sk-parallel-item {display: flex;flex-direction: column;z-index: 1;position: relative;background-color: white;}#sk-container-id-1 div.sk-parallel-item:first-child::after {align-self: flex-end;width: 50%;}#sk-container-id-1 div.sk-parallel-item:last-child::after {align-self: flex-start;width: 50%;}#sk-container-id-1 div.sk-parallel-item:only-child::after {width: 0;}#sk-container-id-1 div.sk-dashed-wrapped {border: 1px dashed gray;margin: 0 0.4em 0.5em 0.4em;box-sizing: border-box;padding-bottom: 0.4em;background-color: white;}#sk-container-id-1 div.sk-label label {font-family: monospace;font-weight: bold;display: inline-block;line-height: 1.2em;}#sk-container-id-1 div.sk-label-container {text-align: center;}#sk-container-id-1 div.sk-container {/* jupyter's `normalize.less` sets `[hidden] { display: none; }` but bootstrap.min.css set `[hidden] { display: none !important; }` so we also need the `!important` here to be able to override the default hidden behavior on the sphinx rendered scikit-learn.org. See: https://github.com/scikit-learn/scikit-learn/issues/21755 */display: inline-block !important;position: relative;}#sk-container-id-1 div.sk-text-repr-fallback {display: none;}</style><div id=\"sk-container-id-1\" class=\"sk-top-container\"><div class=\"sk-text-repr-fallback\"><pre>RandomizedSearchCV(cv=5, estimator=GradientBoostingClassifier(random_state=42),\n",
       "                   param_distributions={&#x27;learning_rate&#x27;: [0.001, 0.01, 0.1,\n",
       "                                                          0.25, 0.5, 1.0],\n",
       "                                        &#x27;max_features&#x27;: [3, 5, 7],\n",
       "                                        &#x27;n_estimators&#x27;: [100, 200, 500]},\n",
       "                   scoring=&#x27;balanced_accuracy&#x27;)</pre><b>In a Jupyter environment, please rerun this cell to show the HTML representation or trust the notebook. <br />On GitHub, the HTML representation is unable to render, please try loading this page with nbviewer.org.</b></div><div class=\"sk-container\" hidden><div class=\"sk-item sk-dashed-wrapped\"><div class=\"sk-label-container\"><div class=\"sk-label sk-toggleable\"><input class=\"sk-toggleable__control sk-hidden--visually\" id=\"sk-estimator-id-1\" type=\"checkbox\" ><label for=\"sk-estimator-id-1\" class=\"sk-toggleable__label sk-toggleable__label-arrow\">RandomizedSearchCV</label><div class=\"sk-toggleable__content\"><pre>RandomizedSearchCV(cv=5, estimator=GradientBoostingClassifier(random_state=42),\n",
       "                   param_distributions={&#x27;learning_rate&#x27;: [0.001, 0.01, 0.1,\n",
       "                                                          0.25, 0.5, 1.0],\n",
       "                                        &#x27;max_features&#x27;: [3, 5, 7],\n",
       "                                        &#x27;n_estimators&#x27;: [100, 200, 500]},\n",
       "                   scoring=&#x27;balanced_accuracy&#x27;)</pre></div></div></div><div class=\"sk-parallel\"><div class=\"sk-parallel-item\"><div class=\"sk-item\"><div class=\"sk-label-container\"><div class=\"sk-label sk-toggleable\"><input class=\"sk-toggleable__control sk-hidden--visually\" id=\"sk-estimator-id-2\" type=\"checkbox\" ><label for=\"sk-estimator-id-2\" class=\"sk-toggleable__label sk-toggleable__label-arrow\">estimator: GradientBoostingClassifier</label><div class=\"sk-toggleable__content\"><pre>GradientBoostingClassifier(random_state=42)</pre></div></div></div><div class=\"sk-serial\"><div class=\"sk-item\"><div class=\"sk-estimator sk-toggleable\"><input class=\"sk-toggleable__control sk-hidden--visually\" id=\"sk-estimator-id-3\" type=\"checkbox\" ><label for=\"sk-estimator-id-3\" class=\"sk-toggleable__label sk-toggleable__label-arrow\">GradientBoostingClassifier</label><div class=\"sk-toggleable__content\"><pre>GradientBoostingClassifier(random_state=42)</pre></div></div></div></div></div></div></div></div></div></div>"
      ],
      "text/plain": [
       "RandomizedSearchCV(cv=5, estimator=GradientBoostingClassifier(random_state=42),\n",
       "                   param_distributions={'learning_rate': [0.001, 0.01, 0.1,\n",
       "                                                          0.25, 0.5, 1.0],\n",
       "                                        'max_features': [3, 5, 7],\n",
       "                                        'n_estimators': [100, 200, 500]},\n",
       "                   scoring='balanced_accuracy')"
      ]
     },
     "execution_count": 18,
     "metadata": {},
     "output_type": "execute_result"
    }
   ],
   "source": [
    "gb_rs = RandomizedSearchCV(gb, param_distributions=gb_grid, cv=5, n_iter=10, scoring='balanced_accuracy')\n",
    "gb_rs.fit(X_train_stand_rs, y_train_rs)"
   ]
  },
  {
   "cell_type": "code",
   "execution_count": 19,
   "id": "2601590c",
   "metadata": {},
   "outputs": [
    {
     "data": {
      "text/plain": [
       "{'n_estimators': 200, 'max_features': 7, 'learning_rate': 1.0}"
      ]
     },
     "execution_count": 19,
     "metadata": {},
     "output_type": "execute_result"
    }
   ],
   "source": [
    "best_gb = gb_rs.best_estimator_\n",
    "gb_rs.best_params_"
   ]
  },
  {
   "cell_type": "code",
   "execution_count": 21,
   "id": "70b56dc0",
   "metadata": {},
   "outputs": [
    {
     "name": "stdout",
     "output_type": "stream",
     "text": [
      "Gradient Boosting Accuracy: 0.9223235666047838\n",
      "Gradient Boosting Balanced Accuracy: 0.6063742459091297\n"
     ]
    }
   ],
   "source": [
    "best_gb_pred = best_gb.predict(X_test_stand)\n",
    "\n",
    "gb_accuracy = accuracy_score(y_test, best_gb_pred)\n",
    "gb_balanced_accuracy = balanced_accuracy_score(y_test, best_gb_pred)\n",
    "\n",
    "print(\"Gradient Boosting Accuracy: \" + str(gb_accuracy))\n",
    "print(\"Gradient Boosting Balanced Accuracy: \" + str(gb_balanced_accuracy))"
   ]
  },
  {
   "cell_type": "code",
   "execution_count": 26,
   "id": "146ecf41",
   "metadata": {},
   "outputs": [
    {
     "data": {
      "text/html": [
       "<div>\n",
       "<style scoped>\n",
       "    .dataframe tbody tr th:only-of-type {\n",
       "        vertical-align: middle;\n",
       "    }\n",
       "\n",
       "    .dataframe tbody tr th {\n",
       "        vertical-align: top;\n",
       "    }\n",
       "\n",
       "    .dataframe thead th {\n",
       "        text-align: right;\n",
       "    }\n",
       "</style>\n",
       "<table border=\"1\" class=\"dataframe\">\n",
       "  <thead>\n",
       "    <tr style=\"text-align: right;\">\n",
       "      <th></th>\n",
       "      <th>coef</th>\n",
       "      <th>importance</th>\n",
       "    </tr>\n",
       "  </thead>\n",
       "  <tbody>\n",
       "    <tr>\n",
       "      <th>6</th>\n",
       "      <td>adp_dist</td>\n",
       "      <td>0.377758</td>\n",
       "    </tr>\n",
       "    <tr>\n",
       "      <th>17</th>\n",
       "      <td>pre_nucleus_x</td>\n",
       "      <td>0.085725</td>\n",
       "    </tr>\n",
       "    <tr>\n",
       "      <th>7</th>\n",
       "      <td>post_skeletal_distance_to_soma</td>\n",
       "      <td>0.074416</td>\n",
       "    </tr>\n",
       "    <tr>\n",
       "      <th>27</th>\n",
       "      <td>same_brain_area</td>\n",
       "      <td>0.053857</td>\n",
       "    </tr>\n",
       "    <tr>\n",
       "      <th>4</th>\n",
       "      <td>dendritic_coor_y</td>\n",
       "      <td>0.045864</td>\n",
       "    </tr>\n",
       "    <tr>\n",
       "      <th>21</th>\n",
       "      <td>post_nucleus_y</td>\n",
       "      <td>0.033828</td>\n",
       "    </tr>\n",
       "    <tr>\n",
       "      <th>24</th>\n",
       "      <td>avg_post_feature_weights</td>\n",
       "      <td>0.028791</td>\n",
       "    </tr>\n",
       "    <tr>\n",
       "      <th>18</th>\n",
       "      <td>pre_nucleus_y</td>\n",
       "      <td>0.026650</td>\n",
       "    </tr>\n",
       "    <tr>\n",
       "      <th>20</th>\n",
       "      <td>post_nucleus_x</td>\n",
       "      <td>0.021622</td>\n",
       "    </tr>\n",
       "    <tr>\n",
       "      <th>13</th>\n",
       "      <td>post_oracle</td>\n",
       "      <td>0.021294</td>\n",
       "    </tr>\n",
       "    <tr>\n",
       "      <th>11</th>\n",
       "      <td>pre_rf_x</td>\n",
       "      <td>0.018613</td>\n",
       "    </tr>\n",
       "    <tr>\n",
       "      <th>26</th>\n",
       "      <td>avg_post_morph_embeddings</td>\n",
       "      <td>0.017771</td>\n",
       "    </tr>\n",
       "    <tr>\n",
       "      <th>9</th>\n",
       "      <td>pre_oracle</td>\n",
       "      <td>0.016627</td>\n",
       "    </tr>\n",
       "    <tr>\n",
       "      <th>2</th>\n",
       "      <td>axonal_coor_z</td>\n",
       "      <td>0.015491</td>\n",
       "    </tr>\n",
       "    <tr>\n",
       "      <th>1</th>\n",
       "      <td>axonal_coor_y</td>\n",
       "      <td>0.014570</td>\n",
       "    </tr>\n",
       "    <tr>\n",
       "      <th>12</th>\n",
       "      <td>pre_rf_y</td>\n",
       "      <td>0.014324</td>\n",
       "    </tr>\n",
       "    <tr>\n",
       "      <th>8</th>\n",
       "      <td>pre_skeletal_distance_to_soma</td>\n",
       "      <td>0.013380</td>\n",
       "    </tr>\n",
       "    <tr>\n",
       "      <th>3</th>\n",
       "      <td>dendritic_coor_x</td>\n",
       "      <td>0.013370</td>\n",
       "    </tr>\n",
       "    <tr>\n",
       "      <th>25</th>\n",
       "      <td>avg_pre_morph_embeddings</td>\n",
       "      <td>0.013315</td>\n",
       "    </tr>\n",
       "    <tr>\n",
       "      <th>19</th>\n",
       "      <td>pre_nucleus_z</td>\n",
       "      <td>0.012651</td>\n",
       "    </tr>\n",
       "    <tr>\n",
       "      <th>14</th>\n",
       "      <td>post_test_score</td>\n",
       "      <td>0.012580</td>\n",
       "    </tr>\n",
       "    <tr>\n",
       "      <th>23</th>\n",
       "      <td>avg_pre_feature_weights</td>\n",
       "      <td>0.012329</td>\n",
       "    </tr>\n",
       "    <tr>\n",
       "      <th>15</th>\n",
       "      <td>post_rf_x</td>\n",
       "      <td>0.011003</td>\n",
       "    </tr>\n",
       "    <tr>\n",
       "      <th>10</th>\n",
       "      <td>pre_test_score</td>\n",
       "      <td>0.010952</td>\n",
       "    </tr>\n",
       "    <tr>\n",
       "      <th>16</th>\n",
       "      <td>post_rf_y</td>\n",
       "      <td>0.010369</td>\n",
       "    </tr>\n",
       "    <tr>\n",
       "      <th>0</th>\n",
       "      <td>axonal_coor_x</td>\n",
       "      <td>0.008210</td>\n",
       "    </tr>\n",
       "    <tr>\n",
       "      <th>22</th>\n",
       "      <td>post_nucleus_z</td>\n",
       "      <td>0.007334</td>\n",
       "    </tr>\n",
       "    <tr>\n",
       "      <th>5</th>\n",
       "      <td>dendritic_coor_z</td>\n",
       "      <td>0.007307</td>\n",
       "    </tr>\n",
       "  </tbody>\n",
       "</table>\n",
       "</div>"
      ],
      "text/plain": [
       "                              coef  importance\n",
       "6                         adp_dist    0.377758\n",
       "17                   pre_nucleus_x    0.085725\n",
       "7   post_skeletal_distance_to_soma    0.074416\n",
       "27                 same_brain_area    0.053857\n",
       "4                 dendritic_coor_y    0.045864\n",
       "21                  post_nucleus_y    0.033828\n",
       "24        avg_post_feature_weights    0.028791\n",
       "18                   pre_nucleus_y    0.026650\n",
       "20                  post_nucleus_x    0.021622\n",
       "13                     post_oracle    0.021294\n",
       "11                        pre_rf_x    0.018613\n",
       "26       avg_post_morph_embeddings    0.017771\n",
       "9                       pre_oracle    0.016627\n",
       "2                    axonal_coor_z    0.015491\n",
       "1                    axonal_coor_y    0.014570\n",
       "12                        pre_rf_y    0.014324\n",
       "8    pre_skeletal_distance_to_soma    0.013380\n",
       "3                 dendritic_coor_x    0.013370\n",
       "25        avg_pre_morph_embeddings    0.013315\n",
       "19                   pre_nucleus_z    0.012651\n",
       "14                 post_test_score    0.012580\n",
       "23         avg_pre_feature_weights    0.012329\n",
       "15                       post_rf_x    0.011003\n",
       "10                  pre_test_score    0.010952\n",
       "16                       post_rf_y    0.010369\n",
       "0                    axonal_coor_x    0.008210\n",
       "22                  post_nucleus_z    0.007334\n",
       "5                 dendritic_coor_z    0.007307"
      ]
     },
     "execution_count": 26,
     "metadata": {},
     "output_type": "execute_result"
    }
   ],
   "source": [
    "gb_coef = pd.DataFrame({\"importance\": best_gb.feature_importances_})\n",
    "gb_coef[\"coef\"] = X.columns\n",
    "gb_coef = gb_coef[[\"coef\", \"importance\"]]\n",
    "gb_coef.sort_values(by=\"importance\", ascending=False)"
   ]
  },
  {
   "cell_type": "markdown",
   "id": "ff8cd0e6",
   "metadata": {},
   "source": [
    "# SVM"
   ]
  },
  {
   "cell_type": "code",
   "execution_count": 12,
   "id": "e7000efe",
   "metadata": {},
   "outputs": [],
   "source": [
    "sv_grid = {\n",
    "    \"C\": [0.1, 0.25, 0.5, 1.0],\n",
    "    \"kernel\": [\"rbf\", \"linear\", \"poly\"]\n",
    "}"
   ]
  },
  {
   "cell_type": "code",
   "execution_count": 13,
   "id": "717c8510",
   "metadata": {},
   "outputs": [],
   "source": [
    "sv = SVC(class_weight=\"balanced\", random_state=RAND_STATE)"
   ]
  },
  {
   "cell_type": "code",
   "execution_count": null,
   "id": "272f1026",
   "metadata": {},
   "outputs": [],
   "source": [
    "sv_rs = RandomizedSearchCV(sv, param_distributions=sv_grid, cv=5, n_iter=10, scoring='balanced_accuracy')\n",
    "sv_rs.fit(X_train_stand_rs, y_train_rs)"
   ]
  },
  {
   "cell_type": "code",
   "execution_count": null,
   "id": "5304d6a0",
   "metadata": {},
   "outputs": [],
   "source": [
    "best_sv = sv_rs.best_estimator_\n",
    "sv_rs.best_params_"
   ]
  },
  {
   "cell_type": "code",
   "execution_count": null,
   "id": "c1901b84",
   "metadata": {},
   "outputs": [],
   "source": [
    "best_sv_pred = best_sv.predict(X_test_stand)\n",
    "\n",
    "sv_accuracy = accuracy_score(y_test, best_sv_pred)\n",
    "sv_balanced_accuracy = balanced_accuracy_score(y_test, best_sv_pred)\n",
    "\n",
    "print(\"SVC Accuracy: \" + str(sv_accuracy))\n",
    "print(\"SVC Balanced Accuracy: \" + str(sv_balanced_accuracy))"
   ]
  },
  {
   "cell_type": "code",
   "execution_count": null,
   "id": "159d0e9e",
   "metadata": {},
   "outputs": [],
   "source": []
  },
  {
   "cell_type": "markdown",
   "id": "74004e0d",
   "metadata": {},
   "source": [
    "# Naive Bayes"
   ]
  },
  {
   "cell_type": "code",
   "execution_count": null,
   "id": "6e906bed",
   "metadata": {},
   "outputs": [],
   "source": [
    "nb_grid = {\n",
    "    \"alpha\": [0.0, 0.1, 0.25, 0.5, 0.75,1.0]\n",
    "}"
   ]
  },
  {
   "cell_type": "code",
   "execution_count": null,
   "id": "f435961c",
   "metadata": {},
   "outputs": [],
   "source": [
    "nb = MultinomialNB(class_prior=[0.99,0.01])"
   ]
  },
  {
   "cell_type": "code",
   "execution_count": null,
   "id": "4d9ef389",
   "metadata": {},
   "outputs": [],
   "source": [
    "nb_rs = RandomizedSearchCV(nb, param_distributions=nb_grid, cv=5, n_iter=6, scoring='balanced_accuracy')\n",
    "nb_rs.fit(X_train_stand_rs, y_train_rs)"
   ]
  },
  {
   "cell_type": "code",
   "execution_count": null,
   "id": "22eb044b",
   "metadata": {},
   "outputs": [],
   "source": [
    "best_nb = nb_rs.best_estimator_\n",
    "nb_rs.best_params_"
   ]
  },
  {
   "cell_type": "code",
   "execution_count": null,
   "id": "68baa4a3",
   "metadata": {},
   "outputs": [],
   "source": [
    "best_nb_pred = best_nb.predict(X_test_stand)\n",
    "\n",
    "nb_accuracy = accuracy_score(y_test, best_nb_pred)\n",
    "nb_balanced_accuracy = balanced_accuracy_score(y_test, best_nb_pred)\n",
    "\n",
    "print(\"Naive Bayes Accuracy: \" + str(nb_accuracy))\n",
    "print(\"Naive Bayes Balanced Accuracy: \" + str(nb_balanced_accuracy))"
   ]
  },
  {
   "cell_type": "code",
   "execution_count": null,
   "id": "e7631c86",
   "metadata": {},
   "outputs": [],
   "source": []
  },
  {
   "cell_type": "markdown",
   "id": "7c0b3b06",
   "metadata": {},
   "source": [
    "# Modeling - Manual Validation"
   ]
  },
  {
   "cell_type": "markdown",
   "id": "65a8dd56",
   "metadata": {},
   "source": [
    "## Random Forest"
   ]
  },
  {
   "cell_type": "code",
   "execution_count": 153,
   "id": "95b7e657",
   "metadata": {},
   "outputs": [],
   "source": [
    "#param grid\n",
    "rf_grid = {\n",
    "    \"n_estimators\": [200, 400],\n",
    "    \"criterion\": [\"gini\", \"entropy\", \"log_loss\"],\n",
    "    \"max_features\": [7, 10, 15],\n",
    "    \"max_depth\": [3, 5, 7]\n",
    "}"
   ]
  },
  {
   "cell_type": "code",
   "execution_count": 154,
   "id": "14e7fd9a",
   "metadata": {},
   "outputs": [
    {
     "name": "stdout",
     "output_type": "stream",
     "text": [
      "Training on 200, 7, 3...\n",
      "New best accuracy: 0.7968647134685869\n",
      "Training on 200, 7, 5...\n",
      "New best accuracy: 0.8138901098467143\n",
      "Training on 200, 7, 7...\n",
      "New best accuracy: 0.8366075421546715\n",
      "Training on 200, 10, 3...\n",
      "New low accuracy: 0.7985418468902012\n",
      "Training on 200, 10, 5...\n",
      "Didn't improve: 0.8120944041337991\n",
      "Training on 200, 10, 7...\n",
      "Didn't improve: 0.8355572482701324\n",
      "Training on 200, 15, 3...\n",
      "New low accuracy: 0.7955941948767619\n",
      "Training on 200, 15, 5...\n",
      "Didn't improve: 0.8094517225699278\n",
      "Training on 200, 15, 7...\n",
      "Didn't improve: 0.8359469162473978\n",
      "Training on 400, 7, 3...\n",
      "New low accuracy: 0.7925957654438978\n",
      "Training on 400, 7, 5...\n",
      "Didn't improve: 0.8131108525278752\n",
      "Training on 400, 7, 7...\n",
      "Didn't improve: 0.8359976718554629\n",
      "Training on 400, 10, 3...\n",
      "Didn't improve: 0.7983216290707129\n",
      "Training on 400, 10, 5...\n",
      "Didn't improve: 0.8116878289088474\n",
      "Training on 400, 10, 7...\n",
      "Didn't improve: 0.8356250161648004\n",
      "Training on 400, 15, 3...\n",
      "Didn't improve: 0.796339629090481\n",
      "Training on 400, 15, 5...\n",
      "Didn't improve: 0.8090959425578785\n",
      "Training on 400, 15, 7...\n",
      "Didn't improve: 0.8362010415475293\n"
     ]
    }
   ],
   "source": [
    "best_rf_acc = 0.0\n",
    "best_rf_model = None\n",
    "best_rf_params = None\n",
    "low_rf_acc = float('inf')\n",
    "low_rf_model = None\n",
    "low_rf_params = None\n",
    "all_accs = []\n",
    "for estimators in rf_grid[\"n_estimators\"]:\n",
    "#     for criterion in rf_grid[\"criterion\"]:\n",
    "    for max_features in rf_grid['max_features']:\n",
    "        for max_depth in rf_grid[\"max_depth\"]:\n",
    "            print(f\"Training on {estimators}, {max_features}, {max_depth}...\")\n",
    "            rf = RandomForestClassifier(class_weight=\"balanced\", random_state=RAND_STATE,\n",
    "                                       n_estimators=estimators, criterion=\"gini\", max_features=max_features,\n",
    "                                       max_depth = max_depth)\n",
    "            rf.fit(X_train, y_train)\n",
    "            val_pred = rf.predict(X_val)\n",
    "            acc = balanced_accuracy_score(y_val, val_pred)\n",
    "            \n",
    "            if acc > 0.95:\n",
    "                print(f\"overfit: {acc}\")\n",
    "                continue\n",
    "            elif acc > best_rf_acc:\n",
    "                print(f\"New best accuracy: {acc}\")\n",
    "                best_rf_acc = acc\n",
    "                best_rf_model = rf\n",
    "                best_rf_params = (estimators, max_features, max_depth)\n",
    "            elif acc < low_rf_acc:\n",
    "                print(f\"New low accuracy: {acc}\")\n",
    "                low_rf_acc = acc\n",
    "                low_rf_model = rf\n",
    "                low_rf_params = (estimators, max_features,max_depth)\n",
    "            else:\n",
    "                print(f\"Didn't improve: {acc}\")\n"
   ]
  },
  {
   "cell_type": "code",
   "execution_count": 159,
   "id": "4180c2ac",
   "metadata": {},
   "outputs": [
    {
     "data": {
      "text/plain": [
       "(200, 7, 7)"
      ]
     },
     "execution_count": 159,
     "metadata": {},
     "output_type": "execute_result"
    }
   ],
   "source": [
    "best_rf_params"
   ]
  },
  {
   "cell_type": "markdown",
   "id": "2eef823d",
   "metadata": {},
   "source": [
    "---"
   ]
  },
  {
   "cell_type": "markdown",
   "id": "98ce0a20",
   "metadata": {},
   "source": [
    "## Retrain with best params on full train set"
   ]
  },
  {
   "cell_type": "code",
   "execution_count": 17,
   "id": "673c368d",
   "metadata": {},
   "outputs": [
    {
     "data": {
      "text/html": [
       "<style>#sk-container-id-3 {color: black;background-color: white;}#sk-container-id-3 pre{padding: 0;}#sk-container-id-3 div.sk-toggleable {background-color: white;}#sk-container-id-3 label.sk-toggleable__label {cursor: pointer;display: block;width: 100%;margin-bottom: 0;padding: 0.3em;box-sizing: border-box;text-align: center;}#sk-container-id-3 label.sk-toggleable__label-arrow:before {content: \"▸\";float: left;margin-right: 0.25em;color: #696969;}#sk-container-id-3 label.sk-toggleable__label-arrow:hover:before {color: black;}#sk-container-id-3 div.sk-estimator:hover label.sk-toggleable__label-arrow:before {color: black;}#sk-container-id-3 div.sk-toggleable__content {max-height: 0;max-width: 0;overflow: hidden;text-align: left;background-color: #f0f8ff;}#sk-container-id-3 div.sk-toggleable__content pre {margin: 0.2em;color: black;border-radius: 0.25em;background-color: #f0f8ff;}#sk-container-id-3 input.sk-toggleable__control:checked~div.sk-toggleable__content {max-height: 200px;max-width: 100%;overflow: auto;}#sk-container-id-3 input.sk-toggleable__control:checked~label.sk-toggleable__label-arrow:before {content: \"▾\";}#sk-container-id-3 div.sk-estimator input.sk-toggleable__control:checked~label.sk-toggleable__label {background-color: #d4ebff;}#sk-container-id-3 div.sk-label input.sk-toggleable__control:checked~label.sk-toggleable__label {background-color: #d4ebff;}#sk-container-id-3 input.sk-hidden--visually {border: 0;clip: rect(1px 1px 1px 1px);clip: rect(1px, 1px, 1px, 1px);height: 1px;margin: -1px;overflow: hidden;padding: 0;position: absolute;width: 1px;}#sk-container-id-3 div.sk-estimator {font-family: monospace;background-color: #f0f8ff;border: 1px dotted black;border-radius: 0.25em;box-sizing: border-box;margin-bottom: 0.5em;}#sk-container-id-3 div.sk-estimator:hover {background-color: #d4ebff;}#sk-container-id-3 div.sk-parallel-item::after {content: \"\";width: 100%;border-bottom: 1px solid gray;flex-grow: 1;}#sk-container-id-3 div.sk-label:hover label.sk-toggleable__label {background-color: #d4ebff;}#sk-container-id-3 div.sk-serial::before {content: \"\";position: absolute;border-left: 1px solid gray;box-sizing: border-box;top: 0;bottom: 0;left: 50%;z-index: 0;}#sk-container-id-3 div.sk-serial {display: flex;flex-direction: column;align-items: center;background-color: white;padding-right: 0.2em;padding-left: 0.2em;position: relative;}#sk-container-id-3 div.sk-item {position: relative;z-index: 1;}#sk-container-id-3 div.sk-parallel {display: flex;align-items: stretch;justify-content: center;background-color: white;position: relative;}#sk-container-id-3 div.sk-item::before, #sk-container-id-3 div.sk-parallel-item::before {content: \"\";position: absolute;border-left: 1px solid gray;box-sizing: border-box;top: 0;bottom: 0;left: 50%;z-index: -1;}#sk-container-id-3 div.sk-parallel-item {display: flex;flex-direction: column;z-index: 1;position: relative;background-color: white;}#sk-container-id-3 div.sk-parallel-item:first-child::after {align-self: flex-end;width: 50%;}#sk-container-id-3 div.sk-parallel-item:last-child::after {align-self: flex-start;width: 50%;}#sk-container-id-3 div.sk-parallel-item:only-child::after {width: 0;}#sk-container-id-3 div.sk-dashed-wrapped {border: 1px dashed gray;margin: 0 0.4em 0.5em 0.4em;box-sizing: border-box;padding-bottom: 0.4em;background-color: white;}#sk-container-id-3 div.sk-label label {font-family: monospace;font-weight: bold;display: inline-block;line-height: 1.2em;}#sk-container-id-3 div.sk-label-container {text-align: center;}#sk-container-id-3 div.sk-container {/* jupyter's `normalize.less` sets `[hidden] { display: none; }` but bootstrap.min.css set `[hidden] { display: none !important; }` so we also need the `!important` here to be able to override the default hidden behavior on the sphinx rendered scikit-learn.org. See: https://github.com/scikit-learn/scikit-learn/issues/21755 */display: inline-block !important;position: relative;}#sk-container-id-3 div.sk-text-repr-fallback {display: none;}</style><div id=\"sk-container-id-3\" class=\"sk-top-container\"><div class=\"sk-text-repr-fallback\"><pre>RandomForestClassifier(class_weight=&#x27;balanced&#x27;, max_depth=7, max_features=7,\n",
       "                       n_estimators=200, random_state=42)</pre><b>In a Jupyter environment, please rerun this cell to show the HTML representation or trust the notebook. <br />On GitHub, the HTML representation is unable to render, please try loading this page with nbviewer.org.</b></div><div class=\"sk-container\" hidden><div class=\"sk-item\"><div class=\"sk-estimator sk-toggleable\"><input class=\"sk-toggleable__control sk-hidden--visually\" id=\"sk-estimator-id-3\" type=\"checkbox\" checked><label for=\"sk-estimator-id-3\" class=\"sk-toggleable__label sk-toggleable__label-arrow\">RandomForestClassifier</label><div class=\"sk-toggleable__content\"><pre>RandomForestClassifier(class_weight=&#x27;balanced&#x27;, max_depth=7, max_features=7,\n",
       "                       n_estimators=200, random_state=42)</pre></div></div></div></div></div>"
      ],
      "text/plain": [
       "RandomForestClassifier(class_weight='balanced', max_depth=7, max_features=7,\n",
       "                       n_estimators=200, random_state=42)"
      ]
     },
     "execution_count": 17,
     "metadata": {},
     "output_type": "execute_result"
    }
   ],
   "source": [
    "rf_retrained_a = RandomForestClassifier(class_weight=\"balanced\", random_state=RAND_STATE,\n",
    "                                       n_estimators=200, criterion=\"gini\", max_features=7,\n",
    "                                       max_depth = 7)\n",
    "rf_retrained_a.fit(full_train_x, full_train_y)"
   ]
  },
  {
   "cell_type": "code",
   "execution_count": 13,
   "id": "e3ba1953",
   "metadata": {},
   "outputs": [
    {
     "data": {
      "text/html": [
       "<style>#sk-container-id-1 {color: black;background-color: white;}#sk-container-id-1 pre{padding: 0;}#sk-container-id-1 div.sk-toggleable {background-color: white;}#sk-container-id-1 label.sk-toggleable__label {cursor: pointer;display: block;width: 100%;margin-bottom: 0;padding: 0.3em;box-sizing: border-box;text-align: center;}#sk-container-id-1 label.sk-toggleable__label-arrow:before {content: \"▸\";float: left;margin-right: 0.25em;color: #696969;}#sk-container-id-1 label.sk-toggleable__label-arrow:hover:before {color: black;}#sk-container-id-1 div.sk-estimator:hover label.sk-toggleable__label-arrow:before {color: black;}#sk-container-id-1 div.sk-toggleable__content {max-height: 0;max-width: 0;overflow: hidden;text-align: left;background-color: #f0f8ff;}#sk-container-id-1 div.sk-toggleable__content pre {margin: 0.2em;color: black;border-radius: 0.25em;background-color: #f0f8ff;}#sk-container-id-1 input.sk-toggleable__control:checked~div.sk-toggleable__content {max-height: 200px;max-width: 100%;overflow: auto;}#sk-container-id-1 input.sk-toggleable__control:checked~label.sk-toggleable__label-arrow:before {content: \"▾\";}#sk-container-id-1 div.sk-estimator input.sk-toggleable__control:checked~label.sk-toggleable__label {background-color: #d4ebff;}#sk-container-id-1 div.sk-label input.sk-toggleable__control:checked~label.sk-toggleable__label {background-color: #d4ebff;}#sk-container-id-1 input.sk-hidden--visually {border: 0;clip: rect(1px 1px 1px 1px);clip: rect(1px, 1px, 1px, 1px);height: 1px;margin: -1px;overflow: hidden;padding: 0;position: absolute;width: 1px;}#sk-container-id-1 div.sk-estimator {font-family: monospace;background-color: #f0f8ff;border: 1px dotted black;border-radius: 0.25em;box-sizing: border-box;margin-bottom: 0.5em;}#sk-container-id-1 div.sk-estimator:hover {background-color: #d4ebff;}#sk-container-id-1 div.sk-parallel-item::after {content: \"\";width: 100%;border-bottom: 1px solid gray;flex-grow: 1;}#sk-container-id-1 div.sk-label:hover label.sk-toggleable__label {background-color: #d4ebff;}#sk-container-id-1 div.sk-serial::before {content: \"\";position: absolute;border-left: 1px solid gray;box-sizing: border-box;top: 0;bottom: 0;left: 50%;z-index: 0;}#sk-container-id-1 div.sk-serial {display: flex;flex-direction: column;align-items: center;background-color: white;padding-right: 0.2em;padding-left: 0.2em;position: relative;}#sk-container-id-1 div.sk-item {position: relative;z-index: 1;}#sk-container-id-1 div.sk-parallel {display: flex;align-items: stretch;justify-content: center;background-color: white;position: relative;}#sk-container-id-1 div.sk-item::before, #sk-container-id-1 div.sk-parallel-item::before {content: \"\";position: absolute;border-left: 1px solid gray;box-sizing: border-box;top: 0;bottom: 0;left: 50%;z-index: -1;}#sk-container-id-1 div.sk-parallel-item {display: flex;flex-direction: column;z-index: 1;position: relative;background-color: white;}#sk-container-id-1 div.sk-parallel-item:first-child::after {align-self: flex-end;width: 50%;}#sk-container-id-1 div.sk-parallel-item:last-child::after {align-self: flex-start;width: 50%;}#sk-container-id-1 div.sk-parallel-item:only-child::after {width: 0;}#sk-container-id-1 div.sk-dashed-wrapped {border: 1px dashed gray;margin: 0 0.4em 0.5em 0.4em;box-sizing: border-box;padding-bottom: 0.4em;background-color: white;}#sk-container-id-1 div.sk-label label {font-family: monospace;font-weight: bold;display: inline-block;line-height: 1.2em;}#sk-container-id-1 div.sk-label-container {text-align: center;}#sk-container-id-1 div.sk-container {/* jupyter's `normalize.less` sets `[hidden] { display: none; }` but bootstrap.min.css set `[hidden] { display: none !important; }` so we also need the `!important` here to be able to override the default hidden behavior on the sphinx rendered scikit-learn.org. See: https://github.com/scikit-learn/scikit-learn/issues/21755 */display: inline-block !important;position: relative;}#sk-container-id-1 div.sk-text-repr-fallback {display: none;}</style><div id=\"sk-container-id-1\" class=\"sk-top-container\"><div class=\"sk-text-repr-fallback\"><pre>RandomForestClassifier(class_weight=&#x27;balanced&#x27;, max_depth=4, max_features=3,\n",
       "                       n_estimators=200, random_state=42)</pre><b>In a Jupyter environment, please rerun this cell to show the HTML representation or trust the notebook. <br />On GitHub, the HTML representation is unable to render, please try loading this page with nbviewer.org.</b></div><div class=\"sk-container\" hidden><div class=\"sk-item\"><div class=\"sk-estimator sk-toggleable\"><input class=\"sk-toggleable__control sk-hidden--visually\" id=\"sk-estimator-id-1\" type=\"checkbox\" checked><label for=\"sk-estimator-id-1\" class=\"sk-toggleable__label sk-toggleable__label-arrow\">RandomForestClassifier</label><div class=\"sk-toggleable__content\"><pre>RandomForestClassifier(class_weight=&#x27;balanced&#x27;, max_depth=4, max_features=3,\n",
       "                       n_estimators=200, random_state=42)</pre></div></div></div></div></div>"
      ],
      "text/plain": [
       "RandomForestClassifier(class_weight='balanced', max_depth=4, max_features=3,\n",
       "                       n_estimators=200, random_state=42)"
      ]
     },
     "execution_count": 13,
     "metadata": {},
     "output_type": "execute_result"
    }
   ],
   "source": [
    "rf_retrained_b = RandomForestClassifier(class_weight=\"balanced\", random_state=RAND_STATE,\n",
    "                                       n_estimators=200, criterion=\"gini\", max_features=3,\n",
    "                                       max_depth = 4)\n",
    "rf_retrained_b.fit(full_train_x, full_train_y)"
   ]
  },
  {
   "cell_type": "code",
   "execution_count": 15,
   "id": "176b4a5d",
   "metadata": {},
   "outputs": [
    {
     "data": {
      "text/html": [
       "<style>#sk-container-id-2 {color: black;background-color: white;}#sk-container-id-2 pre{padding: 0;}#sk-container-id-2 div.sk-toggleable {background-color: white;}#sk-container-id-2 label.sk-toggleable__label {cursor: pointer;display: block;width: 100%;margin-bottom: 0;padding: 0.3em;box-sizing: border-box;text-align: center;}#sk-container-id-2 label.sk-toggleable__label-arrow:before {content: \"▸\";float: left;margin-right: 0.25em;color: #696969;}#sk-container-id-2 label.sk-toggleable__label-arrow:hover:before {color: black;}#sk-container-id-2 div.sk-estimator:hover label.sk-toggleable__label-arrow:before {color: black;}#sk-container-id-2 div.sk-toggleable__content {max-height: 0;max-width: 0;overflow: hidden;text-align: left;background-color: #f0f8ff;}#sk-container-id-2 div.sk-toggleable__content pre {margin: 0.2em;color: black;border-radius: 0.25em;background-color: #f0f8ff;}#sk-container-id-2 input.sk-toggleable__control:checked~div.sk-toggleable__content {max-height: 200px;max-width: 100%;overflow: auto;}#sk-container-id-2 input.sk-toggleable__control:checked~label.sk-toggleable__label-arrow:before {content: \"▾\";}#sk-container-id-2 div.sk-estimator input.sk-toggleable__control:checked~label.sk-toggleable__label {background-color: #d4ebff;}#sk-container-id-2 div.sk-label input.sk-toggleable__control:checked~label.sk-toggleable__label {background-color: #d4ebff;}#sk-container-id-2 input.sk-hidden--visually {border: 0;clip: rect(1px 1px 1px 1px);clip: rect(1px, 1px, 1px, 1px);height: 1px;margin: -1px;overflow: hidden;padding: 0;position: absolute;width: 1px;}#sk-container-id-2 div.sk-estimator {font-family: monospace;background-color: #f0f8ff;border: 1px dotted black;border-radius: 0.25em;box-sizing: border-box;margin-bottom: 0.5em;}#sk-container-id-2 div.sk-estimator:hover {background-color: #d4ebff;}#sk-container-id-2 div.sk-parallel-item::after {content: \"\";width: 100%;border-bottom: 1px solid gray;flex-grow: 1;}#sk-container-id-2 div.sk-label:hover label.sk-toggleable__label {background-color: #d4ebff;}#sk-container-id-2 div.sk-serial::before {content: \"\";position: absolute;border-left: 1px solid gray;box-sizing: border-box;top: 0;bottom: 0;left: 50%;z-index: 0;}#sk-container-id-2 div.sk-serial {display: flex;flex-direction: column;align-items: center;background-color: white;padding-right: 0.2em;padding-left: 0.2em;position: relative;}#sk-container-id-2 div.sk-item {position: relative;z-index: 1;}#sk-container-id-2 div.sk-parallel {display: flex;align-items: stretch;justify-content: center;background-color: white;position: relative;}#sk-container-id-2 div.sk-item::before, #sk-container-id-2 div.sk-parallel-item::before {content: \"\";position: absolute;border-left: 1px solid gray;box-sizing: border-box;top: 0;bottom: 0;left: 50%;z-index: -1;}#sk-container-id-2 div.sk-parallel-item {display: flex;flex-direction: column;z-index: 1;position: relative;background-color: white;}#sk-container-id-2 div.sk-parallel-item:first-child::after {align-self: flex-end;width: 50%;}#sk-container-id-2 div.sk-parallel-item:last-child::after {align-self: flex-start;width: 50%;}#sk-container-id-2 div.sk-parallel-item:only-child::after {width: 0;}#sk-container-id-2 div.sk-dashed-wrapped {border: 1px dashed gray;margin: 0 0.4em 0.5em 0.4em;box-sizing: border-box;padding-bottom: 0.4em;background-color: white;}#sk-container-id-2 div.sk-label label {font-family: monospace;font-weight: bold;display: inline-block;line-height: 1.2em;}#sk-container-id-2 div.sk-label-container {text-align: center;}#sk-container-id-2 div.sk-container {/* jupyter's `normalize.less` sets `[hidden] { display: none; }` but bootstrap.min.css set `[hidden] { display: none !important; }` so we also need the `!important` here to be able to override the default hidden behavior on the sphinx rendered scikit-learn.org. See: https://github.com/scikit-learn/scikit-learn/issues/21755 */display: inline-block !important;position: relative;}#sk-container-id-2 div.sk-text-repr-fallback {display: none;}</style><div id=\"sk-container-id-2\" class=\"sk-top-container\"><div class=\"sk-text-repr-fallback\"><pre>RandomForestClassifier(class_weight=&#x27;balanced&#x27;, max_depth=5, max_features=5,\n",
       "                       n_estimators=200, random_state=42)</pre><b>In a Jupyter environment, please rerun this cell to show the HTML representation or trust the notebook. <br />On GitHub, the HTML representation is unable to render, please try loading this page with nbviewer.org.</b></div><div class=\"sk-container\" hidden><div class=\"sk-item\"><div class=\"sk-estimator sk-toggleable\"><input class=\"sk-toggleable__control sk-hidden--visually\" id=\"sk-estimator-id-2\" type=\"checkbox\" checked><label for=\"sk-estimator-id-2\" class=\"sk-toggleable__label sk-toggleable__label-arrow\">RandomForestClassifier</label><div class=\"sk-toggleable__content\"><pre>RandomForestClassifier(class_weight=&#x27;balanced&#x27;, max_depth=5, max_features=5,\n",
       "                       n_estimators=200, random_state=42)</pre></div></div></div></div></div>"
      ],
      "text/plain": [
       "RandomForestClassifier(class_weight='balanced', max_depth=5, max_features=5,\n",
       "                       n_estimators=200, random_state=42)"
      ]
     },
     "execution_count": 15,
     "metadata": {},
     "output_type": "execute_result"
    }
   ],
   "source": [
    "rf_retrained_c = RandomForestClassifier(class_weight=\"balanced\", random_state=RAND_STATE,\n",
    "                                       n_estimators=200, criterion=\"gini\", max_features=5,\n",
    "                                       max_depth = 5)\n",
    "rf_retrained_c.fit(full_train_x, full_train_y)"
   ]
  },
  {
   "cell_type": "code",
   "execution_count": 20,
   "id": "f4238c64",
   "metadata": {},
   "outputs": [
    {
     "data": {
      "text/html": [
       "<div>\n",
       "<style scoped>\n",
       "    .dataframe tbody tr th:only-of-type {\n",
       "        vertical-align: middle;\n",
       "    }\n",
       "\n",
       "    .dataframe tbody tr th {\n",
       "        vertical-align: top;\n",
       "    }\n",
       "\n",
       "    .dataframe thead th {\n",
       "        text-align: right;\n",
       "    }\n",
       "</style>\n",
       "<table border=\"1\" class=\"dataframe\">\n",
       "  <thead>\n",
       "    <tr style=\"text-align: right;\">\n",
       "      <th></th>\n",
       "      <th>coef</th>\n",
       "      <th>weight</th>\n",
       "    </tr>\n",
       "  </thead>\n",
       "  <tbody>\n",
       "    <tr>\n",
       "      <th>6</th>\n",
       "      <td>adp_dist</td>\n",
       "      <td>0.411951</td>\n",
       "    </tr>\n",
       "    <tr>\n",
       "      <th>22</th>\n",
       "      <td>compartment_axon</td>\n",
       "      <td>0.153780</td>\n",
       "    </tr>\n",
       "    <tr>\n",
       "      <th>27</th>\n",
       "      <td>post_angle</td>\n",
       "      <td>0.117764</td>\n",
       "    </tr>\n",
       "    <tr>\n",
       "      <th>26</th>\n",
       "      <td>pre_angle</td>\n",
       "      <td>0.080377</td>\n",
       "    </tr>\n",
       "    <tr>\n",
       "      <th>7</th>\n",
       "      <td>post_skeletal_distance_to_soma</td>\n",
       "      <td>0.073222</td>\n",
       "    </tr>\n",
       "    <tr>\n",
       "      <th>23</th>\n",
       "      <td>compartment_basal</td>\n",
       "      <td>0.032310</td>\n",
       "    </tr>\n",
       "    <tr>\n",
       "      <th>11</th>\n",
       "      <td>pre_nucleus_y</td>\n",
       "      <td>0.023790</td>\n",
       "    </tr>\n",
       "    <tr>\n",
       "      <th>10</th>\n",
       "      <td>pre_nucleus_x</td>\n",
       "      <td>0.015119</td>\n",
       "    </tr>\n",
       "    <tr>\n",
       "      <th>28</th>\n",
       "      <td>nucleus_dist</td>\n",
       "      <td>0.013352</td>\n",
       "    </tr>\n",
       "    <tr>\n",
       "      <th>1</th>\n",
       "      <td>axonal_coor_y</td>\n",
       "      <td>0.009777</td>\n",
       "    </tr>\n",
       "    <tr>\n",
       "      <th>4</th>\n",
       "      <td>dendritic_coor_y</td>\n",
       "      <td>0.008606</td>\n",
       "    </tr>\n",
       "    <tr>\n",
       "      <th>14</th>\n",
       "      <td>post_nucleus_y</td>\n",
       "      <td>0.007701</td>\n",
       "    </tr>\n",
       "    <tr>\n",
       "      <th>12</th>\n",
       "      <td>pre_nucleus_z</td>\n",
       "      <td>0.005957</td>\n",
       "    </tr>\n",
       "    <tr>\n",
       "      <th>13</th>\n",
       "      <td>post_nucleus_x</td>\n",
       "      <td>0.004921</td>\n",
       "    </tr>\n",
       "    <tr>\n",
       "      <th>0</th>\n",
       "      <td>axonal_coor_x</td>\n",
       "      <td>0.004918</td>\n",
       "    </tr>\n",
       "    <tr>\n",
       "      <th>3</th>\n",
       "      <td>dendritic_coor_x</td>\n",
       "      <td>0.004680</td>\n",
       "    </tr>\n",
       "    <tr>\n",
       "      <th>8</th>\n",
       "      <td>pre_skeletal_distance_to_soma</td>\n",
       "      <td>0.004297</td>\n",
       "    </tr>\n",
       "    <tr>\n",
       "      <th>24</th>\n",
       "      <td>compartment_oblique</td>\n",
       "      <td>0.003097</td>\n",
       "    </tr>\n",
       "    <tr>\n",
       "      <th>29</th>\n",
       "      <td>test_score_diff</td>\n",
       "      <td>0.002955</td>\n",
       "    </tr>\n",
       "    <tr>\n",
       "      <th>5</th>\n",
       "      <td>dendritic_coor_z</td>\n",
       "      <td>0.002455</td>\n",
       "    </tr>\n",
       "    <tr>\n",
       "      <th>31</th>\n",
       "      <td>rf_dist</td>\n",
       "      <td>0.002371</td>\n",
       "    </tr>\n",
       "    <tr>\n",
       "      <th>2</th>\n",
       "      <td>axonal_coor_z</td>\n",
       "      <td>0.002320</td>\n",
       "    </tr>\n",
       "    <tr>\n",
       "      <th>9</th>\n",
       "      <td>post_rf_y</td>\n",
       "      <td>0.002225</td>\n",
       "    </tr>\n",
       "    <tr>\n",
       "      <th>30</th>\n",
       "      <td>oracle_diff</td>\n",
       "      <td>0.001910</td>\n",
       "    </tr>\n",
       "    <tr>\n",
       "      <th>15</th>\n",
       "      <td>post_nucleus_z</td>\n",
       "      <td>0.001800</td>\n",
       "    </tr>\n",
       "    <tr>\n",
       "      <th>21</th>\n",
       "      <td>compartment_apical_tuft</td>\n",
       "      <td>0.001496</td>\n",
       "    </tr>\n",
       "    <tr>\n",
       "      <th>16</th>\n",
       "      <td>pre_brain_area_RL</td>\n",
       "      <td>0.001378</td>\n",
       "    </tr>\n",
       "    <tr>\n",
       "      <th>18</th>\n",
       "      <td>post_brain_area_RL</td>\n",
       "      <td>0.001258</td>\n",
       "    </tr>\n",
       "    <tr>\n",
       "      <th>20</th>\n",
       "      <td>compartment_apical_shaft</td>\n",
       "      <td>0.001236</td>\n",
       "    </tr>\n",
       "    <tr>\n",
       "      <th>19</th>\n",
       "      <td>post_brain_area_V1</td>\n",
       "      <td>0.001198</td>\n",
       "    </tr>\n",
       "    <tr>\n",
       "      <th>25</th>\n",
       "      <td>compartment_soma</td>\n",
       "      <td>0.001056</td>\n",
       "    </tr>\n",
       "    <tr>\n",
       "      <th>17</th>\n",
       "      <td>pre_brain_area_V1</td>\n",
       "      <td>0.000724</td>\n",
       "    </tr>\n",
       "  </tbody>\n",
       "</table>\n",
       "</div>"
      ],
      "text/plain": [
       "                              coef    weight\n",
       "6                         adp_dist  0.411951\n",
       "22                compartment_axon  0.153780\n",
       "27                      post_angle  0.117764\n",
       "26                       pre_angle  0.080377\n",
       "7   post_skeletal_distance_to_soma  0.073222\n",
       "23               compartment_basal  0.032310\n",
       "11                   pre_nucleus_y  0.023790\n",
       "10                   pre_nucleus_x  0.015119\n",
       "28                    nucleus_dist  0.013352\n",
       "1                    axonal_coor_y  0.009777\n",
       "4                 dendritic_coor_y  0.008606\n",
       "14                  post_nucleus_y  0.007701\n",
       "12                   pre_nucleus_z  0.005957\n",
       "13                  post_nucleus_x  0.004921\n",
       "0                    axonal_coor_x  0.004918\n",
       "3                 dendritic_coor_x  0.004680\n",
       "8    pre_skeletal_distance_to_soma  0.004297\n",
       "24             compartment_oblique  0.003097\n",
       "29                 test_score_diff  0.002955\n",
       "5                 dendritic_coor_z  0.002455\n",
       "31                         rf_dist  0.002371\n",
       "2                    axonal_coor_z  0.002320\n",
       "9                        post_rf_y  0.002225\n",
       "30                     oracle_diff  0.001910\n",
       "15                  post_nucleus_z  0.001800\n",
       "21         compartment_apical_tuft  0.001496\n",
       "16               pre_brain_area_RL  0.001378\n",
       "18              post_brain_area_RL  0.001258\n",
       "20        compartment_apical_shaft  0.001236\n",
       "19              post_brain_area_V1  0.001198\n",
       "25                compartment_soma  0.001056\n",
       "17               pre_brain_area_V1  0.000724"
      ]
     },
     "execution_count": 20,
     "metadata": {},
     "output_type": "execute_result"
    }
   ],
   "source": [
    "rf_coef = pd.DataFrame({\"weight\": rf_retrained_a.feature_importances_})\n",
    "rf_coef[\"coef\"] = X.columns\n",
    "rf_coef = rf_coef[[\"coef\", \"weight\"]]\n",
    "rf_coef.sort_values(by=\"weight\", ascending=False)"
   ]
  },
  {
   "cell_type": "markdown",
   "id": "c3fa4d93",
   "metadata": {},
   "source": [
    "---"
   ]
  },
  {
   "cell_type": "markdown",
   "id": "f94f112b",
   "metadata": {},
   "source": [
    "### Eval"
   ]
  },
  {
   "cell_type": "code",
   "execution_count": 18,
   "id": "cb1fb770",
   "metadata": {},
   "outputs": [
    {
     "name": "stdout",
     "output_type": "stream",
     "text": [
      "Random Forest Accuracy: 0.7228724406059138\n",
      "Random Forest Balanced Accuracy: 0.7531518868728171\n"
     ]
    }
   ],
   "source": [
    "#best rf\n",
    "best_rf_pred = rf_retrained_a.predict(X_test_stand)\n",
    "\n",
    "rf_accuracy = accuracy_score(y_test, best_rf_pred)\n",
    "rf_balanced_accuracy = balanced_accuracy_score(y_test, best_rf_pred)\n",
    "\n",
    "print(\"Random Forest Accuracy: \" + str(rf_accuracy))\n",
    "print(\"Random Forest Balanced Accuracy: \" + str(rf_balanced_accuracy))"
   ]
  },
  {
   "cell_type": "code",
   "execution_count": 14,
   "id": "0f8fa0c4",
   "metadata": {},
   "outputs": [
    {
     "name": "stdout",
     "output_type": "stream",
     "text": [
      "Random Forest Accuracy: 0.7153119702962305\n",
      "Random Forest Balanced Accuracy: 0.7402539321143973\n"
     ]
    }
   ],
   "source": [
    "\n",
    "best_rf_pred = rf_retrained_b.predict(X_test_stand)\n",
    "\n",
    "rf_accuracy = accuracy_score(y_test, best_rf_pred)\n",
    "rf_balanced_accuracy = balanced_accuracy_score(y_test, best_rf_pred)\n",
    "\n",
    "print(\"Random Forest Accuracy: \" + str(rf_accuracy))\n",
    "print(\"Random Forest Balanced Accuracy: \" + str(rf_balanced_accuracy))"
   ]
  },
  {
   "cell_type": "code",
   "execution_count": 16,
   "id": "17583e57",
   "metadata": {},
   "outputs": [
    {
     "name": "stdout",
     "output_type": "stream",
     "text": [
      "Random Forest Accuracy: 0.7079667446928727\n",
      "Random Forest Balanced Accuracy: 0.7456438909927282\n"
     ]
    }
   ],
   "source": [
    "best_rf_pred = rf_retrained_c.predict(X_test_stand)\n",
    "\n",
    "rf_accuracy = accuracy_score(y_test, best_rf_pred)\n",
    "rf_balanced_accuracy = balanced_accuracy_score(y_test, best_rf_pred)\n",
    "\n",
    "print(\"Random Forest Accuracy: \" + str(rf_accuracy))\n",
    "print(\"Random Forest Balanced Accuracy: \" + str(rf_balanced_accuracy))"
   ]
  },
  {
   "cell_type": "code",
   "execution_count": null,
   "id": "f9277da6",
   "metadata": {},
   "outputs": [],
   "source": []
  },
  {
   "cell_type": "markdown",
   "id": "628a91bf",
   "metadata": {},
   "source": [
    "# XGradient Boosting"
   ]
  },
  {
   "cell_type": "code",
   "execution_count": 17,
   "id": "8f104f8b",
   "metadata": {},
   "outputs": [],
   "source": [
    "#param grid\n",
    "gb_grid = {\n",
    "    \"booster\": ['gbtree'],\n",
    "    \"eta\": [0.001, 0.005],\n",
    "    \"max_depth\": [3, 4, 5],\n",
    "    'colsample_bytree': [0.1, 0.2, 0.25, 0.3],\n",
    "    'subsample': [0.1, 0.2, 0.25, 0.3],\n",
    "}"
   ]
  },
  {
   "cell_type": "code",
   "execution_count": 27,
   "id": "a04310aa",
   "metadata": {},
   "outputs": [
    {
     "name": "stdout",
     "output_type": "stream",
     "text": [
      "Training on gbtree, 0.001, 3, 0.1, 0.1...\n",
      "New best accuracy: 0.8249178569843147\n",
      "Training on gbtree, 0.001, 3, 0.1, 0.2...\n",
      "New best accuracy: 0.8255107959285446\n",
      "Training on gbtree, 0.001, 3, 0.1, 0.25...\n",
      "New best accuracy: 0.8255785678410947\n",
      "Training on gbtree, 0.001, 3, 0.1, 0.3...\n",
      "New low accuracy: 0.8248670198706423\n",
      "Training on gbtree, 0.001, 3, 0.2, 0.1...\n",
      "New best accuracy: 0.8258669467337093\n",
      "Training on gbtree, 0.001, 3, 0.2, 0.2...\n",
      "Didn't improve: 0.8253756579095319\n",
      "Training on gbtree, 0.001, 3, 0.2, 0.25...\n",
      "Didn't improve: 0.824918261642436\n",
      "Training on gbtree, 0.001, 3, 0.2, 0.3...\n",
      "Didn't improve: 0.8250029631880154\n",
      "Training on gbtree, 0.001, 3, 0.25, 0.1...\n",
      "New low accuracy: 0.8226652377241335\n",
      "Training on gbtree, 0.001, 3, 0.25, 0.2...\n",
      "New low accuracy: 0.8223094749315787\n",
      "Training on gbtree, 0.001, 3, 0.25, 0.25...\n",
      "New low accuracy: 0.8219367848019272\n",
      "Training on gbtree, 0.001, 3, 0.25, 0.3...\n",
      "Didn't improve: 0.8223264258019845\n",
      "Training on gbtree, 0.001, 3, 0.3, 0.1...\n",
      "Didn't improve: 0.8232073389807076\n",
      "Training on gbtree, 0.001, 3, 0.3, 0.2...\n",
      "Didn't improve: 0.8227330027488857\n",
      "Training on gbtree, 0.001, 3, 0.3, 0.25...\n",
      "Didn't improve: 0.8224958306150927\n",
      "Training on gbtree, 0.001, 3, 0.3, 0.3...\n",
      "Didn't improve: 0.8227329924171889\n",
      "Training on gbtree, 0.001, 4, 0.1, 0.1...\n",
      "Didn't improve: 0.8249178569843147\n",
      "Training on gbtree, 0.001, 4, 0.1, 0.2...\n",
      "Didn't improve: 0.8255107959285446\n",
      "Training on gbtree, 0.001, 4, 0.1, 0.25...\n",
      "Didn't improve: 0.8255785678410947\n",
      "Training on gbtree, 0.001, 4, 0.1, 0.3...\n",
      "Didn't improve: 0.8248670198706423\n",
      "Training on gbtree, 0.001, 4, 0.2, 0.1...\n",
      "Didn't improve: 0.8258669467337093\n",
      "Training on gbtree, 0.001, 4, 0.2, 0.2...\n",
      "Didn't improve: 0.8253756579095319\n",
      "Training on gbtree, 0.001, 4, 0.2, 0.25...\n",
      "Didn't improve: 0.824918261642436\n",
      "Training on gbtree, 0.001, 4, 0.2, 0.3...\n",
      "Didn't improve: 0.8250029631880154\n",
      "Training on gbtree, 0.001, 4, 0.25, 0.1...\n",
      "Didn't improve: 0.8226652377241335\n",
      "Training on gbtree, 0.001, 4, 0.25, 0.2...\n",
      "Didn't improve: 0.8223094749315787\n",
      "Training on gbtree, 0.001, 4, 0.25, 0.25...\n",
      "Didn't improve: 0.8219367848019272\n",
      "Training on gbtree, 0.001, 4, 0.25, 0.3...\n",
      "Didn't improve: 0.8223264258019845\n",
      "Training on gbtree, 0.001, 4, 0.3, 0.1...\n",
      "Didn't improve: 0.8232073389807076\n",
      "Training on gbtree, 0.001, 4, 0.3, 0.2...\n",
      "Didn't improve: 0.8227330027488857\n",
      "Training on gbtree, 0.001, 4, 0.3, 0.25...\n",
      "Didn't improve: 0.8224958306150927\n",
      "Training on gbtree, 0.001, 4, 0.3, 0.3...\n",
      "Didn't improve: 0.8227329924171889\n",
      "Training on gbtree, 0.001, 5, 0.1, 0.1...\n",
      "Didn't improve: 0.8249178569843147\n",
      "Training on gbtree, 0.001, 5, 0.1, 0.2...\n",
      "Didn't improve: 0.8255107959285446\n",
      "Training on gbtree, 0.001, 5, 0.1, 0.25...\n",
      "Didn't improve: 0.8255785678410947\n",
      "Training on gbtree, 0.001, 5, 0.1, 0.3...\n",
      "Didn't improve: 0.8248670198706423\n",
      "Training on gbtree, 0.001, 5, 0.2, 0.1...\n",
      "Didn't improve: 0.8258669467337093\n",
      "Training on gbtree, 0.001, 5, 0.2, 0.2...\n",
      "Didn't improve: 0.8253756579095319\n",
      "Training on gbtree, 0.001, 5, 0.2, 0.25...\n",
      "Didn't improve: 0.824918261642436\n",
      "Training on gbtree, 0.001, 5, 0.2, 0.3...\n",
      "Didn't improve: 0.8250029631880154\n",
      "Training on gbtree, 0.001, 5, 0.25, 0.1...\n",
      "Didn't improve: 0.8226652377241335\n",
      "Training on gbtree, 0.001, 5, 0.25, 0.2...\n",
      "Didn't improve: 0.8223094749315787\n",
      "Training on gbtree, 0.001, 5, 0.25, 0.25...\n",
      "Didn't improve: 0.8219367848019272\n",
      "Training on gbtree, 0.001, 5, 0.25, 0.3...\n",
      "Didn't improve: 0.8223264258019845\n",
      "Training on gbtree, 0.001, 5, 0.3, 0.1...\n",
      "Didn't improve: 0.8232073389807076\n",
      "Training on gbtree, 0.001, 5, 0.3, 0.2...\n",
      "Didn't improve: 0.8227330027488857\n",
      "Training on gbtree, 0.001, 5, 0.3, 0.25...\n",
      "Didn't improve: 0.8224958306150927\n",
      "Training on gbtree, 0.001, 5, 0.3, 0.3...\n",
      "Didn't improve: 0.8227329924171889\n",
      "Training on gbtree, 0.005, 3, 0.1, 0.1...\n",
      "New best accuracy: 0.826916896802341\n",
      "Training on gbtree, 0.005, 3, 0.1, 0.2...\n",
      "New best accuracy: 0.8281027896143627\n",
      "Training on gbtree, 0.005, 3, 0.1, 0.25...\n",
      "New best accuracy: 0.8286110281609794\n",
      "Training on gbtree, 0.005, 3, 0.1, 0.3...\n",
      "Didn't improve: 0.8268660809260451\n",
      "Training on gbtree, 0.005, 3, 0.2, 0.1...\n",
      "Didn't improve: 0.8275440738415089\n",
      "Training on gbtree, 0.005, 3, 0.2, 0.2...\n",
      "Didn't improve: 0.825663649937503\n",
      "Training on gbtree, 0.005, 3, 0.2, 0.25...\n",
      "Didn't improve: 0.8257822400222816\n",
      "Training on gbtree, 0.005, 3, 0.2, 0.3...\n",
      "Didn't improve: 0.8261549399096466\n",
      "Training on gbtree, 0.005, 3, 0.25, 0.1...\n",
      "Didn't improve: 0.8238680153984985\n",
      "Training on gbtree, 0.005, 3, 0.25, 0.2...\n",
      "Didn't improve: 0.823359812438837\n",
      "Training on gbtree, 0.005, 3, 0.25, 0.25...\n",
      "Didn't improve: 0.8226991170796022\n",
      "Training on gbtree, 0.005, 3, 0.25, 0.3...\n",
      "Didn't improve: 0.8232751137631735\n",
      "Training on gbtree, 0.005, 3, 0.3, 0.1...\n",
      "Didn't improve: 0.8238680073627345\n",
      "Training on gbtree, 0.005, 3, 0.3, 0.2...\n",
      "Didn't improve: 0.8236816866921925\n",
      "Training on gbtree, 0.005, 3, 0.3, 0.25...\n",
      "Didn't improve: 0.8237325180660335\n",
      "Training on gbtree, 0.005, 3, 0.3, 0.3...\n",
      "Didn't improve: 0.823681672916597\n",
      "Training on gbtree, 0.005, 4, 0.1, 0.1...\n",
      "Didn't improve: 0.826916896802341\n",
      "Training on gbtree, 0.005, 4, 0.1, 0.2...\n",
      "Didn't improve: 0.8281027896143627\n",
      "Training on gbtree, 0.005, 4, 0.1, 0.25...\n",
      "Didn't improve: 0.8286110281609794\n",
      "Training on gbtree, 0.005, 4, 0.1, 0.3...\n",
      "Didn't improve: 0.8268660809260451\n",
      "Training on gbtree, 0.005, 4, 0.2, 0.1...\n",
      "Didn't improve: 0.8275440738415089\n",
      "Training on gbtree, 0.005, 4, 0.2, 0.2...\n",
      "Didn't improve: 0.825663649937503\n",
      "Training on gbtree, 0.005, 4, 0.2, 0.25...\n",
      "Didn't improve: 0.8257822400222816\n",
      "Training on gbtree, 0.005, 4, 0.2, 0.3...\n",
      "Didn't improve: 0.8261549399096466\n",
      "Training on gbtree, 0.005, 4, 0.25, 0.1...\n",
      "Didn't improve: 0.8238680153984985\n",
      "Training on gbtree, 0.005, 4, 0.25, 0.2...\n",
      "Didn't improve: 0.823359812438837\n",
      "Training on gbtree, 0.005, 4, 0.25, 0.25...\n",
      "Didn't improve: 0.8226991170796022\n",
      "Training on gbtree, 0.005, 4, 0.25, 0.3...\n",
      "Didn't improve: 0.8232751137631735\n",
      "Training on gbtree, 0.005, 4, 0.3, 0.1...\n",
      "Didn't improve: 0.8238680073627345\n",
      "Training on gbtree, 0.005, 4, 0.3, 0.2...\n",
      "Didn't improve: 0.8236816866921925\n",
      "Training on gbtree, 0.005, 4, 0.3, 0.25...\n",
      "Didn't improve: 0.8237325180660335\n",
      "Training on gbtree, 0.005, 4, 0.3, 0.3...\n",
      "Didn't improve: 0.823681672916597\n",
      "Training on gbtree, 0.005, 5, 0.1, 0.1...\n",
      "Didn't improve: 0.826916896802341\n",
      "Training on gbtree, 0.005, 5, 0.1, 0.2...\n",
      "Didn't improve: 0.8281027896143627\n",
      "Training on gbtree, 0.005, 5, 0.1, 0.25...\n",
      "Didn't improve: 0.8286110281609794\n",
      "Training on gbtree, 0.005, 5, 0.1, 0.3...\n",
      "Didn't improve: 0.8268660809260451\n",
      "Training on gbtree, 0.005, 5, 0.2, 0.1...\n",
      "Didn't improve: 0.8275440738415089\n",
      "Training on gbtree, 0.005, 5, 0.2, 0.2...\n",
      "Didn't improve: 0.825663649937503\n",
      "Training on gbtree, 0.005, 5, 0.2, 0.25...\n",
      "Didn't improve: 0.8257822400222816\n",
      "Training on gbtree, 0.005, 5, 0.2, 0.3...\n",
      "Didn't improve: 0.8261549399096466\n",
      "Training on gbtree, 0.005, 5, 0.25, 0.1...\n",
      "Didn't improve: 0.8238680153984985\n",
      "Training on gbtree, 0.005, 5, 0.25, 0.2...\n",
      "Didn't improve: 0.823359812438837\n",
      "Training on gbtree, 0.005, 5, 0.25, 0.25...\n",
      "Didn't improve: 0.8226991170796022\n",
      "Training on gbtree, 0.005, 5, 0.25, 0.3...\n",
      "Didn't improve: 0.8232751137631735\n",
      "Training on gbtree, 0.005, 5, 0.3, 0.1...\n",
      "Didn't improve: 0.8238680073627345\n",
      "Training on gbtree, 0.005, 5, 0.3, 0.2...\n",
      "Didn't improve: 0.8236816866921925\n",
      "Training on gbtree, 0.005, 5, 0.3, 0.25...\n",
      "Didn't improve: 0.8237325180660335\n",
      "Training on gbtree, 0.005, 5, 0.3, 0.3...\n",
      "Didn't improve: 0.823681672916597\n"
     ]
    }
   ],
   "source": [
    "best_gb_acc = 0.0\n",
    "best_gb_model = None\n",
    "best_gb_params = None\n",
    "low_gb_acc = float('inf')\n",
    "low_gb_model = None\n",
    "low_gb_params = None\n",
    "all_params = []\n",
    "all_models = []\n",
    "for booster in gb_grid[\"booster\"]:\n",
    "    for eta in gb_grid[\"eta\"]:\n",
    "        for max_depth in gb_grid[\"max_depth\"]:\n",
    "            for colsample in gb_grid[\"colsample_bytree\"]:\n",
    "                for subsample in gb_grid[\"subsample\"]:\n",
    "#                     for gamma in gb_grid[\"gamma\"]:\n",
    "#                         for min_child_weight in gb_grid[\"min_child_weight\"]:\n",
    "                    print(f\"Training on {booster}, {eta}, {max_depth}, {colsample}, {subsample}...\")\n",
    "                    gb = XGBClassifier(booster=booster, eta=eta,\n",
    "                                               max_depth = 3, colsample_bytree=colsample,\n",
    "                                      gamma=5.0,min_child_weight=3, subsample=subsample)\n",
    "                    gb.fit(X_train, y_train)\n",
    "                    val_pred = gb.predict(X_val)\n",
    "                    acc = balanced_accuracy_score(y_val, val_pred)\n",
    "                    all_params.append((booster, eta, max_depth, colsample, subsample, gamma, min_child_weight))\n",
    "                    all_models.append(gb)\n",
    "                    if acc > 0.90:\n",
    "                        print(f\"overfit: {acc}\")\n",
    "                        continue\n",
    "                    elif acc > best_gb_acc:\n",
    "                        print(f\"New best accuracy: {acc}\")\n",
    "                        best_gb_acc = acc\n",
    "                        best_gb_model = gb\n",
    "                        best_gb_params = (booster, eta, max_depth, colsample, subsample)\n",
    "                    elif acc < low_gb_acc:\n",
    "                        print(f\"New low accuracy: {acc}\")\n",
    "                        low_gb_acc = acc\n",
    "                        low_gb_model = gb\n",
    "                        low_gb_params = (booster, eta, max_depth, colsample, subsample)\n",
    "                    else:\n",
    "                        print(f\"Didn't improve: {acc}\")\n",
    "            "
   ]
  },
  {
   "cell_type": "code",
   "execution_count": null,
   "id": "33a803f8",
   "metadata": {},
   "outputs": [],
   "source": []
  },
  {
   "cell_type": "code",
   "execution_count": 28,
   "id": "ca2c76e5",
   "metadata": {},
   "outputs": [
    {
     "name": "stdout",
     "output_type": "stream",
     "text": [
      "0/96: balanced accuracy: 0.7317721038651271\n",
      "1/96: balanced accuracy: 0.7372259523422313\n",
      "2/96: balanced accuracy: 0.7352724794585259\n",
      "3/96: balanced accuracy: 0.7304420385815735\n",
      "4/96: balanced accuracy: 0.7440350347327092\n",
      "5/96: balanced accuracy: 0.7418918291011314\n",
      "6/96: balanced accuracy: 0.7423661609708121\n",
      "7/96: balanced accuracy: 0.7422983992751435\n",
      "8/96: balanced accuracy: 0.7475954278279859\n",
      "9/96: balanced accuracy: 0.7404727055889847\n",
      "10/96: balanced accuracy: 0.7474463520975149\n",
      "11/96: balanced accuracy: 0.7404862579281184\n",
      "12/96: balanced accuracy: 0.7407030953542582\n",
      "13/96: balanced accuracy: 0.7422364457248178\n",
      "14/96: balanced accuracy: 0.7350053047727466\n",
      "15/96: balanced accuracy: 0.7370536440303882\n",
      "16/96: balanced accuracy: 0.7317721038651271\n",
      "17/96: balanced accuracy: 0.7372259523422313\n",
      "18/96: balanced accuracy: 0.7352724794585259\n",
      "19/96: balanced accuracy: 0.7304420385815735\n",
      "20/96: balanced accuracy: 0.7440350347327092\n",
      "21/96: balanced accuracy: 0.7418918291011314\n",
      "22/96: balanced accuracy: 0.7423661609708121\n",
      "23/96: balanced accuracy: 0.7422983992751435\n",
      "24/96: balanced accuracy: 0.7475954278279859\n",
      "25/96: balanced accuracy: 0.7404727055889847\n",
      "26/96: balanced accuracy: 0.7474463520975149\n",
      "27/96: balanced accuracy: 0.7404862579281184\n",
      "28/96: balanced accuracy: 0.7407030953542582\n",
      "29/96: balanced accuracy: 0.7422364457248178\n",
      "30/96: balanced accuracy: 0.7350053047727466\n",
      "31/96: balanced accuracy: 0.7370536440303882\n",
      "32/96: balanced accuracy: 0.7317721038651271\n",
      "33/96: balanced accuracy: 0.7372259523422313\n",
      "34/96: balanced accuracy: 0.7352724794585259\n",
      "35/96: balanced accuracy: 0.7304420385815735\n",
      "36/96: balanced accuracy: 0.7440350347327092\n",
      "37/96: balanced accuracy: 0.7418918291011314\n",
      "38/96: balanced accuracy: 0.7423661609708121\n",
      "39/96: balanced accuracy: 0.7422983992751435\n",
      "40/96: balanced accuracy: 0.7475954278279859\n",
      "41/96: balanced accuracy: 0.7404727055889847\n",
      "42/96: balanced accuracy: 0.7474463520975149\n",
      "43/96: balanced accuracy: 0.7404862579281184\n",
      "44/96: balanced accuracy: 0.7407030953542582\n",
      "45/96: balanced accuracy: 0.7422364457248178\n",
      "46/96: balanced accuracy: 0.7350053047727466\n",
      "47/96: balanced accuracy: 0.7370536440303882\n",
      "48/96: balanced accuracy: 0.7336849197314314\n",
      "49/96: balanced accuracy: 0.7406721185790954\n",
      "50/96: balanced accuracy: 0.740794089631299\n",
      "51/96: balanced accuracy: 0.7337255767488325\n",
      "52/96: balanced accuracy: 0.7412122760959969\n",
      "53/96: balanced accuracy: 0.7403991357479729\n",
      "54/96: balanced accuracy: 0.7404940021219091\n",
      "55/96: balanced accuracy: 0.740697287208915\n",
      "56/96: balanced accuracy: 0.7449624019391461\n",
      "57/96: balanced accuracy: 0.7426701205770974\n",
      "58/96: balanced accuracy: 0.742331312098754\n",
      "59/96: balanced accuracy: 0.7406353336585895\n",
      "60/96: balanced accuracy: 0.7381649358393545\n",
      "61/96: balanced accuracy: 0.7449759542782799\n",
      "62/96: balanced accuracy: 0.7409876944760666\n",
      "63/96: balanced accuracy: 0.7323045171882381\n",
      "64/96: balanced accuracy: 0.7336849197314314\n",
      "65/96: balanced accuracy: 0.7406721185790954\n",
      "66/96: balanced accuracy: 0.740794089631299\n",
      "67/96: balanced accuracy: 0.7337255767488325\n",
      "68/96: balanced accuracy: 0.7412122760959969\n",
      "69/96: balanced accuracy: 0.7403991357479729\n",
      "70/96: balanced accuracy: 0.7404940021219091\n",
      "71/96: balanced accuracy: 0.740697287208915\n",
      "72/96: balanced accuracy: 0.7449624019391461\n",
      "73/96: balanced accuracy: 0.7426701205770974\n",
      "74/96: balanced accuracy: 0.742331312098754\n",
      "75/96: balanced accuracy: 0.7406353336585895\n",
      "76/96: balanced accuracy: 0.7381649358393545\n",
      "77/96: balanced accuracy: 0.7449759542782799\n",
      "78/96: balanced accuracy: 0.7409876944760666\n",
      "79/96: balanced accuracy: 0.7323045171882381\n",
      "80/96: balanced accuracy: 0.7336849197314314\n",
      "81/96: balanced accuracy: 0.7406721185790954\n",
      "82/96: balanced accuracy: 0.740794089631299\n",
      "83/96: balanced accuracy: 0.7337255767488325\n",
      "84/96: balanced accuracy: 0.7412122760959969\n",
      "85/96: balanced accuracy: 0.7403991357479729\n",
      "86/96: balanced accuracy: 0.7404940021219091\n",
      "87/96: balanced accuracy: 0.740697287208915\n",
      "88/96: balanced accuracy: 0.7449624019391461\n",
      "89/96: balanced accuracy: 0.7426701205770974\n",
      "90/96: balanced accuracy: 0.742331312098754\n",
      "91/96: balanced accuracy: 0.7406353336585895\n",
      "92/96: balanced accuracy: 0.7381649358393545\n",
      "93/96: balanced accuracy: 0.7449759542782799\n",
      "94/96: balanced accuracy: 0.7409876944760666\n",
      "95/96: balanced accuracy: 0.7323045171882381\n"
     ]
    }
   ],
   "source": [
    "for i in range(len(all_models)):\n",
    "    pre = all_models[i].predict(X_test_stand)\n",
    "    acc = balanced_accuracy_score(y_test, pre)\n",
    "    print(f\"{i}/{len(all_models)}: balanced accuracy: {acc}\")\n",
    "    if acc == best_gb_acc:\n",
    "        print(\"BEST ACCURACY ^^\")\n",
    "    elif acc == low_gb_acc:\n",
    "        print(\"LOWEST ACCURACY ^^\")\n",
    "        "
   ]
  },
  {
   "cell_type": "code",
   "execution_count": 22,
   "id": "2a83dcdb",
   "metadata": {},
   "outputs": [
    {
     "data": {
      "text/html": [
       "<style>#sk-container-id-1 {color: black;background-color: white;}#sk-container-id-1 pre{padding: 0;}#sk-container-id-1 div.sk-toggleable {background-color: white;}#sk-container-id-1 label.sk-toggleable__label {cursor: pointer;display: block;width: 100%;margin-bottom: 0;padding: 0.3em;box-sizing: border-box;text-align: center;}#sk-container-id-1 label.sk-toggleable__label-arrow:before {content: \"▸\";float: left;margin-right: 0.25em;color: #696969;}#sk-container-id-1 label.sk-toggleable__label-arrow:hover:before {color: black;}#sk-container-id-1 div.sk-estimator:hover label.sk-toggleable__label-arrow:before {color: black;}#sk-container-id-1 div.sk-toggleable__content {max-height: 0;max-width: 0;overflow: hidden;text-align: left;background-color: #f0f8ff;}#sk-container-id-1 div.sk-toggleable__content pre {margin: 0.2em;color: black;border-radius: 0.25em;background-color: #f0f8ff;}#sk-container-id-1 input.sk-toggleable__control:checked~div.sk-toggleable__content {max-height: 200px;max-width: 100%;overflow: auto;}#sk-container-id-1 input.sk-toggleable__control:checked~label.sk-toggleable__label-arrow:before {content: \"▾\";}#sk-container-id-1 div.sk-estimator input.sk-toggleable__control:checked~label.sk-toggleable__label {background-color: #d4ebff;}#sk-container-id-1 div.sk-label input.sk-toggleable__control:checked~label.sk-toggleable__label {background-color: #d4ebff;}#sk-container-id-1 input.sk-hidden--visually {border: 0;clip: rect(1px 1px 1px 1px);clip: rect(1px, 1px, 1px, 1px);height: 1px;margin: -1px;overflow: hidden;padding: 0;position: absolute;width: 1px;}#sk-container-id-1 div.sk-estimator {font-family: monospace;background-color: #f0f8ff;border: 1px dotted black;border-radius: 0.25em;box-sizing: border-box;margin-bottom: 0.5em;}#sk-container-id-1 div.sk-estimator:hover {background-color: #d4ebff;}#sk-container-id-1 div.sk-parallel-item::after {content: \"\";width: 100%;border-bottom: 1px solid gray;flex-grow: 1;}#sk-container-id-1 div.sk-label:hover label.sk-toggleable__label {background-color: #d4ebff;}#sk-container-id-1 div.sk-serial::before {content: \"\";position: absolute;border-left: 1px solid gray;box-sizing: border-box;top: 0;bottom: 0;left: 50%;z-index: 0;}#sk-container-id-1 div.sk-serial {display: flex;flex-direction: column;align-items: center;background-color: white;padding-right: 0.2em;padding-left: 0.2em;position: relative;}#sk-container-id-1 div.sk-item {position: relative;z-index: 1;}#sk-container-id-1 div.sk-parallel {display: flex;align-items: stretch;justify-content: center;background-color: white;position: relative;}#sk-container-id-1 div.sk-item::before, #sk-container-id-1 div.sk-parallel-item::before {content: \"\";position: absolute;border-left: 1px solid gray;box-sizing: border-box;top: 0;bottom: 0;left: 50%;z-index: -1;}#sk-container-id-1 div.sk-parallel-item {display: flex;flex-direction: column;z-index: 1;position: relative;background-color: white;}#sk-container-id-1 div.sk-parallel-item:first-child::after {align-self: flex-end;width: 50%;}#sk-container-id-1 div.sk-parallel-item:last-child::after {align-self: flex-start;width: 50%;}#sk-container-id-1 div.sk-parallel-item:only-child::after {width: 0;}#sk-container-id-1 div.sk-dashed-wrapped {border: 1px dashed gray;margin: 0 0.4em 0.5em 0.4em;box-sizing: border-box;padding-bottom: 0.4em;background-color: white;}#sk-container-id-1 div.sk-label label {font-family: monospace;font-weight: bold;display: inline-block;line-height: 1.2em;}#sk-container-id-1 div.sk-label-container {text-align: center;}#sk-container-id-1 div.sk-container {/* jupyter's `normalize.less` sets `[hidden] { display: none; }` but bootstrap.min.css set `[hidden] { display: none !important; }` so we also need the `!important` here to be able to override the default hidden behavior on the sphinx rendered scikit-learn.org. See: https://github.com/scikit-learn/scikit-learn/issues/21755 */display: inline-block !important;position: relative;}#sk-container-id-1 div.sk-text-repr-fallback {display: none;}</style><div id=\"sk-container-id-1\" class=\"sk-top-container\"><div class=\"sk-text-repr-fallback\"><pre>XGBClassifier(base_score=None, booster=&#x27;gbtree&#x27;, callbacks=None,\n",
       "              colsample_bylevel=None, colsample_bynode=None,\n",
       "              colsample_bytree=0.25, device=None, early_stopping_rounds=None,\n",
       "              enable_categorical=False, eta=0.001, eval_metric=None,\n",
       "              feature_types=None, gamma=5.0, grow_policy=None,\n",
       "              importance_type=None, interaction_constraints=None,\n",
       "              learning_rate=None, max_bin=None, max_cat_threshold=None,\n",
       "              max_cat_to_onehot=None, max_delta_step=None, max_depth=3,\n",
       "              max_leaves=None, min_child_weight=3, missing=nan,\n",
       "              monotone_constraints=None, multi_strategy=None, n_estimators=None,\n",
       "              n_jobs=None, num_parallel_tree=None, ...)</pre><b>In a Jupyter environment, please rerun this cell to show the HTML representation or trust the notebook. <br />On GitHub, the HTML representation is unable to render, please try loading this page with nbviewer.org.</b></div><div class=\"sk-container\" hidden><div class=\"sk-item\"><div class=\"sk-estimator sk-toggleable\"><input class=\"sk-toggleable__control sk-hidden--visually\" id=\"sk-estimator-id-1\" type=\"checkbox\" checked><label for=\"sk-estimator-id-1\" class=\"sk-toggleable__label sk-toggleable__label-arrow\">XGBClassifier</label><div class=\"sk-toggleable__content\"><pre>XGBClassifier(base_score=None, booster=&#x27;gbtree&#x27;, callbacks=None,\n",
       "              colsample_bylevel=None, colsample_bynode=None,\n",
       "              colsample_bytree=0.25, device=None, early_stopping_rounds=None,\n",
       "              enable_categorical=False, eta=0.001, eval_metric=None,\n",
       "              feature_types=None, gamma=5.0, grow_policy=None,\n",
       "              importance_type=None, interaction_constraints=None,\n",
       "              learning_rate=None, max_bin=None, max_cat_threshold=None,\n",
       "              max_cat_to_onehot=None, max_delta_step=None, max_depth=3,\n",
       "              max_leaves=None, min_child_weight=3, missing=nan,\n",
       "              monotone_constraints=None, multi_strategy=None, n_estimators=None,\n",
       "              n_jobs=None, num_parallel_tree=None, ...)</pre></div></div></div></div></div>"
      ],
      "text/plain": [
       "XGBClassifier(base_score=None, booster='gbtree', callbacks=None,\n",
       "              colsample_bylevel=None, colsample_bynode=None,\n",
       "              colsample_bytree=0.25, device=None, early_stopping_rounds=None,\n",
       "              enable_categorical=False, eta=0.001, eval_metric=None,\n",
       "              feature_types=None, gamma=5.0, grow_policy=None,\n",
       "              importance_type=None, interaction_constraints=None,\n",
       "              learning_rate=None, max_bin=None, max_cat_threshold=None,\n",
       "              max_cat_to_onehot=None, max_delta_step=None, max_depth=3,\n",
       "              max_leaves=None, min_child_weight=3, missing=nan,\n",
       "              monotone_constraints=None, multi_strategy=None, n_estimators=None,\n",
       "              n_jobs=None, num_parallel_tree=None, ...)"
      ]
     },
     "execution_count": 22,
     "metadata": {},
     "output_type": "execute_result"
    }
   ],
   "source": [
    "best_gb_ee = all_models[0] \n",
    "best_gb_ee"
   ]
  },
  {
   "cell_type": "code",
   "execution_count": 21,
   "id": "1bfb2248",
   "metadata": {},
   "outputs": [],
   "source": [
    "best_gb_params_ee = all_params[0]\n",
    "best_gb_params_ee = ('gbtree', 0.001, 3, 0.25, 0.25, 5.0, 3) #for reproducibility"
   ]
  },
  {
   "cell_type": "code",
   "execution_count": 20,
   "id": "2033c5e8",
   "metadata": {},
   "outputs": [],
   "source": [
    "best_gb_test_acc = 0.7474463520975149"
   ]
  },
  {
   "cell_type": "code",
   "execution_count": null,
   "id": "6b61ff9e",
   "metadata": {},
   "outputs": [],
   "source": []
  },
  {
   "cell_type": "code",
   "execution_count": 23,
   "id": "af75ee43",
   "metadata": {},
   "outputs": [
    {
     "data": {
      "text/html": [
       "<style>#sk-container-id-4 {color: black;background-color: white;}#sk-container-id-4 pre{padding: 0;}#sk-container-id-4 div.sk-toggleable {background-color: white;}#sk-container-id-4 label.sk-toggleable__label {cursor: pointer;display: block;width: 100%;margin-bottom: 0;padding: 0.3em;box-sizing: border-box;text-align: center;}#sk-container-id-4 label.sk-toggleable__label-arrow:before {content: \"▸\";float: left;margin-right: 0.25em;color: #696969;}#sk-container-id-4 label.sk-toggleable__label-arrow:hover:before {color: black;}#sk-container-id-4 div.sk-estimator:hover label.sk-toggleable__label-arrow:before {color: black;}#sk-container-id-4 div.sk-toggleable__content {max-height: 0;max-width: 0;overflow: hidden;text-align: left;background-color: #f0f8ff;}#sk-container-id-4 div.sk-toggleable__content pre {margin: 0.2em;color: black;border-radius: 0.25em;background-color: #f0f8ff;}#sk-container-id-4 input.sk-toggleable__control:checked~div.sk-toggleable__content {max-height: 200px;max-width: 100%;overflow: auto;}#sk-container-id-4 input.sk-toggleable__control:checked~label.sk-toggleable__label-arrow:before {content: \"▾\";}#sk-container-id-4 div.sk-estimator input.sk-toggleable__control:checked~label.sk-toggleable__label {background-color: #d4ebff;}#sk-container-id-4 div.sk-label input.sk-toggleable__control:checked~label.sk-toggleable__label {background-color: #d4ebff;}#sk-container-id-4 input.sk-hidden--visually {border: 0;clip: rect(1px 1px 1px 1px);clip: rect(1px, 1px, 1px, 1px);height: 1px;margin: -1px;overflow: hidden;padding: 0;position: absolute;width: 1px;}#sk-container-id-4 div.sk-estimator {font-family: monospace;background-color: #f0f8ff;border: 1px dotted black;border-radius: 0.25em;box-sizing: border-box;margin-bottom: 0.5em;}#sk-container-id-4 div.sk-estimator:hover {background-color: #d4ebff;}#sk-container-id-4 div.sk-parallel-item::after {content: \"\";width: 100%;border-bottom: 1px solid gray;flex-grow: 1;}#sk-container-id-4 div.sk-label:hover label.sk-toggleable__label {background-color: #d4ebff;}#sk-container-id-4 div.sk-serial::before {content: \"\";position: absolute;border-left: 1px solid gray;box-sizing: border-box;top: 0;bottom: 0;left: 50%;z-index: 0;}#sk-container-id-4 div.sk-serial {display: flex;flex-direction: column;align-items: center;background-color: white;padding-right: 0.2em;padding-left: 0.2em;position: relative;}#sk-container-id-4 div.sk-item {position: relative;z-index: 1;}#sk-container-id-4 div.sk-parallel {display: flex;align-items: stretch;justify-content: center;background-color: white;position: relative;}#sk-container-id-4 div.sk-item::before, #sk-container-id-4 div.sk-parallel-item::before {content: \"\";position: absolute;border-left: 1px solid gray;box-sizing: border-box;top: 0;bottom: 0;left: 50%;z-index: -1;}#sk-container-id-4 div.sk-parallel-item {display: flex;flex-direction: column;z-index: 1;position: relative;background-color: white;}#sk-container-id-4 div.sk-parallel-item:first-child::after {align-self: flex-end;width: 50%;}#sk-container-id-4 div.sk-parallel-item:last-child::after {align-self: flex-start;width: 50%;}#sk-container-id-4 div.sk-parallel-item:only-child::after {width: 0;}#sk-container-id-4 div.sk-dashed-wrapped {border: 1px dashed gray;margin: 0 0.4em 0.5em 0.4em;box-sizing: border-box;padding-bottom: 0.4em;background-color: white;}#sk-container-id-4 div.sk-label label {font-family: monospace;font-weight: bold;display: inline-block;line-height: 1.2em;}#sk-container-id-4 div.sk-label-container {text-align: center;}#sk-container-id-4 div.sk-container {/* jupyter's `normalize.less` sets `[hidden] { display: none; }` but bootstrap.min.css set `[hidden] { display: none !important; }` so we also need the `!important` here to be able to override the default hidden behavior on the sphinx rendered scikit-learn.org. See: https://github.com/scikit-learn/scikit-learn/issues/21755 */display: inline-block !important;position: relative;}#sk-container-id-4 div.sk-text-repr-fallback {display: none;}</style><div id=\"sk-container-id-4\" class=\"sk-top-container\"><div class=\"sk-text-repr-fallback\"><pre>XGBClassifier(base_score=None, booster=&#x27;gbtree&#x27;, callbacks=None,\n",
       "              colsample_bylevel=None, colsample_bynode=None,\n",
       "              colsample_bytree=0.25, device=None, early_stopping_rounds=None,\n",
       "              enable_categorical=False, eta=0.001, eval_metric=None,\n",
       "              feature_types=None, gamma=5.0, grow_policy=None,\n",
       "              importance_type=None, interaction_constraints=None,\n",
       "              learning_rate=None, max_bin=None, max_cat_threshold=None,\n",
       "              max_cat_to_onehot=None, max_delta_step=None, max_depth=3,\n",
       "              max_leaves=None, min_child_weight=3, missing=nan,\n",
       "              monotone_constraints=None, multi_strategy=None, n_estimators=None,\n",
       "              n_jobs=None, num_parallel_tree=None, ...)</pre><b>In a Jupyter environment, please rerun this cell to show the HTML representation or trust the notebook. <br />On GitHub, the HTML representation is unable to render, please try loading this page with nbviewer.org.</b></div><div class=\"sk-container\" hidden><div class=\"sk-item\"><div class=\"sk-estimator sk-toggleable\"><input class=\"sk-toggleable__control sk-hidden--visually\" id=\"sk-estimator-id-4\" type=\"checkbox\" checked><label for=\"sk-estimator-id-4\" class=\"sk-toggleable__label sk-toggleable__label-arrow\">XGBClassifier</label><div class=\"sk-toggleable__content\"><pre>XGBClassifier(base_score=None, booster=&#x27;gbtree&#x27;, callbacks=None,\n",
       "              colsample_bylevel=None, colsample_bynode=None,\n",
       "              colsample_bytree=0.25, device=None, early_stopping_rounds=None,\n",
       "              enable_categorical=False, eta=0.001, eval_metric=None,\n",
       "              feature_types=None, gamma=5.0, grow_policy=None,\n",
       "              importance_type=None, interaction_constraints=None,\n",
       "              learning_rate=None, max_bin=None, max_cat_threshold=None,\n",
       "              max_cat_to_onehot=None, max_delta_step=None, max_depth=3,\n",
       "              max_leaves=None, min_child_weight=3, missing=nan,\n",
       "              monotone_constraints=None, multi_strategy=None, n_estimators=None,\n",
       "              n_jobs=None, num_parallel_tree=None, ...)</pre></div></div></div></div></div>"
      ],
      "text/plain": [
       "XGBClassifier(base_score=None, booster='gbtree', callbacks=None,\n",
       "              colsample_bylevel=None, colsample_bynode=None,\n",
       "              colsample_bytree=0.25, device=None, early_stopping_rounds=None,\n",
       "              enable_categorical=False, eta=0.001, eval_metric=None,\n",
       "              feature_types=None, gamma=5.0, grow_policy=None,\n",
       "              importance_type=None, interaction_constraints=None,\n",
       "              learning_rate=None, max_bin=None, max_cat_threshold=None,\n",
       "              max_cat_to_onehot=None, max_delta_step=None, max_depth=3,\n",
       "              max_leaves=None, min_child_weight=3, missing=nan,\n",
       "              monotone_constraints=None, multi_strategy=None, n_estimators=None,\n",
       "              n_jobs=None, num_parallel_tree=None, ...)"
      ]
     },
     "execution_count": 23,
     "metadata": {},
     "output_type": "execute_result"
    }
   ],
   "source": [
    "gb_retrained_a = XGBClassifier(booster='gbtree', eta=best_gb_params_ee[1],max_depth = 3, \n",
    "                             colsample_bytree=best_gb_params_ee[3],\n",
    "                             gamma=best_gb_params_ee[5],min_child_weight=best_gb_params_ee[6], \n",
    "                             subsample=best_gb_params_ee[4])\n",
    "gb_retrained_a.fit(full_train_x, full_train_y)"
   ]
  },
  {
   "cell_type": "markdown",
   "id": "6208ecd6",
   "metadata": {},
   "source": [
    "### Eval"
   ]
  },
  {
   "cell_type": "code",
   "execution_count": 24,
   "id": "ee9a3e23",
   "metadata": {},
   "outputs": [
    {
     "name": "stdout",
     "output_type": "stream",
     "text": [
      "Random Forest Accuracy: 0.7121909220545107\n",
      "Random Forest Balanced Accuracy: 0.738681860774884\n"
     ]
    }
   ],
   "source": [
    "best_gb_pred = gb_retrained_a.predict(X_test_stand)\n",
    "\n",
    "gb_accuracy = accuracy_score(y_test, best_gb_pred)\n",
    "gb_balanced_accuracy = balanced_accuracy_score(y_test, best_gb_pred)\n",
    "\n",
    "print(\"Random Forest Accuracy: \" + str(gb_accuracy))\n",
    "print(\"Random Forest Balanced Accuracy: \" + str(gb_balanced_accuracy))"
   ]
  },
  {
   "cell_type": "code",
   "execution_count": null,
   "id": "c6e494e9",
   "metadata": {},
   "outputs": [],
   "source": []
  },
  {
   "cell_type": "markdown",
   "id": "2eec9e36",
   "metadata": {},
   "source": [
    "# Save Model"
   ]
  },
  {
   "cell_type": "code",
   "execution_count": 66,
   "id": "ac0f67d7",
   "metadata": {},
   "outputs": [],
   "source": [
    "import pickle"
   ]
  },
  {
   "cell_type": "code",
   "execution_count": 29,
   "id": "e5d3c780",
   "metadata": {},
   "outputs": [],
   "source": [
    "#name of best...\n",
    "    #rf: rf_retrained_a\n",
    "    #xgb: gb_retrained_a\n",
    "model_to_save_submit = gb_retrained_a\n",
    "model_name = \"xgb\"\n",
    "month = \"12\"\n",
    "day = \"1\""
   ]
  },
  {
   "cell_type": "code",
   "execution_count": 13,
   "id": "c192a275",
   "metadata": {},
   "outputs": [],
   "source": [
    "lr_file = \"lr_initial.sav\""
   ]
  },
  {
   "cell_type": "code",
   "execution_count": 99,
   "id": "ca133cfc",
   "metadata": {},
   "outputs": [],
   "source": [
    "pickle.dump(model_to_save_submit, open(lr_file, 'wb'))"
   ]
  },
  {
   "cell_type": "code",
   "execution_count": null,
   "id": "90d042b0",
   "metadata": {},
   "outputs": [],
   "source": []
  },
  {
   "cell_type": "markdown",
   "id": "d44192b4",
   "metadata": {},
   "source": [
    "# Submit"
   ]
  },
  {
   "cell_type": "code",
   "execution_count": 30,
   "id": "76d9d3d9",
   "metadata": {},
   "outputs": [],
   "source": [
    "lb_data = pd.read_csv(\"./data/processed_leaderboard_data_2.csv\")"
   ]
  },
  {
   "cell_type": "code",
   "execution_count": 31,
   "id": "33420867",
   "metadata": {},
   "outputs": [
    {
     "data": {
      "text/html": [
       "<div>\n",
       "<style scoped>\n",
       "    .dataframe tbody tr th:only-of-type {\n",
       "        vertical-align: middle;\n",
       "    }\n",
       "\n",
       "    .dataframe tbody tr th {\n",
       "        vertical-align: top;\n",
       "    }\n",
       "\n",
       "    .dataframe thead th {\n",
       "        text-align: right;\n",
       "    }\n",
       "</style>\n",
       "<table border=\"1\" class=\"dataframe\">\n",
       "  <thead>\n",
       "    <tr style=\"text-align: right;\">\n",
       "      <th></th>\n",
       "      <th>ID</th>\n",
       "      <th>axonal_coor_x</th>\n",
       "      <th>axonal_coor_y</th>\n",
       "      <th>axonal_coor_z</th>\n",
       "      <th>dendritic_coor_x</th>\n",
       "      <th>dendritic_coor_y</th>\n",
       "      <th>dendritic_coor_z</th>\n",
       "      <th>adp_dist</th>\n",
       "      <th>post_skeletal_distance_to_soma</th>\n",
       "      <th>pre_skeletal_distance_to_soma</th>\n",
       "      <th>...</th>\n",
       "      <th>compartment_axon</th>\n",
       "      <th>compartment_basal</th>\n",
       "      <th>compartment_oblique</th>\n",
       "      <th>compartment_soma</th>\n",
       "      <th>pre_angle</th>\n",
       "      <th>post_angle</th>\n",
       "      <th>nucleus_dist</th>\n",
       "      <th>test_score_diff</th>\n",
       "      <th>oracle_diff</th>\n",
       "      <th>rf_dist</th>\n",
       "    </tr>\n",
       "  </thead>\n",
       "  <tbody>\n",
       "    <tr>\n",
       "      <th>0</th>\n",
       "      <td>0</td>\n",
       "      <td>527499</td>\n",
       "      <td>544761</td>\n",
       "      <td>912282</td>\n",
       "      <td>529457</td>\n",
       "      <td>543459</td>\n",
       "      <td>916958</td>\n",
       "      <td>4783.37</td>\n",
       "      <td>239163.00</td>\n",
       "      <td>178032.0</td>\n",
       "      <td>...</td>\n",
       "      <td>0</td>\n",
       "      <td>0</td>\n",
       "      <td>0</td>\n",
       "      <td>0</td>\n",
       "      <td>0.005807</td>\n",
       "      <td>0.021848</td>\n",
       "      <td>867856.993086</td>\n",
       "      <td>0.094901</td>\n",
       "      <td>-0.018742</td>\n",
       "      <td>410.307333</td>\n",
       "    </tr>\n",
       "    <tr>\n",
       "      <th>1</th>\n",
       "      <td>1</td>\n",
       "      <td>1269890</td>\n",
       "      <td>471870</td>\n",
       "      <td>837816</td>\n",
       "      <td>1271230</td>\n",
       "      <td>469651</td>\n",
       "      <td>841045</td>\n",
       "      <td>4060.72</td>\n",
       "      <td>294573.00</td>\n",
       "      <td>1193910.0</td>\n",
       "      <td>...</td>\n",
       "      <td>1</td>\n",
       "      <td>0</td>\n",
       "      <td>0</td>\n",
       "      <td>0</td>\n",
       "      <td>0.033029</td>\n",
       "      <td>0.036083</td>\n",
       "      <td>186530.704389</td>\n",
       "      <td>0.011774</td>\n",
       "      <td>0.006508</td>\n",
       "      <td>429.207435</td>\n",
       "    </tr>\n",
       "    <tr>\n",
       "      <th>2</th>\n",
       "      <td>2</td>\n",
       "      <td>666057</td>\n",
       "      <td>469875</td>\n",
       "      <td>925239</td>\n",
       "      <td>665387</td>\n",
       "      <td>467214</td>\n",
       "      <td>923430</td>\n",
       "      <td>2912.80</td>\n",
       "      <td>4102.75</td>\n",
       "      <td>387714.0</td>\n",
       "      <td>...</td>\n",
       "      <td>0</td>\n",
       "      <td>1</td>\n",
       "      <td>0</td>\n",
       "      <td>0</td>\n",
       "      <td>0.004614</td>\n",
       "      <td>0.270614</td>\n",
       "      <td>701103.615692</td>\n",
       "      <td>0.111555</td>\n",
       "      <td>-0.173209</td>\n",
       "      <td>429.195374</td>\n",
       "    </tr>\n",
       "    <tr>\n",
       "      <th>3</th>\n",
       "      <td>3</td>\n",
       "      <td>696633</td>\n",
       "      <td>453516</td>\n",
       "      <td>925806</td>\n",
       "      <td>696648</td>\n",
       "      <td>453417</td>\n",
       "      <td>921875</td>\n",
       "      <td>3272.83</td>\n",
       "      <td>31123.00</td>\n",
       "      <td>424714.0</td>\n",
       "      <td>...</td>\n",
       "      <td>0</td>\n",
       "      <td>0</td>\n",
       "      <td>0</td>\n",
       "      <td>0</td>\n",
       "      <td>0.005799</td>\n",
       "      <td>0.112964</td>\n",
       "      <td>701103.615692</td>\n",
       "      <td>0.111555</td>\n",
       "      <td>-0.173209</td>\n",
       "      <td>429.195374</td>\n",
       "    </tr>\n",
       "    <tr>\n",
       "      <th>4</th>\n",
       "      <td>4</td>\n",
       "      <td>567525</td>\n",
       "      <td>585921</td>\n",
       "      <td>888426</td>\n",
       "      <td>570714</td>\n",
       "      <td>583676</td>\n",
       "      <td>891264</td>\n",
       "      <td>4441.75</td>\n",
       "      <td>114201.00</td>\n",
       "      <td>250411.0</td>\n",
       "      <td>...</td>\n",
       "      <td>0</td>\n",
       "      <td>1</td>\n",
       "      <td>0</td>\n",
       "      <td>0</td>\n",
       "      <td>0.004202</td>\n",
       "      <td>0.029444</td>\n",
       "      <td>717601.628226</td>\n",
       "      <td>0.103745</td>\n",
       "      <td>-0.044866</td>\n",
       "      <td>427.279840</td>\n",
       "    </tr>\n",
       "  </tbody>\n",
       "</table>\n",
       "<p>5 rows × 33 columns</p>\n",
       "</div>"
      ],
      "text/plain": [
       "   ID  axonal_coor_x  axonal_coor_y  axonal_coor_z  dendritic_coor_x  \\\n",
       "0   0         527499         544761         912282            529457   \n",
       "1   1        1269890         471870         837816           1271230   \n",
       "2   2         666057         469875         925239            665387   \n",
       "3   3         696633         453516         925806            696648   \n",
       "4   4         567525         585921         888426            570714   \n",
       "\n",
       "   dendritic_coor_y  dendritic_coor_z  adp_dist  \\\n",
       "0            543459            916958   4783.37   \n",
       "1            469651            841045   4060.72   \n",
       "2            467214            923430   2912.80   \n",
       "3            453417            921875   3272.83   \n",
       "4            583676            891264   4441.75   \n",
       "\n",
       "   post_skeletal_distance_to_soma  pre_skeletal_distance_to_soma  ...  \\\n",
       "0                       239163.00                       178032.0  ...   \n",
       "1                       294573.00                      1193910.0  ...   \n",
       "2                         4102.75                       387714.0  ...   \n",
       "3                        31123.00                       424714.0  ...   \n",
       "4                       114201.00                       250411.0  ...   \n",
       "\n",
       "   compartment_axon  compartment_basal  compartment_oblique  compartment_soma  \\\n",
       "0                 0                  0                    0                 0   \n",
       "1                 1                  0                    0                 0   \n",
       "2                 0                  1                    0                 0   \n",
       "3                 0                  0                    0                 0   \n",
       "4                 0                  1                    0                 0   \n",
       "\n",
       "   pre_angle  post_angle   nucleus_dist  test_score_diff  oracle_diff  \\\n",
       "0   0.005807    0.021848  867856.993086         0.094901    -0.018742   \n",
       "1   0.033029    0.036083  186530.704389         0.011774     0.006508   \n",
       "2   0.004614    0.270614  701103.615692         0.111555    -0.173209   \n",
       "3   0.005799    0.112964  701103.615692         0.111555    -0.173209   \n",
       "4   0.004202    0.029444  717601.628226         0.103745    -0.044866   \n",
       "\n",
       "      rf_dist  \n",
       "0  410.307333  \n",
       "1  429.207435  \n",
       "2  429.195374  \n",
       "3  429.195374  \n",
       "4  427.279840  \n",
       "\n",
       "[5 rows x 33 columns]"
      ]
     },
     "execution_count": 31,
     "metadata": {},
     "output_type": "execute_result"
    }
   ],
   "source": [
    "lb_data.head()"
   ]
  },
  {
   "cell_type": "code",
   "execution_count": 32,
   "id": "133d043a",
   "metadata": {},
   "outputs": [],
   "source": [
    "X_exam = lb_data.drop([\"ID\"], inplace=False, axis=1)\n",
    "X_exam_stand = scaler.transform(X_exam)"
   ]
  },
  {
   "cell_type": "code",
   "execution_count": 33,
   "id": "ac7bf783",
   "metadata": {},
   "outputs": [],
   "source": [
    "exam_pred = model_to_save_submit.predict(X_exam_stand)"
   ]
  },
  {
   "cell_type": "code",
   "execution_count": 39,
   "id": "3c336d3b",
   "metadata": {},
   "outputs": [],
   "source": [
    "# lb_data['connected'] = exam_pred\n",
    "lb_data['connected_'] = lb_data['connected'] > 0.5"
   ]
  },
  {
   "cell_type": "code",
   "execution_count": 40,
   "id": "ecae463f",
   "metadata": {},
   "outputs": [],
   "source": [
    "submit_df = lb_data.filter(['ID', 'connected'])"
   ]
  },
  {
   "cell_type": "code",
   "execution_count": 41,
   "id": "1c17cc4c",
   "metadata": {},
   "outputs": [
    {
     "data": {
      "text/html": [
       "<div>\n",
       "<style scoped>\n",
       "    .dataframe tbody tr th:only-of-type {\n",
       "        vertical-align: middle;\n",
       "    }\n",
       "\n",
       "    .dataframe tbody tr th {\n",
       "        vertical-align: top;\n",
       "    }\n",
       "\n",
       "    .dataframe thead th {\n",
       "        text-align: right;\n",
       "    }\n",
       "</style>\n",
       "<table border=\"1\" class=\"dataframe\">\n",
       "  <thead>\n",
       "    <tr style=\"text-align: right;\">\n",
       "      <th></th>\n",
       "      <th>ID</th>\n",
       "      <th>connected</th>\n",
       "    </tr>\n",
       "  </thead>\n",
       "  <tbody>\n",
       "    <tr>\n",
       "      <th>0</th>\n",
       "      <td>0</td>\n",
       "      <td>False</td>\n",
       "    </tr>\n",
       "    <tr>\n",
       "      <th>1</th>\n",
       "      <td>1</td>\n",
       "      <td>False</td>\n",
       "    </tr>\n",
       "    <tr>\n",
       "      <th>2</th>\n",
       "      <td>2</td>\n",
       "      <td>False</td>\n",
       "    </tr>\n",
       "    <tr>\n",
       "      <th>3</th>\n",
       "      <td>3</td>\n",
       "      <td>False</td>\n",
       "    </tr>\n",
       "    <tr>\n",
       "      <th>4</th>\n",
       "      <td>4</td>\n",
       "      <td>False</td>\n",
       "    </tr>\n",
       "  </tbody>\n",
       "</table>\n",
       "</div>"
      ],
      "text/plain": [
       "   ID  connected\n",
       "0   0      False\n",
       "1   1      False\n",
       "2   2      False\n",
       "3   3      False\n",
       "4   4      False"
      ]
     },
     "execution_count": 41,
     "metadata": {},
     "output_type": "execute_result"
    }
   ],
   "source": [
    "submit_df.head()"
   ]
  },
  {
   "cell_type": "code",
   "execution_count": 42,
   "id": "08a858e0",
   "metadata": {},
   "outputs": [],
   "source": [
    "submit_name = f\"{model_name}_{month}_{day}\"\n",
    "submit_df.to_csv(f'./submissions/{submit_name}.csv',index=False)\n"
   ]
  },
  {
   "cell_type": "code",
   "execution_count": null,
   "id": "98c0d316",
   "metadata": {},
   "outputs": [],
   "source": []
  }
 ],
 "metadata": {
  "kernelspec": {
   "display_name": "Python 3 (ipykernel)",
   "language": "python",
   "name": "python3"
  },
  "language_info": {
   "codemirror_mode": {
    "name": "ipython",
    "version": 3
   },
   "file_extension": ".py",
   "mimetype": "text/x-python",
   "name": "python",
   "nbconvert_exporter": "python",
   "pygments_lexer": "ipython3",
   "version": "3.10.6"
  }
 },
 "nbformat": 4,
 "nbformat_minor": 5
}
