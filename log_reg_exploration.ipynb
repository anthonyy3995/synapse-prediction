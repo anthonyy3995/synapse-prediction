{
 "cells": [
  {
   "cell_type": "code",
   "execution_count": 1,
   "metadata": {},
   "outputs": [],
   "source": [
    "import pandas as pd\n",
    "import numpy as np\n",
    "import matplotlib.pyplot as plt\n",
    "import seaborn as sns\n",
    "from tqdm import tqdm\n",
    "from sklearn.metrics.pairwise import cosine_similarity\n",
    "#load in training data on each potential synapse\n",
    "data = pd.read_csv(\"./train_data.csv\")\n",
    "\n",
    "#load in additional features for each neuron\n",
    "feature_weights = pd.read_csv(\"./feature_weights.csv\")\n",
    "morph_embeddings = pd.read_csv(\"./morph_embeddings.csv\")"
   ]
  },
  {
   "cell_type": "code",
   "execution_count": 2,
   "metadata": {},
   "outputs": [],
   "source": [
    "# join all feature_weight_i columns into a single np.array column\n",
    "feature_weights[\"feature_weights\"] = (\n",
    "    feature_weights.filter(regex=\"feature_weight_\")\n",
    "    .sort_index(axis=1)\n",
    "    .apply(lambda x: np.array(x), axis=1)\n",
    ")\n",
    "# delete the feature_weight_i columns\n",
    "feature_weights.drop(\n",
    "    feature_weights.filter(regex=\"feature_weight_\").columns, axis=1, inplace=True\n",
    ")\n",
    "\n",
    "# join all morph_embed_i columns into a single np.array column\n",
    "morph_embeddings[\"morph_embeddings\"] = (\n",
    "    morph_embeddings.filter(regex=\"morph_emb_\")\n",
    "    .sort_index(axis=1)\n",
    "    .apply(lambda x: np.array(x), axis=1)\n",
    ")\n",
    "# delete the morph_embed_i columns\n",
    "morph_embeddings.drop(\n",
    "    morph_embeddings.filter(regex=\"morph_emb_\").columns, axis=1, inplace=True\n",
    ")"
   ]
  },
  {
   "cell_type": "code",
   "execution_count": 3,
   "metadata": {},
   "outputs": [],
   "source": [
    "data = (\n",
    "    data.merge(\n",
    "        feature_weights.rename(columns=lambda x: \"pre_\" + x), \n",
    "        how=\"left\", \n",
    "        validate=\"m:1\",\n",
    "        copy=False,\n",
    "    )\n",
    "    .merge(\n",
    "        feature_weights.rename(columns=lambda x: \"post_\" + x),\n",
    "        how=\"left\",\n",
    "        validate=\"m:1\",\n",
    "        copy=False,\n",
    "    )\n",
    "    .merge(\n",
    "        morph_embeddings.rename(columns=lambda x: \"pre_\" + x),\n",
    "        how=\"left\",\n",
    "        validate=\"m:1\",\n",
    "        copy=False,\n",
    "    )\n",
    "    .merge(\n",
    "        morph_embeddings.rename(columns=lambda x: \"post_\" + x),\n",
    "        how=\"left\",\n",
    "        validate=\"m:1\",\n",
    "        copy=False,\n",
    "    )\n",
    ")"
   ]
  },
  {
   "cell_type": "code",
   "execution_count": 4,
   "metadata": {},
   "outputs": [],
   "source": [
    "#cosine similarity function\n",
    "def row_feature_similarity(row):\n",
    "    pre = row[\"pre_feature_weights\"]\n",
    "    post = row[\"post_feature_weights\"]\n",
    "    return (pre * post).sum() / (np.linalg.norm(pre) * np.linalg.norm(post))"
   ]
  },
  {
   "cell_type": "code",
   "execution_count": 5,
   "metadata": {},
   "outputs": [],
   "source": [
    "# compute the cosine similarity between the pre- and post- feature weights\n",
    "data[\"fw_similarity\"] = data.apply(row_feature_similarity, axis=1)"
   ]
  },
  {
   "cell_type": "code",
   "execution_count": 6,
   "metadata": {},
   "outputs": [],
   "source": [
    "# generate projection group as pre->post\n",
    "data[\"projection_group\"] = (\n",
    "    data[\"pre_brain_area\"].astype(str)\n",
    "    + \"->\"\n",
    "    + data[\"post_brain_area\"].astype(str)\n",
    ")"
   ]
  },
  {
   "cell_type": "code",
   "execution_count": 20,
   "metadata": {},
   "outputs": [
    {
     "data": {
      "text/plain": [
       "Index(['ID', 'axonal_coor_x', 'axonal_coor_y', 'axonal_coor_z',\n",
       "       'dendritic_coor_x', 'dendritic_coor_y', 'dendritic_coor_z', 'adp_dist',\n",
       "       'post_skeletal_distance_to_soma', 'pre_skeletal_distance_to_soma',\n",
       "       'pre_oracle', 'pre_test_score', 'pre_rf_x', 'pre_rf_y', 'post_oracle',\n",
       "       'post_test_score', 'post_rf_x', 'post_rf_y', 'compartment',\n",
       "       'pre_brain_area', 'post_brain_area', 'pre_nucleus_x', 'pre_nucleus_y',\n",
       "       'pre_nucleus_z', 'post_nucleus_x', 'post_nucleus_y', 'post_nucleus_z',\n",
       "       'pre_nucleus_id', 'post_nucleus_id', 'connected', 'pre_feature_weights',\n",
       "       'post_feature_weights', 'pre_morph_embeddings', 'post_morph_embeddings',\n",
       "       'fw_similarity', 'projection_group'],\n",
       "      dtype='object')"
      ]
     },
     "execution_count": 20,
     "metadata": {},
     "output_type": "execute_result"
    }
   ],
   "source": [
    "data.columns"
   ]
  },
  {
   "cell_type": "code",
   "execution_count": 7,
   "metadata": {},
   "outputs": [],
   "source": [
    "data['fw_post_interaction'] = data['fw_similarity'] * data['post_test_score']\n",
    "data['fw_pre_interaction'] = data['fw_similarity'] * data['pre_test_score']"
   ]
  },
  {
   "cell_type": "code",
   "execution_count": 22,
   "metadata": {},
   "outputs": [
    {
     "name": "stdout",
     "output_type": "stream",
     "text": [
      "<class 'pandas.core.frame.DataFrame'>\n",
      "Int64Index: 185832 entries, 0 to 185831\n",
      "Data columns (total 38 columns):\n",
      " #   Column                          Non-Null Count   Dtype  \n",
      "---  ------                          --------------   -----  \n",
      " 0   ID                              185832 non-null  int64  \n",
      " 1   axonal_coor_x                   185832 non-null  int64  \n",
      " 2   axonal_coor_y                   185832 non-null  int64  \n",
      " 3   axonal_coor_z                   185832 non-null  int64  \n",
      " 4   dendritic_coor_x                185832 non-null  int64  \n",
      " 5   dendritic_coor_y                185832 non-null  int64  \n",
      " 6   dendritic_coor_z                185832 non-null  int64  \n",
      " 7   adp_dist                        185832 non-null  float64\n",
      " 8   post_skeletal_distance_to_soma  185832 non-null  float64\n",
      " 9   pre_skeletal_distance_to_soma   185832 non-null  float64\n",
      " 10  pre_oracle                      185832 non-null  float64\n",
      " 11  pre_test_score                  185832 non-null  float64\n",
      " 12  pre_rf_x                        185832 non-null  float64\n",
      " 13  pre_rf_y                        185832 non-null  float64\n",
      " 14  post_oracle                     185832 non-null  float64\n",
      " 15  post_test_score                 185832 non-null  float64\n",
      " 16  post_rf_x                       185832 non-null  float64\n",
      " 17  post_rf_y                       185832 non-null  float64\n",
      " 18  compartment                     185832 non-null  object \n",
      " 19  pre_brain_area                  185832 non-null  object \n",
      " 20  post_brain_area                 185832 non-null  object \n",
      " 21  pre_nucleus_x                   185832 non-null  int64  \n",
      " 22  pre_nucleus_y                   185832 non-null  int64  \n",
      " 23  pre_nucleus_z                   185832 non-null  int64  \n",
      " 24  post_nucleus_x                  185832 non-null  int64  \n",
      " 25  post_nucleus_y                  185832 non-null  int64  \n",
      " 26  post_nucleus_z                  185832 non-null  int64  \n",
      " 27  pre_nucleus_id                  185832 non-null  int64  \n",
      " 28  post_nucleus_id                 185832 non-null  int64  \n",
      " 29  connected                       185832 non-null  bool   \n",
      " 30  pre_feature_weights             185832 non-null  object \n",
      " 31  post_feature_weights            185832 non-null  object \n",
      " 32  pre_morph_embeddings            138123 non-null  object \n",
      " 33  post_morph_embeddings           185832 non-null  object \n",
      " 34  fw_similarity                   185832 non-null  float64\n",
      " 35  projection_group                185832 non-null  object \n",
      " 36  fw_post_interaction             185832 non-null  float64\n",
      " 37  fw_pre_interaction              185832 non-null  float64\n",
      "dtypes: bool(1), float64(14), int64(15), object(8)\n",
      "memory usage: 54.1+ MB\n"
     ]
    }
   ],
   "source": [
    "data.info()"
   ]
  },
  {
   "cell_type": "code",
   "execution_count": 8,
   "metadata": {},
   "outputs": [
    {
     "name": "stdout",
     "output_type": "stream",
     "text": [
      "Fitting 5 folds for each of 64 candidates, totalling 320 fits\n",
      "[CV] END model__C=1e-05, model__class_weight=None, model__penalty=l1, model__solver=liblinear; total time=   1.1s\n",
      "[CV] END model__C=1e-05, model__class_weight=None, model__penalty=l1, model__solver=liblinear; total time=   1.1s\n",
      "[CV] END model__C=1e-05, model__class_weight=None, model__penalty=l1, model__solver=saga; total time=   1.2s\n",
      "[CV] END model__C=1e-05, model__class_weight=None, model__penalty=l1, model__solver=liblinear; total time=   1.2s\n",
      "[CV] END model__C=1e-05, model__class_weight=None, model__penalty=l1, model__solver=liblinear; total time=   1.2s\n",
      "[CV] END model__C=1e-05, model__class_weight=None, model__penalty=l1, model__solver=liblinear; total time=   1.1s\n",
      "[CV] END model__C=1e-05, model__class_weight=None, model__penalty=l1, model__solver=saga; total time=   1.2s\n",
      "[CV] END model__C=1e-05, model__class_weight=None, model__penalty=l1, model__solver=saga; total time=   1.0s\n",
      "[CV] END model__C=1e-05, model__class_weight=None, model__penalty=l1, model__solver=saga; total time=   1.2s\n",
      "[CV] END model__C=1e-05, model__class_weight=None, model__penalty=l1, model__solver=saga; total time=   1.0s\n",
      "[CV] END model__C=1e-05, model__class_weight=None, model__penalty=l2, model__solver=liblinear; total time=   0.4s\n",
      "[CV] END model__C=1e-05, model__class_weight=None, model__penalty=l2, model__solver=liblinear; total time=   0.5s\n",
      "[CV] END model__C=1e-05, model__class_weight=None, model__penalty=l2, model__solver=liblinear; total time=   0.5s\n",
      "[CV] END model__C=1e-05, model__class_weight=None, model__penalty=l2, model__solver=liblinear; total time=   0.5s\n",
      "[CV] END model__C=1e-05, model__class_weight=None, model__penalty=l2, model__solver=liblinear; total time=   0.5s\n",
      "[CV] END model__C=1e-05, model__class_weight=balanced, model__penalty=l1, model__solver=liblinear; total time=   0.4s\n",
      "[CV] END model__C=1e-05, model__class_weight=balanced, model__penalty=l1, model__solver=liblinear; total time=   0.4s\n",
      "[CV] END model__C=1e-05, model__class_weight=balanced, model__penalty=l1, model__solver=liblinear; total time=   0.4s\n",
      "[CV] END model__C=1e-05, model__class_weight=balanced, model__penalty=l1, model__solver=liblinear; total time=   0.3s\n",
      "[CV] END model__C=1e-05, model__class_weight=balanced, model__penalty=l1, model__solver=liblinear; total time=   0.3s\n",
      "[CV] END model__C=1e-05, model__class_weight=balanced, model__penalty=l1, model__solver=saga; total time=   0.4s\n",
      "[CV] END model__C=1e-05, model__class_weight=balanced, model__penalty=l1, model__solver=saga; total time=   0.4s\n",
      "[CV] END model__C=1e-05, model__class_weight=balanced, model__penalty=l1, model__solver=saga; total time=   0.4s\n",
      "[CV] END model__C=1e-05, model__class_weight=balanced, model__penalty=l1, model__solver=saga; total time=   0.4s\n",
      "[CV] END model__C=1e-05, model__class_weight=balanced, model__penalty=l1, model__solver=saga; total time=   0.4s\n",
      "[CV] END model__C=1e-05, model__class_weight=balanced, model__penalty=l2, model__solver=liblinear; total time=   0.4s\n",
      "[CV] END model__C=1e-05, model__class_weight=balanced, model__penalty=l2, model__solver=liblinear; total time=   0.4s\n",
      "[CV] END model__C=1e-05, model__class_weight=balanced, model__penalty=l2, model__solver=liblinear; total time=   0.4s\n",
      "[CV] END model__C=1e-05, model__class_weight=balanced, model__penalty=l2, model__solver=liblinear; total time=   0.4s\n",
      "[CV] END model__C=1e-05, model__class_weight=balanced, model__penalty=l2, model__solver=liblinear; total time=   0.4s\n",
      "[CV] END model__C=1e-05, model__class_weight=None, model__penalty=l2, model__solver=saga; total time=   2.6s\n",
      "[CV] END model__C=1e-05, model__class_weight=None, model__penalty=l2, model__solver=saga; total time=   2.6s\n",
      "[CV] END model__C=1e-05, model__class_weight=None, model__penalty=l2, model__solver=saga; total time=   2.6s\n",
      "[CV] END model__C=1e-05, model__class_weight=None, model__penalty=l2, model__solver=saga; total time=   2.8s\n",
      "[CV] END model__C=0.0001, model__class_weight=None, model__penalty=l1, model__solver=liblinear; total time=   0.4s\n",
      "[CV] END model__C=0.0001, model__class_weight=None, model__penalty=l1, model__solver=liblinear; total time=   0.4s\n",
      "[CV] END model__C=0.0001, model__class_weight=None, model__penalty=l1, model__solver=liblinear; total time=   0.4s\n",
      "[CV] END model__C=0.0001, model__class_weight=None, model__penalty=l1, model__solver=liblinear; total time=   0.4s\n",
      "[CV] END model__C=1e-05, model__class_weight=None, model__penalty=l2, model__solver=saga; total time=   3.1s\n",
      "[CV] END model__C=0.0001, model__class_weight=None, model__penalty=l1, model__solver=liblinear; total time=   0.4s\n",
      "[CV] END model__C=1e-05, model__class_weight=balanced, model__penalty=l2, model__solver=saga; total time=   2.1s\n",
      "[CV] END model__C=1e-05, model__class_weight=balanced, model__penalty=l2, model__solver=saga; total time=   2.0s\n",
      "[CV] END model__C=1e-05, model__class_weight=balanced, model__penalty=l2, model__solver=saga; total time=   2.4s\n",
      "[CV] END model__C=1e-05, model__class_weight=balanced, model__penalty=l2, model__solver=saga; total time=   2.3s\n",
      "[CV] END model__C=1e-05, model__class_weight=balanced, model__penalty=l2, model__solver=saga; total time=   2.5s\n",
      "[CV] END model__C=0.0001, model__class_weight=None, model__penalty=l2, model__solver=liblinear; total time=   0.4s\n",
      "[CV] END model__C=0.0001, model__class_weight=None, model__penalty=l2, model__solver=liblinear; total time=   0.4s\n",
      "[CV] END model__C=0.0001, model__class_weight=None, model__penalty=l2, model__solver=liblinear; total time=   0.5s\n",
      "[CV] END model__C=0.0001, model__class_weight=None, model__penalty=l2, model__solver=liblinear; total time=   0.6s\n",
      "[CV] END model__C=0.0001, model__class_weight=None, model__penalty=l2, model__solver=liblinear; total time=   0.6s\n",
      "[CV] END model__C=0.0001, model__class_weight=None, model__penalty=l1, model__solver=saga; total time=   2.1s\n",
      "[CV] END model__C=0.0001, model__class_weight=None, model__penalty=l1, model__solver=saga; total time=   2.2s\n",
      "[CV] END model__C=0.0001, model__class_weight=None, model__penalty=l1, model__solver=saga; total time=   2.7s\n",
      "[CV] END model__C=0.0001, model__class_weight=None, model__penalty=l1, model__solver=saga; total time=   2.4s\n",
      "[CV] END model__C=0.0001, model__class_weight=None, model__penalty=l1, model__solver=saga; total time=   2.8s\n",
      "[CV] END model__C=0.0001, model__class_weight=balanced, model__penalty=l1, model__solver=liblinear; total time=   0.5s\n",
      "[CV] END model__C=0.0001, model__class_weight=balanced, model__penalty=l1, model__solver=liblinear; total time=   0.5s\n",
      "[CV] END model__C=0.0001, model__class_weight=balanced, model__penalty=l1, model__solver=liblinear; total time=   0.6s\n",
      "[CV] END model__C=0.0001, model__class_weight=balanced, model__penalty=l1, model__solver=liblinear; total time=   0.6s\n",
      "[CV] END model__C=0.0001, model__class_weight=balanced, model__penalty=l1, model__solver=liblinear; total time=   0.6s\n",
      "[CV] END model__C=0.0001, model__class_weight=None, model__penalty=l2, model__solver=saga; total time=   2.7s\n",
      "[CV] END model__C=0.0001, model__class_weight=None, model__penalty=l2, model__solver=saga; total time=   2.7s\n",
      "[CV] END model__C=0.0001, model__class_weight=None, model__penalty=l2, model__solver=saga; total time=   2.6s\n",
      "[CV] END model__C=0.0001, model__class_weight=balanced, model__penalty=l2, model__solver=liblinear; total time=   0.6s\n",
      "[CV] END model__C=0.0001, model__class_weight=balanced, model__penalty=l2, model__solver=liblinear; total time=   0.6s\n",
      "[CV] END model__C=0.0001, model__class_weight=None, model__penalty=l2, model__solver=saga; total time=   2.9s\n",
      "[CV] END model__C=0.0001, model__class_weight=balanced, model__penalty=l2, model__solver=liblinear; total time=   0.7s\n",
      "[CV] END model__C=0.0001, model__class_weight=None, model__penalty=l2, model__solver=saga; total time=   3.1s\n",
      "[CV] END model__C=0.0001, model__class_weight=balanced, model__penalty=l2, model__solver=liblinear; total time=   0.6s\n",
      "[CV] END model__C=0.0001, model__class_weight=balanced, model__penalty=l2, model__solver=liblinear; total time=   0.5s\n",
      "[CV] END model__C=0.0001, model__class_weight=balanced, model__penalty=l1, model__solver=saga; total time=   2.5s\n",
      "[CV] END model__C=0.0001, model__class_weight=balanced, model__penalty=l1, model__solver=saga; total time=   3.0s\n",
      "[CV] END model__C=0.0001, model__class_weight=balanced, model__penalty=l1, model__solver=saga; total time=   3.3s\n",
      "[CV] END model__C=0.0001, model__class_weight=balanced, model__penalty=l1, model__solver=saga; total time=   3.0s\n",
      "[CV] END model__C=0.0001, model__class_weight=balanced, model__penalty=l1, model__solver=saga; total time=   3.0s\n",
      "[CV] END model__C=0.001, model__class_weight=None, model__penalty=l1, model__solver=liblinear; total time=   0.9s\n",
      "[CV] END model__C=0.001, model__class_weight=None, model__penalty=l1, model__solver=liblinear; total time=   1.1s\n",
      "[CV] END model__C=0.001, model__class_weight=None, model__penalty=l1, model__solver=liblinear; total time=   0.9s\n",
      "[CV] END model__C=0.0001, model__class_weight=balanced, model__penalty=l2, model__solver=saga; total time=   2.7s\n",
      "[CV] END model__C=0.001, model__class_weight=None, model__penalty=l1, model__solver=liblinear; total time=   1.0s\n",
      "[CV] END model__C=0.0001, model__class_weight=balanced, model__penalty=l2, model__solver=saga; total time=   2.8s\n",
      "[CV] END model__C=0.0001, model__class_weight=balanced, model__penalty=l2, model__solver=saga; total time=   2.8s\n",
      "[CV] END model__C=0.001, model__class_weight=None, model__penalty=l1, model__solver=liblinear; total time=   1.0s\n",
      "[CV] END model__C=0.0001, model__class_weight=balanced, model__penalty=l2, model__solver=saga; total time=   3.0s\n",
      "[CV] END model__C=0.0001, model__class_weight=balanced, model__penalty=l2, model__solver=saga; total time=   3.0s\n",
      "[CV] END model__C=0.001, model__class_weight=None, model__penalty=l2, model__solver=liblinear; total time=   0.8s\n",
      "[CV] END model__C=0.001, model__class_weight=None, model__penalty=l2, model__solver=liblinear; total time=   0.7s\n",
      "[CV] END model__C=0.001, model__class_weight=None, model__penalty=l2, model__solver=liblinear; total time=   0.6s\n",
      "[CV] END model__C=0.001, model__class_weight=None, model__penalty=l2, model__solver=liblinear; total time=   0.6s\n",
      "[CV] END model__C=0.001, model__class_weight=None, model__penalty=l2, model__solver=liblinear; total time=   0.6s\n",
      "[CV] END model__C=0.001, model__class_weight=None, model__penalty=l1, model__solver=saga; total time=   2.5s\n",
      "[CV] END model__C=0.001, model__class_weight=None, model__penalty=l1, model__solver=saga; total time=   2.5s\n",
      "[CV] END model__C=0.001, model__class_weight=None, model__penalty=l1, model__solver=saga; total time=   2.6s\n",
      "[CV] END model__C=0.001, model__class_weight=None, model__penalty=l1, model__solver=saga; total time=   2.5s\n",
      "[CV] END model__C=0.001, model__class_weight=None, model__penalty=l1, model__solver=saga; total time=   2.7s\n",
      "[CV] END model__C=0.001, model__class_weight=balanced, model__penalty=l1, model__solver=liblinear; total time=   0.7s\n",
      "[CV] END model__C=0.001, model__class_weight=balanced, model__penalty=l1, model__solver=liblinear; total time=   0.8s\n",
      "[CV] END model__C=0.001, model__class_weight=balanced, model__penalty=l1, model__solver=liblinear; total time=   1.0s\n",
      "[CV] END model__C=0.001, model__class_weight=None, model__penalty=l2, model__solver=saga; total time=   2.2s\n",
      "[CV] END model__C=0.001, model__class_weight=None, model__penalty=l2, model__solver=saga; total time=   2.3s\n",
      "[CV] END model__C=0.001, model__class_weight=None, model__penalty=l2, model__solver=saga; total time=   2.3s\n",
      "[CV] END model__C=0.001, model__class_weight=balanced, model__penalty=l1, model__solver=liblinear; total time=   0.8s\n",
      "[CV] END model__C=0.001, model__class_weight=balanced, model__penalty=l1, model__solver=liblinear; total time=   0.7s\n",
      "[CV] END model__C=0.001, model__class_weight=None, model__penalty=l2, model__solver=saga; total time=   2.4s\n",
      "[CV] END model__C=0.001, model__class_weight=None, model__penalty=l2, model__solver=saga; total time=   2.5s\n",
      "[CV] END model__C=0.001, model__class_weight=balanced, model__penalty=l2, model__solver=liblinear; total time=   0.6s\n",
      "[CV] END model__C=0.001, model__class_weight=balanced, model__penalty=l2, model__solver=liblinear; total time=   0.6s\n",
      "[CV] END model__C=0.001, model__class_weight=balanced, model__penalty=l2, model__solver=liblinear; total time=   0.6s\n",
      "[CV] END model__C=0.001, model__class_weight=balanced, model__penalty=l2, model__solver=liblinear; total time=   0.6s\n",
      "[CV] END model__C=0.001, model__class_weight=balanced, model__penalty=l2, model__solver=liblinear; total time=   0.6s\n",
      "[CV] END model__C=0.001, model__class_weight=balanced, model__penalty=l1, model__solver=saga; total time=   2.1s\n",
      "[CV] END model__C=0.001, model__class_weight=balanced, model__penalty=l1, model__solver=saga; total time=   2.2s\n",
      "[CV] END model__C=0.001, model__class_weight=balanced, model__penalty=l1, model__solver=saga; total time=   2.2s\n",
      "[CV] END model__C=0.001, model__class_weight=balanced, model__penalty=l1, model__solver=saga; total time=   2.3s\n",
      "[CV] END model__C=0.001, model__class_weight=balanced, model__penalty=l1, model__solver=saga; total time=   2.2s\n",
      "[CV] END model__C=0.001, model__class_weight=balanced, model__penalty=l2, model__solver=saga; total time=   2.1s\n",
      "[CV] END model__C=0.001, model__class_weight=balanced, model__penalty=l2, model__solver=saga; total time=   2.1s\n",
      "[CV] END model__C=0.001, model__class_weight=balanced, model__penalty=l2, model__solver=saga; total time=   2.1s\n",
      "[CV] END model__C=0.001, model__class_weight=balanced, model__penalty=l2, model__solver=saga; total time=   2.4s\n",
      "[CV] END model__C=0.001, model__class_weight=balanced, model__penalty=l2, model__solver=saga; total time=   2.3s\n",
      "[CV] END model__C=0.01, model__class_weight=None, model__penalty=l1, model__solver=liblinear; total time=   2.0s\n",
      "[CV] END model__C=0.01, model__class_weight=None, model__penalty=l1, model__solver=liblinear; total time=   2.2s\n",
      "[CV] END model__C=0.01, model__class_weight=None, model__penalty=l1, model__solver=liblinear; total time=   2.2s\n",
      "[CV] END model__C=0.01, model__class_weight=None, model__penalty=l1, model__solver=liblinear; total time=   2.6s\n",
      "[CV] END model__C=0.01, model__class_weight=None, model__penalty=l2, model__solver=liblinear; total time=   0.8s\n",
      "[CV] END model__C=0.01, model__class_weight=None, model__penalty=l1, model__solver=liblinear; total time=   3.0s\n",
      "[CV] END model__C=0.01, model__class_weight=None, model__penalty=l2, model__solver=liblinear; total time=   0.7s\n",
      "[CV] END model__C=0.01, model__class_weight=None, model__penalty=l1, model__solver=saga; total time=   2.5s\n",
      "[CV] END model__C=0.01, model__class_weight=None, model__penalty=l2, model__solver=liblinear; total time=   0.8s\n",
      "[CV] END model__C=0.01, model__class_weight=None, model__penalty=l1, model__solver=saga; total time=   2.5s\n",
      "[CV] END model__C=0.01, model__class_weight=None, model__penalty=l2, model__solver=liblinear; total time=   0.8s\n",
      "[CV] END model__C=0.01, model__class_weight=None, model__penalty=l1, model__solver=saga; total time=   2.6s\n",
      "[CV] END model__C=0.01, model__class_weight=None, model__penalty=l2, model__solver=liblinear; total time=   0.8s\n",
      "[CV] END model__C=0.01, model__class_weight=None, model__penalty=l1, model__solver=saga; total time=   2.5s\n",
      "[CV] END model__C=0.01, model__class_weight=None, model__penalty=l1, model__solver=saga; total time=   2.7s\n",
      "[CV] END model__C=0.01, model__class_weight=balanced, model__penalty=l1, model__solver=liblinear; total time=   1.9s\n",
      "[CV] END model__C=0.01, model__class_weight=None, model__penalty=l2, model__solver=saga; total time=   2.4s\n",
      "[CV] END model__C=0.01, model__class_weight=None, model__penalty=l2, model__solver=saga; total time=   2.6s\n",
      "[CV] END model__C=0.01, model__class_weight=None, model__penalty=l2, model__solver=saga; total time=   2.8s\n",
      "[CV] END model__C=0.01, model__class_weight=balanced, model__penalty=l1, model__solver=liblinear; total time=   2.2s\n",
      "[CV] END model__C=0.01, model__class_weight=balanced, model__penalty=l1, model__solver=liblinear; total time=   2.0s\n",
      "[CV] END model__C=0.01, model__class_weight=balanced, model__penalty=l1, model__solver=liblinear; total time=   2.5s\n",
      "[CV] END model__C=0.01, model__class_weight=None, model__penalty=l2, model__solver=saga; total time=   2.9s\n",
      "[CV] END model__C=0.01, model__class_weight=None, model__penalty=l2, model__solver=saga; total time=   2.9s\n",
      "[CV] END model__C=0.01, model__class_weight=balanced, model__penalty=l1, model__solver=liblinear; total time=   3.0s\n",
      "[CV] END model__C=0.01, model__class_weight=balanced, model__penalty=l2, model__solver=liblinear; total time=   0.8s\n",
      "[CV] END model__C=0.01, model__class_weight=balanced, model__penalty=l2, model__solver=liblinear; total time=   1.0s\n",
      "[CV] END model__C=0.01, model__class_weight=balanced, model__penalty=l2, model__solver=liblinear; total time=   1.0s\n",
      "[CV] END model__C=0.01, model__class_weight=balanced, model__penalty=l2, model__solver=liblinear; total time=   1.0s\n",
      "[CV] END model__C=0.01, model__class_weight=balanced, model__penalty=l2, model__solver=liblinear; total time=   1.0s\n",
      "[CV] END model__C=0.01, model__class_weight=balanced, model__penalty=l1, model__solver=saga; total time=   2.6s\n",
      "[CV] END model__C=0.01, model__class_weight=balanced, model__penalty=l1, model__solver=saga; total time=   2.6s\n",
      "[CV] END model__C=0.01, model__class_weight=balanced, model__penalty=l1, model__solver=saga; total time=   2.6s\n",
      "[CV] END model__C=0.01, model__class_weight=balanced, model__penalty=l1, model__solver=saga; total time=   2.6s\n",
      "[CV] END model__C=0.01, model__class_weight=balanced, model__penalty=l1, model__solver=saga; total time=   2.9s\n",
      "[CV] END model__C=0.01, model__class_weight=balanced, model__penalty=l2, model__solver=saga; total time=   2.8s\n",
      "[CV] END model__C=0.01, model__class_weight=balanced, model__penalty=l2, model__solver=saga; total time=   2.6s\n",
      "[CV] END model__C=0.01, model__class_weight=balanced, model__penalty=l2, model__solver=saga; total time=   2.8s\n",
      "[CV] END model__C=0.01, model__class_weight=balanced, model__penalty=l2, model__solver=saga; total time=   2.8s\n",
      "[CV] END model__C=0.01, model__class_weight=balanced, model__penalty=l2, model__solver=saga; total time=   2.8s\n",
      "[CV] END model__C=0.1, model__class_weight=None, model__penalty=l1, model__solver=liblinear; total time=   7.2s\n",
      "[CV] END model__C=0.1, model__class_weight=None, model__penalty=l2, model__solver=liblinear; total time=   1.0s\n",
      "[CV] END model__C=0.1, model__class_weight=None, model__penalty=l1, model__solver=saga; total time=   7.5s\n",
      "[CV] END model__C=0.1, model__class_weight=None, model__penalty=l2, model__solver=liblinear; total time=   1.1s\n",
      "[CV] END model__C=0.1, model__class_weight=None, model__penalty=l1, model__solver=saga; total time=   7.3s\n",
      "[CV] END model__C=0.1, model__class_weight=None, model__penalty=l1, model__solver=liblinear; total time=   9.9s\n",
      "[CV] END model__C=0.1, model__class_weight=None, model__penalty=l1, model__solver=liblinear; total time=  10.0s\n",
      "[CV] END model__C=0.1, model__class_weight=None, model__penalty=l2, model__solver=liblinear; total time=   1.1s\n",
      "[CV] END model__C=0.1, model__class_weight=None, model__penalty=l2, model__solver=liblinear; total time=   1.1s\n",
      "[CV] END model__C=0.1, model__class_weight=None, model__penalty=l2, model__solver=liblinear; total time=   1.0s\n",
      "[CV] END model__C=0.1, model__class_weight=None, model__penalty=l1, model__solver=liblinear; total time=  10.0s\n",
      "[CV] END model__C=0.1, model__class_weight=None, model__penalty=l1, model__solver=liblinear; total time=  10.8s\n",
      "[CV] END model__C=0.1, model__class_weight=None, model__penalty=l1, model__solver=saga; total time=   9.3s\n",
      "[CV] END model__C=0.1, model__class_weight=None, model__penalty=l1, model__solver=saga; total time=  11.0s\n",
      "[CV] END model__C=0.1, model__class_weight=None, model__penalty=l1, model__solver=saga; total time=  15.7s\n",
      "[CV] END model__C=0.1, model__class_weight=balanced, model__penalty=l1, model__solver=liblinear; total time=   6.7s\n",
      "[CV] END model__C=0.1, model__class_weight=balanced, model__penalty=l1, model__solver=liblinear; total time=   9.3s\n",
      "[CV] END model__C=0.1, model__class_weight=balanced, model__penalty=l1, model__solver=liblinear; total time=   9.3s\n",
      "[CV] END model__C=0.1, model__class_weight=None, model__penalty=l2, model__solver=saga; total time=  11.0s\n",
      "[CV] END model__C=0.1, model__class_weight=None, model__penalty=l2, model__solver=saga; total time=  11.9s\n",
      "[CV] END model__C=0.1, model__class_weight=None, model__penalty=l2, model__solver=saga; total time=  12.2s\n",
      "[CV] END model__C=0.1, model__class_weight=None, model__penalty=l2, model__solver=saga; total time=  12.0s\n",
      "[CV] END model__C=0.1, model__class_weight=None, model__penalty=l2, model__solver=saga; total time=  12.6s\n",
      "[CV] END model__C=0.1, model__class_weight=balanced, model__penalty=l2, model__solver=liblinear; total time=   1.0s\n",
      "[CV] END model__C=0.1, model__class_weight=balanced, model__penalty=l1, model__solver=liblinear; total time=  10.7s\n",
      "[CV] END model__C=0.1, model__class_weight=balanced, model__penalty=l2, model__solver=liblinear; total time=   1.1s\n",
      "[CV] END model__C=0.1, model__class_weight=balanced, model__penalty=l2, model__solver=liblinear; total time=   1.0s\n",
      "[CV] END model__C=0.1, model__class_weight=balanced, model__penalty=l2, model__solver=liblinear; total time=   0.9s\n",
      "[CV] END model__C=0.1, model__class_weight=balanced, model__penalty=l2, model__solver=liblinear; total time=   1.0s\n",
      "[CV] END model__C=0.1, model__class_weight=balanced, model__penalty=l1, model__solver=saga; total time=   7.9s\n",
      "[CV] END model__C=0.1, model__class_weight=balanced, model__penalty=l1, model__solver=liblinear; total time=   9.3s\n",
      "[CV] END model__C=0.1, model__class_weight=balanced, model__penalty=l1, model__solver=saga; total time=   6.6s\n",
      "[CV] END model__C=1, model__class_weight=None, model__penalty=l1, model__solver=liblinear; total time=   2.4s\n",
      "[CV] END model__C=0.1, model__class_weight=balanced, model__penalty=l1, model__solver=saga; total time=   8.4s\n",
      "[CV] END model__C=0.1, model__class_weight=balanced, model__penalty=l1, model__solver=saga; total time=  10.1s\n",
      "[CV] END model__C=1, model__class_weight=None, model__penalty=l1, model__solver=liblinear; total time=   3.1s\n",
      "[CV] END model__C=0.1, model__class_weight=balanced, model__penalty=l2, model__solver=saga; total time=   9.5s\n",
      "[CV] END model__C=0.1, model__class_weight=balanced, model__penalty=l2, model__solver=saga; total time=  10.3s\n",
      "[CV] END model__C=0.1, model__class_weight=balanced, model__penalty=l2, model__solver=saga; total time=  10.6s\n",
      "[CV] END model__C=0.1, model__class_weight=balanced, model__penalty=l1, model__solver=saga; total time=  14.3s\n",
      "[CV] END model__C=0.1, model__class_weight=balanced, model__penalty=l2, model__solver=saga; total time=  10.1s\n",
      "[CV] END model__C=0.1, model__class_weight=balanced, model__penalty=l2, model__solver=saga; total time=  10.0s\n",
      "[CV] END model__C=1, model__class_weight=None, model__penalty=l2, model__solver=liblinear; total time=   1.0s\n",
      "[CV] END model__C=1, model__class_weight=None, model__penalty=l2, model__solver=liblinear; total time=   1.2s\n",
      "[CV] END model__C=1, model__class_weight=None, model__penalty=l2, model__solver=liblinear; total time=   0.9s\n",
      "[CV] END model__C=1, model__class_weight=None, model__penalty=l2, model__solver=liblinear; total time=   1.1s\n",
      "[CV] END model__C=1, model__class_weight=None, model__penalty=l2, model__solver=liblinear; total time=   1.2s\n",
      "[CV] END model__C=1, model__class_weight=None, model__penalty=l1, model__solver=liblinear; total time=  10.6s\n",
      "[CV] END model__C=1, model__class_weight=None, model__penalty=l1, model__solver=liblinear; total time=  10.2s\n",
      "[CV] END model__C=1, model__class_weight=None, model__penalty=l1, model__solver=liblinear; total time=   9.2s\n",
      "[CV] END model__C=1, model__class_weight=None, model__penalty=l2, model__solver=saga; total time=  33.2s\n",
      "[CV] END model__C=1, model__class_weight=None, model__penalty=l2, model__solver=saga; total time=  35.3s\n",
      "[CV] END model__C=1, model__class_weight=None, model__penalty=l2, model__solver=saga; total time=  35.9s\n",
      "[CV] END model__C=1, model__class_weight=None, model__penalty=l2, model__solver=saga; total time=  34.4s\n",
      "[CV] END model__C=1, model__class_weight=None, model__penalty=l2, model__solver=saga; total time=  35.7s\n",
      "[CV] END model__C=1, model__class_weight=balanced, model__penalty=l1, model__solver=liblinear; total time=   3.8s\n",
      "[CV] END model__C=1, model__class_weight=balanced, model__penalty=l1, model__solver=liblinear; total time=   4.4s\n",
      "[CV] END model__C=1, model__class_weight=balanced, model__penalty=l1, model__solver=liblinear; total time=   9.5s\n",
      "[CV] END model__C=1, model__class_weight=balanced, model__penalty=l1, model__solver=liblinear; total time=  11.0s\n",
      "[CV] END model__C=1, model__class_weight=balanced, model__penalty=l1, model__solver=liblinear; total time=  11.8s\n",
      "[CV] END model__C=1, model__class_weight=None, model__penalty=l1, model__solver=saga; total time=  54.0s\n"
     ]
    },
    {
     "name": "stderr",
     "output_type": "stream",
     "text": [
      "/Users/danielcufino/miniforge3/envs/torch/lib/python3.8/site-packages/sklearn/linear_model/_sag.py:352: ConvergenceWarning: The max_iter was reached which means the coef_ did not converge\n",
      "  warnings.warn(\n"
     ]
    },
    {
     "name": "stdout",
     "output_type": "stream",
     "text": [
      "[CV] END model__C=1, model__class_weight=balanced, model__penalty=l2, model__solver=liblinear; total time=   0.8s\n",
      "[CV] END model__C=1, model__class_weight=balanced, model__penalty=l2, model__solver=liblinear; total time=   0.9s\n"
     ]
    },
    {
     "name": "stderr",
     "output_type": "stream",
     "text": [
      "/Users/danielcufino/miniforge3/envs/torch/lib/python3.8/site-packages/sklearn/linear_model/_sag.py:352: ConvergenceWarning: The max_iter was reached which means the coef_ did not converge\n",
      "  warnings.warn(\n"
     ]
    },
    {
     "name": "stdout",
     "output_type": "stream",
     "text": [
      "[CV] END model__C=1, model__class_weight=None, model__penalty=l1, model__solver=saga; total time=  54.3s\n",
      "[CV] END model__C=1, model__class_weight=None, model__penalty=l1, model__solver=saga; total time=  54.2s\n",
      "[CV] END model__C=1, model__class_weight=None, model__penalty=l1, model__solver=saga; total time=  54.8s\n"
     ]
    },
    {
     "name": "stderr",
     "output_type": "stream",
     "text": [
      "/Users/danielcufino/miniforge3/envs/torch/lib/python3.8/site-packages/sklearn/linear_model/_sag.py:352: ConvergenceWarning: The max_iter was reached which means the coef_ did not converge\n",
      "  warnings.warn(\n",
      "/Users/danielcufino/miniforge3/envs/torch/lib/python3.8/site-packages/sklearn/linear_model/_sag.py:352: ConvergenceWarning: The max_iter was reached which means the coef_ did not converge\n",
      "  warnings.warn(\n"
     ]
    },
    {
     "name": "stdout",
     "output_type": "stream",
     "text": [
      "[CV] END model__C=1, model__class_weight=balanced, model__penalty=l2, model__solver=liblinear; total time=   1.1s\n"
     ]
    },
    {
     "name": "stderr",
     "output_type": "stream",
     "text": [
      "/Users/danielcufino/miniforge3/envs/torch/lib/python3.8/site-packages/sklearn/linear_model/_sag.py:352: ConvergenceWarning: The max_iter was reached which means the coef_ did not converge\n",
      "  warnings.warn(\n"
     ]
    },
    {
     "name": "stdout",
     "output_type": "stream",
     "text": [
      "[CV] END model__C=1, model__class_weight=None, model__penalty=l1, model__solver=saga; total time=  54.4s\n",
      "[CV] END model__C=1, model__class_weight=balanced, model__penalty=l2, model__solver=liblinear; total time=   1.2s\n",
      "[CV] END model__C=1, model__class_weight=balanced, model__penalty=l2, model__solver=liblinear; total time=   1.3s\n",
      "[CV] END model__C=1, model__class_weight=balanced, model__penalty=l2, model__solver=saga; total time=  28.9s\n",
      "[CV] END model__C=1, model__class_weight=balanced, model__penalty=l2, model__solver=saga; total time=  29.5s\n",
      "[CV] END model__C=1, model__class_weight=balanced, model__penalty=l2, model__solver=saga; total time=  31.1s\n",
      "[CV] END model__C=1, model__class_weight=balanced, model__penalty=l2, model__solver=saga; total time=  30.0s\n",
      "[CV] END model__C=5, model__class_weight=None, model__penalty=l1, model__solver=liblinear; total time=   2.5s\n",
      "[CV] END model__C=1, model__class_weight=balanced, model__penalty=l2, model__solver=saga; total time=  31.8s\n",
      "[CV] END model__C=5, model__class_weight=None, model__penalty=l1, model__solver=liblinear; total time=   1.9s\n",
      "[CV] END model__C=5, model__class_weight=None, model__penalty=l1, model__solver=liblinear; total time=   1.7s\n",
      "[CV] END model__C=5, model__class_weight=None, model__penalty=l1, model__solver=liblinear; total time=   2.0s\n",
      "[CV] END model__C=5, model__class_weight=None, model__penalty=l1, model__solver=liblinear; total time=   1.5s\n"
     ]
    },
    {
     "name": "stderr",
     "output_type": "stream",
     "text": [
      "/Users/danielcufino/miniforge3/envs/torch/lib/python3.8/site-packages/sklearn/linear_model/_sag.py:352: ConvergenceWarning: The max_iter was reached which means the coef_ did not converge\n",
      "  warnings.warn(\n"
     ]
    },
    {
     "name": "stdout",
     "output_type": "stream",
     "text": [
      "[CV] END model__C=1, model__class_weight=balanced, model__penalty=l1, model__solver=saga; total time=  47.7s\n"
     ]
    },
    {
     "name": "stderr",
     "output_type": "stream",
     "text": [
      "/Users/danielcufino/miniforge3/envs/torch/lib/python3.8/site-packages/sklearn/linear_model/_sag.py:352: ConvergenceWarning: The max_iter was reached which means the coef_ did not converge\n",
      "  warnings.warn(\n"
     ]
    },
    {
     "name": "stdout",
     "output_type": "stream",
     "text": [
      "[CV] END model__C=5, model__class_weight=None, model__penalty=l2, model__solver=liblinear; total time=   0.8s\n",
      "[CV] END model__C=1, model__class_weight=balanced, model__penalty=l1, model__solver=saga; total time=  47.9s\n",
      "[CV] END model__C=5, model__class_weight=None, model__penalty=l2, model__solver=liblinear; total time=   0.8s\n",
      "[CV] END model__C=5, model__class_weight=None, model__penalty=l2, model__solver=liblinear; total time=   1.1s\n",
      "[CV] END model__C=5, model__class_weight=None, model__penalty=l2, model__solver=liblinear; total time=   0.8s\n",
      "[CV] END model__C=5, model__class_weight=None, model__penalty=l2, model__solver=liblinear; total time=   0.8s\n",
      "[CV] END model__C=5, model__class_weight=None, model__penalty=l2, model__solver=saga; total time=   2.1s\n"
     ]
    },
    {
     "name": "stderr",
     "output_type": "stream",
     "text": [
      "/Users/danielcufino/miniforge3/envs/torch/lib/python3.8/site-packages/sklearn/linear_model/_sag.py:352: ConvergenceWarning: The max_iter was reached which means the coef_ did not converge\n",
      "  warnings.warn(\n"
     ]
    },
    {
     "name": "stdout",
     "output_type": "stream",
     "text": [
      "[CV] END model__C=1, model__class_weight=balanced, model__penalty=l1, model__solver=saga; total time=  46.0s\n",
      "[CV] END model__C=5, model__class_weight=None, model__penalty=l2, model__solver=saga; total time=   2.2s\n"
     ]
    },
    {
     "name": "stderr",
     "output_type": "stream",
     "text": [
      "/Users/danielcufino/miniforge3/envs/torch/lib/python3.8/site-packages/sklearn/linear_model/_sag.py:352: ConvergenceWarning: The max_iter was reached which means the coef_ did not converge\n",
      "  warnings.warn(\n",
      "/Users/danielcufino/miniforge3/envs/torch/lib/python3.8/site-packages/sklearn/linear_model/_sag.py:352: ConvergenceWarning: The max_iter was reached which means the coef_ did not converge\n",
      "  warnings.warn(\n"
     ]
    },
    {
     "name": "stdout",
     "output_type": "stream",
     "text": [
      "[CV] END model__C=1, model__class_weight=balanced, model__penalty=l1, model__solver=saga; total time=  45.9s\n",
      "[CV] END model__C=1, model__class_weight=balanced, model__penalty=l1, model__solver=saga; total time=  46.6s\n",
      "[CV] END model__C=5, model__class_weight=None, model__penalty=l2, model__solver=saga; total time=   2.0s\n",
      "[CV] END model__C=5, model__class_weight=balanced, model__penalty=l1, model__solver=liblinear; total time=   1.8s\n",
      "[CV] END model__C=5, model__class_weight=None, model__penalty=l2, model__solver=saga; total time=   2.5s\n",
      "[CV] END model__C=5, model__class_weight=balanced, model__penalty=l1, model__solver=liblinear; total time=   2.5s\n",
      "[CV] END model__C=5, model__class_weight=balanced, model__penalty=l1, model__solver=liblinear; total time=   1.6s\n",
      "[CV] END model__C=5, model__class_weight=balanced, model__penalty=l1, model__solver=liblinear; total time=   2.0s\n",
      "[CV] END model__C=5, model__class_weight=balanced, model__penalty=l1, model__solver=liblinear; total time=   1.5s\n",
      "[CV] END model__C=5, model__class_weight=None, model__penalty=l2, model__solver=saga; total time=  29.3s\n"
     ]
    },
    {
     "name": "stderr",
     "output_type": "stream",
     "text": [
      "/Users/danielcufino/miniforge3/envs/torch/lib/python3.8/site-packages/sklearn/linear_model/_sag.py:352: ConvergenceWarning: The max_iter was reached which means the coef_ did not converge\n",
      "  warnings.warn(\n"
     ]
    },
    {
     "name": "stdout",
     "output_type": "stream",
     "text": [
      "[CV] END model__C=5, model__class_weight=None, model__penalty=l1, model__solver=saga; total time=  43.9s\n"
     ]
    },
    {
     "name": "stderr",
     "output_type": "stream",
     "text": [
      "/Users/danielcufino/miniforge3/envs/torch/lib/python3.8/site-packages/sklearn/linear_model/_sag.py:352: ConvergenceWarning: The max_iter was reached which means the coef_ did not converge\n",
      "  warnings.warn(\n"
     ]
    },
    {
     "name": "stdout",
     "output_type": "stream",
     "text": [
      "[CV] END model__C=5, model__class_weight=None, model__penalty=l1, model__solver=saga; total time=  44.2s\n",
      "[CV] END model__C=5, model__class_weight=balanced, model__penalty=l2, model__solver=liblinear; total time=   0.8s\n",
      "[CV] END model__C=5, model__class_weight=None, model__penalty=l1, model__solver=saga; total time=  43.9s\n"
     ]
    },
    {
     "name": "stderr",
     "output_type": "stream",
     "text": [
      "/Users/danielcufino/miniforge3/envs/torch/lib/python3.8/site-packages/sklearn/linear_model/_sag.py:352: ConvergenceWarning: The max_iter was reached which means the coef_ did not converge\n",
      "  warnings.warn(\n",
      "/Users/danielcufino/miniforge3/envs/torch/lib/python3.8/site-packages/sklearn/linear_model/_sag.py:352: ConvergenceWarning: The max_iter was reached which means the coef_ did not converge\n",
      "  warnings.warn(\n"
     ]
    },
    {
     "name": "stdout",
     "output_type": "stream",
     "text": [
      "[CV] END model__C=5, model__class_weight=None, model__penalty=l1, model__solver=saga; total time=  44.1s\n"
     ]
    },
    {
     "name": "stderr",
     "output_type": "stream",
     "text": [
      "/Users/danielcufino/miniforge3/envs/torch/lib/python3.8/site-packages/sklearn/linear_model/_sag.py:352: ConvergenceWarning: The max_iter was reached which means the coef_ did not converge\n",
      "  warnings.warn(\n"
     ]
    },
    {
     "name": "stdout",
     "output_type": "stream",
     "text": [
      "[CV] END model__C=5, model__class_weight=None, model__penalty=l1, model__solver=saga; total time=  44.1s\n",
      "[CV] END model__C=5, model__class_weight=balanced, model__penalty=l2, model__solver=liblinear; total time=   0.9s\n",
      "[CV] END model__C=5, model__class_weight=balanced, model__penalty=l2, model__solver=liblinear; total time=   1.3s\n",
      "[CV] END model__C=5, model__class_weight=balanced, model__penalty=l2, model__solver=liblinear; total time=   0.9s\n",
      "[CV] END model__C=5, model__class_weight=balanced, model__penalty=l2, model__solver=liblinear; total time=   1.0s\n",
      "[CV] END model__C=5, model__class_weight=balanced, model__penalty=l2, model__solver=saga; total time=   2.4s\n",
      "[CV] END model__C=5, model__class_weight=balanced, model__penalty=l2, model__solver=saga; total time=   2.1s\n",
      "[CV] END model__C=5, model__class_weight=balanced, model__penalty=l2, model__solver=saga; total time=   2.5s\n",
      "[CV] END model__C=5, model__class_weight=balanced, model__penalty=l2, model__solver=saga; total time=   2.6s\n",
      "[CV] END model__C=10, model__class_weight=None, model__penalty=l1, model__solver=liblinear; total time=   2.0s\n",
      "[CV] END model__C=10, model__class_weight=None, model__penalty=l1, model__solver=liblinear; total time=   2.3s\n",
      "[CV] END model__C=10, model__class_weight=None, model__penalty=l1, model__solver=liblinear; total time=   2.4s\n",
      "[CV] END model__C=10, model__class_weight=None, model__penalty=l1, model__solver=liblinear; total time=   2.6s\n",
      "[CV] END model__C=10, model__class_weight=None, model__penalty=l1, model__solver=liblinear; total time=   2.1s\n",
      "[CV] END model__C=10, model__class_weight=None, model__penalty=l1, model__solver=saga; total time=   3.1s\n",
      "[CV] END model__C=10, model__class_weight=None, model__penalty=l1, model__solver=saga; total time=   2.9s\n",
      "[CV] END model__C=10, model__class_weight=None, model__penalty=l1, model__solver=saga; total time=   3.0s\n",
      "[CV] END model__C=10, model__class_weight=None, model__penalty=l2, model__solver=liblinear; total time=   0.8s\n",
      "[CV] END model__C=10, model__class_weight=None, model__penalty=l2, model__solver=liblinear; total time=   0.7s\n"
     ]
    },
    {
     "name": "stderr",
     "output_type": "stream",
     "text": [
      "/Users/danielcufino/miniforge3/envs/torch/lib/python3.8/site-packages/joblib/externals/loky/process_executor.py:702: UserWarning: A worker stopped while some jobs were given to the executor. This can be caused by a too short worker timeout or by a memory leak.\n",
      "  warnings.warn(\n"
     ]
    },
    {
     "name": "stdout",
     "output_type": "stream",
     "text": [
      "[CV] END model__C=10, model__class_weight=None, model__penalty=l2, model__solver=liblinear; total time=   1.1s\n",
      "[CV] END model__C=10, model__class_weight=None, model__penalty=l1, model__solver=saga; total time=   2.5s\n",
      "[CV] END model__C=10, model__class_weight=None, model__penalty=l2, model__solver=liblinear; total time=   0.7s\n"
     ]
    },
    {
     "name": "stderr",
     "output_type": "stream",
     "text": [
      "/Users/danielcufino/miniforge3/envs/torch/lib/python3.8/site-packages/sklearn/linear_model/_sag.py:352: ConvergenceWarning: The max_iter was reached which means the coef_ did not converge\n",
      "  warnings.warn(\n"
     ]
    },
    {
     "name": "stdout",
     "output_type": "stream",
     "text": [
      "[CV] END model__C=5, model__class_weight=balanced, model__penalty=l1, model__solver=saga; total time=  45.2s\n",
      "[CV] END model__C=10, model__class_weight=None, model__penalty=l2, model__solver=liblinear; total time=   1.2s\n"
     ]
    },
    {
     "name": "stderr",
     "output_type": "stream",
     "text": [
      "/Users/danielcufino/miniforge3/envs/torch/lib/python3.8/site-packages/sklearn/linear_model/_sag.py:352: ConvergenceWarning: The max_iter was reached which means the coef_ did not converge\n",
      "  warnings.warn(\n",
      "/Users/danielcufino/miniforge3/envs/torch/lib/python3.8/site-packages/sklearn/linear_model/_sag.py:352: ConvergenceWarning: The max_iter was reached which means the coef_ did not converge\n",
      "  warnings.warn(\n",
      "/Users/danielcufino/miniforge3/envs/torch/lib/python3.8/site-packages/sklearn/linear_model/_sag.py:352: ConvergenceWarning: The max_iter was reached which means the coef_ did not converge\n",
      "  warnings.warn(\n"
     ]
    },
    {
     "name": "stdout",
     "output_type": "stream",
     "text": [
      "[CV] END model__C=5, model__class_weight=balanced, model__penalty=l1, model__solver=saga; total time=  44.9s\n",
      "[CV] END model__C=5, model__class_weight=balanced, model__penalty=l1, model__solver=saga; total time=  45.1s\n",
      "[CV] END model__C=5, model__class_weight=balanced, model__penalty=l1, model__solver=saga; total time=  45.1s\n",
      "[CV] END model__C=10, model__class_weight=None, model__penalty=l2, model__solver=saga; total time=   2.8s\n",
      "[CV] END model__C=10, model__class_weight=None, model__penalty=l2, model__solver=saga; total time=   2.2s\n",
      "[CV] END model__C=10, model__class_weight=balanced, model__penalty=l1, model__solver=liblinear; total time=   2.0s\n",
      "[CV] END model__C=10, model__class_weight=balanced, model__penalty=l1, model__solver=liblinear; total time=   2.2s\n",
      "[CV] END model__C=10, model__class_weight=None, model__penalty=l2, model__solver=saga; total time=   3.2s\n",
      "[CV] END model__C=10, model__class_weight=None, model__penalty=l2, model__solver=saga; total time=   2.6s\n",
      "[CV] END model__C=10, model__class_weight=balanced, model__penalty=l1, model__solver=liblinear; total time=   2.2s\n",
      "[CV] END model__C=10, model__class_weight=balanced, model__penalty=l1, model__solver=liblinear; total time=   2.3s\n",
      "[CV] END model__C=10, model__class_weight=balanced, model__penalty=l1, model__solver=liblinear; total time=   1.9s\n",
      "[CV] END model__C=10, model__class_weight=balanced, model__penalty=l2, model__solver=liblinear; total time=   0.8s\n",
      "[CV] END model__C=10, model__class_weight=balanced, model__penalty=l1, model__solver=saga; total time=   3.0s\n",
      "[CV] END model__C=10, model__class_weight=balanced, model__penalty=l1, model__solver=saga; total time=   3.0s\n",
      "[CV] END model__C=10, model__class_weight=balanced, model__penalty=l2, model__solver=liblinear; total time=   1.1s\n",
      "[CV] END model__C=10, model__class_weight=balanced, model__penalty=l1, model__solver=saga; total time=   3.1s\n",
      "[CV] END model__C=10, model__class_weight=balanced, model__penalty=l2, model__solver=liblinear; total time=   0.8s\n",
      "[CV] END model__C=10, model__class_weight=balanced, model__penalty=l1, model__solver=saga; total time=   2.6s\n",
      "[CV] END model__C=10, model__class_weight=balanced, model__penalty=l2, model__solver=liblinear; total time=   0.9s\n",
      "[CV] END model__C=10, model__class_weight=balanced, model__penalty=l2, model__solver=liblinear; total time=   0.8s\n",
      "[CV] END model__C=10, model__class_weight=balanced, model__penalty=l2, model__solver=saga; total time=   2.1s\n",
      "[CV] END model__C=10, model__class_weight=balanced, model__penalty=l2, model__solver=saga; total time=   2.2s\n",
      "[CV] END model__C=10, model__class_weight=balanced, model__penalty=l2, model__solver=saga; total time=   1.8s\n",
      "[CV] END model__C=10, model__class_weight=balanced, model__penalty=l2, model__solver=saga; total time=   2.0s\n",
      "[CV] END model__C=5, model__class_weight=balanced, model__penalty=l2, model__solver=saga; total time=  29.8s\n"
     ]
    },
    {
     "name": "stderr",
     "output_type": "stream",
     "text": [
      "/Users/danielcufino/miniforge3/envs/torch/lib/python3.8/site-packages/sklearn/linear_model/_sag.py:352: ConvergenceWarning: The max_iter was reached which means the coef_ did not converge\n",
      "  warnings.warn(\n"
     ]
    },
    {
     "name": "stdout",
     "output_type": "stream",
     "text": [
      "[CV] END model__C=5, model__class_weight=balanced, model__penalty=l1, model__solver=saga; total time=  43.5s\n"
     ]
    },
    {
     "name": "stderr",
     "output_type": "stream",
     "text": [
      "/Users/danielcufino/miniforge3/envs/torch/lib/python3.8/site-packages/sklearn/linear_model/_sag.py:352: ConvergenceWarning: The max_iter was reached which means the coef_ did not converge\n",
      "  warnings.warn(\n"
     ]
    },
    {
     "name": "stdout",
     "output_type": "stream",
     "text": [
      "[CV] END model__C=10, model__class_weight=None, model__penalty=l1, model__solver=saga; total time=  37.8s\n"
     ]
    },
    {
     "name": "stderr",
     "output_type": "stream",
     "text": [
      "/Users/danielcufino/miniforge3/envs/torch/lib/python3.8/site-packages/sklearn/linear_model/_sag.py:352: ConvergenceWarning: The max_iter was reached which means the coef_ did not converge\n",
      "  warnings.warn(\n"
     ]
    },
    {
     "name": "stdout",
     "output_type": "stream",
     "text": [
      "[CV] END model__C=10, model__class_weight=None, model__penalty=l2, model__solver=saga; total time=  33.3s\n"
     ]
    },
    {
     "name": "stderr",
     "output_type": "stream",
     "text": [
      "/Users/danielcufino/miniforge3/envs/torch/lib/python3.8/site-packages/sklearn/linear_model/_sag.py:352: ConvergenceWarning: The max_iter was reached which means the coef_ did not converge\n",
      "  warnings.warn(\n",
      "/Users/danielcufino/miniforge3/envs/torch/lib/python3.8/site-packages/sklearn/linear_model/_sag.py:352: ConvergenceWarning: The max_iter was reached which means the coef_ did not converge\n",
      "  warnings.warn(\n"
     ]
    },
    {
     "name": "stdout",
     "output_type": "stream",
     "text": [
      "[CV] END model__C=10, model__class_weight=balanced, model__penalty=l1, model__solver=saga; total time=  32.3s\n",
      "[CV] END model__C=10, model__class_weight=balanced, model__penalty=l2, model__solver=saga; total time=  28.7s\n"
     ]
    }
   ],
   "source": [
    "from sklearn.linear_model import LogisticRegression\n",
    "from sklearn.metrics import balanced_accuracy_score, accuracy_score, confusion_matrix\n",
    "from sklearn.model_selection import train_test_split\n",
    "from sklearn.preprocessing import StandardScaler\n",
    "from sklearn.pipeline import Pipeline\n",
    "from sklearn.model_selection import GridSearchCV\n",
    "from imblearn.over_sampling import SMOTE\n",
    "\n",
    "from imblearn.pipeline import Pipeline as ImbPipeline\n",
    "from sklearn.compose import ColumnTransformer\n",
    "from sklearn.preprocessing import OneHotEncoder\n",
    "\n",
    "numeric_cols = [\"fw_similarity\", \"adp_dist\", \"pre_oracle\", \"post_oracle\", \"fw_pre_interaction\", \"fw_post_interaction\", \"pre_test_score\", \"post_test_score\", \"post_skeletal_distance_to_soma\", \"pre_skeletal_distance_to_soma\"]\n",
    "cat_cols = ['projection_group', \"compartment\"]\n",
    "all_cols = numeric_cols + cat_cols\n",
    "\n",
    "preprocessor = ColumnTransformer(\n",
    "    transformers=[\n",
    "        ('num', StandardScaler(), numeric_cols),\n",
    "        ('cat', OneHotEncoder(), cat_cols)\n",
    "    ],\n",
    "    remainder='passthrough' \n",
    ")\n",
    "\n",
    "\n",
    "pipe = ImbPipeline([\n",
    "    ('preprocessing', preprocessor), \n",
    "    ('sampling', SMOTE(random_state=2)),\n",
    "    ('model', LogisticRegression(random_state=2, max_iter=300))\n",
    "])\n",
    "\n",
    "param_grid = {\n",
    "    'model__C': [0.00001, 0.0001, 0.001, 0.01, 0.1, 1, 5, 10],\n",
    "    'model__penalty': ['l1', 'l2'],\n",
    "    'model__solver': ['liblinear', 'saga'],\n",
    "    'model__class_weight': [None, 'balanced']\n",
    "}\n",
    "\n",
    "\n",
    "train_data, test_data = train_test_split(data, test_size=0.2, random_state=1)\n",
    "\n",
    "grid_search = GridSearchCV(pipe, param_grid, scoring='balanced_accuracy', cv=5, verbose=2, n_jobs=-1)\n",
    "\n",
    "grid_search.fit(train_data[all_cols], train_data[\"connected\"])\n",
    "\n",
    "\n",
    "best_model = grid_search.best_estimator_\n",
    "\n",
    "test_data['pred'] = best_model.predict(test_data[all_cols])"
   ]
  },
  {
   "cell_type": "code",
   "execution_count": 9,
   "metadata": {},
   "outputs": [
    {
     "data": {
      "text/plain": [
       "(LogisticRegression(C=0.1, max_iter=300, random_state=2, solver='saga'), 'l2')"
      ]
     },
     "execution_count": 9,
     "metadata": {},
     "output_type": "execute_result"
    }
   ],
   "source": [
    "best_model.steps[2][1], best_model.steps[2][1].penalty\n"
   ]
  },
  {
   "cell_type": "code",
   "execution_count": 12,
   "metadata": {},
   "outputs": [
    {
     "name": "stdout",
     "output_type": "stream",
     "text": [
      "Accuracy: 0.7174644173594855\n",
      "Balanced Accuracy: 0.780772993522433\n",
      "[[26437 10459]\n",
      " [   42   229]]\n"
     ]
    }
   ],
   "source": [
    "# Compute accuracy\n",
    "accuracy = accuracy_score(test_data['connected'], test_data['pred'] > 0.5)\n",
    "print(f\"Accuracy: {accuracy}\")\n",
    "\n",
    "# Compute balanced accuracy\n",
    "balanced_accuracy = balanced_accuracy_score(test_data['connected'], test_data['pred'] > 0.5)\n",
    "print(f\"Balanced Accuracy: {balanced_accuracy}\")\n",
    "\n",
    "# Display the confusion matrix\n",
    "conf_matrix = confusion_matrix(test_data['connected'], test_data['pred'] > 0.5)\n",
    "print(conf_matrix)\n"
   ]
  },
  {
   "cell_type": "code",
   "execution_count": 26,
   "metadata": {},
   "outputs": [
    {
     "name": "stdout",
     "output_type": "stream",
     "text": [
      "Accuracy: 0.7174644173594855\n",
      "Balanced Accuracy: 0.780772993522433\n",
      "[[26437 10459]\n",
      " [   42   229]]\n"
     ]
    }
   ],
   "source": [
    "# Compute accuracy\n",
    "accuracy = accuracy_score(test_data['connected'], test_data['pred'] > 0.5)\n",
    "print(f\"Accuracy: {accuracy}\")\n",
    "\n",
    "# Compute balanced accuracy\n",
    "balanced_accuracy = balanced_accuracy_score(test_data['connected'], test_data['pred'] > 0.5)\n",
    "print(f\"Balanced Accuracy: {balanced_accuracy}\")\n",
    "\n",
    "# Display the confusion matrix\n",
    "conf_matrix = confusion_matrix(test_data['connected'], test_data['pred'] > 0.5)\n",
    "print(conf_matrix)\n"
   ]
  },
  {
   "cell_type": "markdown",
   "metadata": {},
   "source": [
    "ADASYN:\n",
    "\n",
    "Accuracy: 0.7106034923453601\n",
    "Balanced Accuracy: 0.7773173343723897\n",
    "[[26182 10714]\n",
    " [   42   229]]"
   ]
  },
  {
   "cell_type": "markdown",
   "metadata": {},
   "source": [
    "smote\n",
    "\n",
    "Accuracy: 0.7106034923453601\n",
    "Balanced Accuracy: 0.7773173343723897\n",
    "[[26182 10714]\n",
    " [   42   229]]"
   ]
  },
  {
   "cell_type": "markdown",
   "metadata": {},
   "source": [
    ".7379"
   ]
  },
  {
   "cell_type": "markdown",
   "metadata": {},
   "source": [
    "ACC WITH PROJ:\n",
    "Accuracy: 0.6564156375279145\n",
    "Balanced Accuracy: 0.7372041349695804\n",
    "[[24175 12721]\n",
    " [   49   222]]"
   ]
  },
  {
   "cell_type": "markdown",
   "metadata": {},
   "source": []
  }
 ],
 "metadata": {
  "kernelspec": {
   "display_name": "Python 3",
   "language": "python",
   "name": "python3"
  },
  "language_info": {
   "codemirror_mode": {
    "name": "ipython",
    "version": 3
   },
   "file_extension": ".py",
   "mimetype": "text/x-python",
   "name": "python",
   "nbconvert_exporter": "python",
   "pygments_lexer": "ipython3",
   "version": "3.8.13"
  }
 },
 "nbformat": 4,
 "nbformat_minor": 2
}
